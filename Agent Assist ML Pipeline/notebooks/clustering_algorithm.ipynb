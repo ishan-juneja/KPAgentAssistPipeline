{
 "cells": [
  {
   "cell_type": "code",
   "execution_count": 3,
   "id": "20728fa8",
   "metadata": {},
   "outputs": [
    {
     "name": "stdout",
     "output_type": "stream",
     "text": [
      "['Payroll / Compensation' 'Leave Management / FMLA'\n",
      " 'Enrollment & Benefits' 'Access & Technical Issues' 'Retirement'\n",
      " 'Other / Miscellaneous' 'HR General / Operations' 'Taxes & Withholding'\n",
      " 'Disability & State Claims' 'Verification & Documentation'\n",
      " 'Timekeeping & Scheduling' 'Job Changes & Terminations']\n"
     ]
    }
   ],
   "source": [
    "import pandas as pd\n",
    "\n",
    "df = pd.read_csv(\"../final_labeled_errors.csv\")\n",
    "print(df[\"Parent Label\"].unique())"
   ]
  }
 ],
 "metadata": {
  "kernelspec": {
   "display_name": "Python 3",
   "language": "python",
   "name": "python3"
  },
  "language_info": {
   "codemirror_mode": {
    "name": "ipython",
    "version": 3
   },
   "file_extension": ".py",
   "mimetype": "text/x-python",
   "name": "python",
   "nbconvert_exporter": "python",
   "pygments_lexer": "ipython3",
   "version": "3.10.1"
  }
 },
 "nbformat": 4,
 "nbformat_minor": 5
}
