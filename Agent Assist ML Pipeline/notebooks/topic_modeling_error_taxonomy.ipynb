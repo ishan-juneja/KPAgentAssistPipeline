{
 "cells": [
  {
   "cell_type": "markdown",
   "id": "c2b8c79c",
   "metadata": {},
   "source": [
    "Install Libraries"
   ]
  },
  {
   "cell_type": "code",
   "execution_count": 1,
   "id": "7d94fd49",
   "metadata": {},
   "outputs": [
    {
     "name": "stdout",
     "output_type": "stream",
     "text": [
      "c:\\Users\\A128842\\AppData\\Local\\Programs\\Python\\Python310\\python.exe\n",
      "3.10.1 (tags/v3.10.1:2cd268a, Dec  6 2021, 19:10:37) [MSC v.1929 64 bit (AMD64)]\n",
      "Requirement already satisfied: bertopic[visualization] in c:\\users\\a128842\\appdata\\local\\programs\\python\\python310\\lib\\site-packages (0.17.0)\n",
      "Requirement already satisfied: sentence-transformers in c:\\users\\a128842\\appdata\\local\\programs\\python\\python310\\lib\\site-packages (4.1.0)\n",
      "Requirement already satisfied: hdbscan>=0.8.29 in c:\\users\\a128842\\appdata\\local\\programs\\python\\python310\\lib\\site-packages (from bertopic[visualization]) (0.8.40)\n",
      "Requirement already satisfied: pandas>=1.1.5 in c:\\users\\a128842\\appdata\\local\\programs\\python\\python310\\lib\\site-packages (from bertopic[visualization]) (2.3.0)\n",
      "Requirement already satisfied: tqdm>=4.41.1 in c:\\users\\a128842\\appdata\\roaming\\python\\python310\\site-packages (from bertopic[visualization]) (4.67.1)\n",
      "Requirement already satisfied: numpy>=1.20.0 in c:\\users\\a128842\\appdata\\roaming\\python\\python310\\site-packages (from bertopic[visualization]) (1.26.4)\n",
      "Requirement already satisfied: umap-learn>=0.5.0 in c:\\users\\a128842\\appdata\\local\\programs\\python\\python310\\lib\\site-packages (from bertopic[visualization]) (0.5.7)\n",
      "Requirement already satisfied: scikit-learn>=1.0 in c:\\users\\a128842\\appdata\\local\\programs\\python\\python310\\lib\\site-packages (from bertopic[visualization]) (1.7.0)\n",
      "Requirement already satisfied: plotly>=4.7.0 in c:\\users\\a128842\\appdata\\local\\programs\\python\\python310\\lib\\site-packages (from bertopic[visualization]) (6.1.2)\n",
      "Requirement already satisfied: Pillow in c:\\users\\a128842\\appdata\\local\\programs\\python\\python310\\lib\\site-packages (from sentence-transformers) (11.2.1)\n",
      "Requirement already satisfied: transformers<5.0.0,>=4.41.0 in c:\\users\\a128842\\appdata\\local\\programs\\python\\python310\\lib\\site-packages (from sentence-transformers) (4.52.4)\n",
      "Requirement already satisfied: scipy in c:\\users\\a128842\\appdata\\local\\programs\\python\\python310\\lib\\site-packages (from sentence-transformers) (1.15.3)\n",
      "Requirement already satisfied: torch>=1.11.0 in c:\\users\\a128842\\appdata\\local\\programs\\python\\python310\\lib\\site-packages (from sentence-transformers) (2.7.1)\n",
      "Requirement already satisfied: huggingface-hub>=0.20.0 in c:\\users\\a128842\\appdata\\local\\programs\\python\\python310\\lib\\site-packages (from sentence-transformers) (0.33.0)\n",
      "Requirement already satisfied: typing_extensions>=4.5.0 in c:\\users\\a128842\\appdata\\roaming\\python\\python310\\site-packages (from sentence-transformers) (4.14.0)\n",
      "Requirement already satisfied: joblib>=1.0 in c:\\users\\a128842\\appdata\\local\\programs\\python\\python310\\lib\\site-packages (from hdbscan>=0.8.29->bertopic[visualization]) (1.5.1)\n",
      "Requirement already satisfied: packaging>=20.9 in c:\\users\\a128842\\appdata\\roaming\\python\\python310\\site-packages (from huggingface-hub>=0.20.0->sentence-transformers) (25.0)\n",
      "Requirement already satisfied: filelock in c:\\users\\a128842\\appdata\\local\\programs\\python\\python310\\lib\\site-packages (from huggingface-hub>=0.20.0->sentence-transformers) (3.18.0)\n",
      "Requirement already satisfied: requests in c:\\users\\a128842\\appdata\\roaming\\python\\python310\\site-packages (from huggingface-hub>=0.20.0->sentence-transformers) (2.32.4)\n",
      "Requirement already satisfied: fsspec>=2023.5.0 in c:\\users\\a128842\\appdata\\local\\programs\\python\\python310\\lib\\site-packages (from huggingface-hub>=0.20.0->sentence-transformers) (2025.5.1)\n",
      "Requirement already satisfied: pyyaml>=5.1 in c:\\users\\a128842\\appdata\\local\\programs\\python\\python310\\lib\\site-packages (from huggingface-hub>=0.20.0->sentence-transformers) (6.0.2)\n",
      "Requirement already satisfied: pytz>=2020.1 in c:\\users\\a128842\\appdata\\local\\programs\\python\\python310\\lib\\site-packages (from pandas>=1.1.5->bertopic[visualization]) (2025.2)\n",
      "Requirement already satisfied: python-dateutil>=2.8.2 in c:\\users\\a128842\\appdata\\local\\programs\\python\\python310\\lib\\site-packages (from pandas>=1.1.5->bertopic[visualization]) (2.9.0.post0)\n",
      "Requirement already satisfied: tzdata>=2022.7 in c:\\users\\a128842\\appdata\\local\\programs\\python\\python310\\lib\\site-packages (from pandas>=1.1.5->bertopic[visualization]) (2025.2)\n",
      "Requirement already satisfied: narwhals>=1.15.1 in c:\\users\\a128842\\appdata\\local\\programs\\python\\python310\\lib\\site-packages (from plotly>=4.7.0->bertopic[visualization]) (1.44.0)\n",
      "Requirement already satisfied: six>=1.5 in c:\\users\\a128842\\appdata\\roaming\\python\\python310\\site-packages (from python-dateutil>=2.8.2->pandas>=1.1.5->bertopic[visualization]) (1.17.0)\n",
      "Requirement already satisfied: threadpoolctl>=3.1.0 in c:\\users\\a128842\\appdata\\local\\programs\\python\\python310\\lib\\site-packages (from scikit-learn>=1.0->bertopic[visualization]) (3.6.0)\n",
      "Requirement already satisfied: networkx in c:\\users\\a128842\\appdata\\local\\programs\\python\\python310\\lib\\site-packages (from torch>=1.11.0->sentence-transformers) (3.4.2)\n",
      "Requirement already satisfied: jinja2 in c:\\users\\a128842\\appdata\\roaming\\python\\python310\\site-packages (from torch>=1.11.0->sentence-transformers) (3.1.6)\n",
      "Requirement already satisfied: sympy>=1.13.3 in c:\\users\\a128842\\appdata\\local\\programs\\python\\python310\\lib\\site-packages (from torch>=1.11.0->sentence-transformers) (1.14.0)\n",
      "Requirement already satisfied: mpmath<1.4,>=1.1.0 in c:\\users\\a128842\\appdata\\local\\programs\\python\\python310\\lib\\site-packages (from sympy>=1.13.3->torch>=1.11.0->sentence-transformers) (1.3.0)\n",
      "Requirement already satisfied: colorama in c:\\users\\a128842\\appdata\\roaming\\python\\python310\\site-packages (from tqdm>=4.41.1->bertopic[visualization]) (0.4.6)\n",
      "Requirement already satisfied: regex!=2019.12.17 in c:\\users\\a128842\\appdata\\local\\programs\\python\\python310\\lib\\site-packages (from transformers<5.0.0,>=4.41.0->sentence-transformers) (2024.11.6)\n",
      "Requirement already satisfied: safetensors>=0.4.3 in c:\\users\\a128842\\appdata\\local\\programs\\python\\python310\\lib\\site-packages (from transformers<5.0.0,>=4.41.0->sentence-transformers) (0.5.3)\n",
      "Requirement already satisfied: tokenizers<0.22,>=0.21 in c:\\users\\a128842\\appdata\\local\\programs\\python\\python310\\lib\\site-packages (from transformers<5.0.0,>=4.41.0->sentence-transformers) (0.21.2)\n",
      "Requirement already satisfied: numba>=0.51.2 in c:\\users\\a128842\\appdata\\local\\programs\\python\\python310\\lib\\site-packages (from umap-learn>=0.5.0->bertopic[visualization]) (0.61.2)\n",
      "Requirement already satisfied: pynndescent>=0.5 in c:\\users\\a128842\\appdata\\local\\programs\\python\\python310\\lib\\site-packages (from umap-learn>=0.5.0->bertopic[visualization]) (0.5.13)\n",
      "Requirement already satisfied: llvmlite<0.45,>=0.44.0dev0 in c:\\users\\a128842\\appdata\\local\\programs\\python\\python310\\lib\\site-packages (from numba>=0.51.2->umap-learn>=0.5.0->bertopic[visualization]) (0.44.0)\n",
      "Requirement already satisfied: MarkupSafe>=2.0 in c:\\users\\a128842\\appdata\\roaming\\python\\python310\\site-packages (from jinja2->torch>=1.11.0->sentence-transformers) (3.0.2)\n",
      "Requirement already satisfied: urllib3<3,>=1.21.1 in c:\\users\\a128842\\appdata\\roaming\\python\\python310\\site-packages (from requests->huggingface-hub>=0.20.0->sentence-transformers) (2.5.0)\n",
      "Requirement already satisfied: charset_normalizer<4,>=2 in c:\\users\\a128842\\appdata\\roaming\\python\\python310\\site-packages (from requests->huggingface-hub>=0.20.0->sentence-transformers) (3.4.2)\n",
      "Requirement already satisfied: certifi>=2017.4.17 in c:\\users\\a128842\\appdata\\roaming\\python\\python310\\site-packages (from requests->huggingface-hub>=0.20.0->sentence-transformers) (2025.6.15)\n",
      "Requirement already satisfied: idna<4,>=2.5 in c:\\users\\a128842\\appdata\\roaming\\python\\python310\\site-packages (from requests->huggingface-hub>=0.20.0->sentence-transformers) (3.10)\n"
     ]
    },
    {
     "name": "stderr",
     "output_type": "stream",
     "text": [
      "WARNING: bertopic 0.17.0 does not provide the extra 'visualization'\n",
      "WARNING: You are using pip version 21.2.4; however, version 25.1.1 is available.\n",
      "You should consider upgrading via the 'c:\\Users\\A128842\\AppData\\Local\\Programs\\Python\\Python310\\python.exe -m pip install --upgrade pip' command.\n"
     ]
    }
   ],
   "source": [
    "import sys\n",
    "print(sys.executable)\n",
    "print(sys.version)\n",
    "!\"{sys.executable}\" -m pip install bertopic[visualization] sentence-transformers"
   ]
  },
  {
   "cell_type": "code",
   "execution_count": 4,
   "id": "f981cacd",
   "metadata": {},
   "outputs": [
    {
     "name": "stdout",
     "output_type": "stream",
     "text": [
      "c:\\Users\\A128842\\AppData\\Local\\Programs\\Python\\Python310\\python.exe\n",
      "3.10.1 (tags/v3.10.1:2cd268a, Dec  6 2021, 19:10:37) [MSC v.1929 64 bit (AMD64)]\n"
     ]
    },
    {
     "name": "stderr",
     "output_type": "stream",
     "text": [
      "WARNING: bertopic 0.17.0 does not provide the extra 'visualization'\n",
      "WARNING: You are using pip version 21.2.4; however, version 25.1.1 is available.\n",
      "You should consider upgrading via the 'c:\\Users\\A128842\\AppData\\Local\\Programs\\Python\\Python310\\python.exe -m pip install --upgrade pip' command.\n"
     ]
    },
    {
     "name": "stdout",
     "output_type": "stream",
     "text": [
      "Requirement already satisfied: matplotlib in c:\\users\\a128842\\appdata\\local\\programs\\python\\python310\\lib\\site-packages (3.10.3)\n",
      "Requirement already satisfied: pyparsing>=2.3.1 in c:\\users\\a128842\\appdata\\local\\programs\\python\\python310\\lib\\site-packages (from matplotlib) (3.2.3)\n",
      "Requirement already satisfied: pillow>=8 in c:\\users\\a128842\\appdata\\local\\programs\\python\\python310\\lib\\site-packages (from matplotlib) (11.2.1)\n",
      "Requirement already satisfied: kiwisolver>=1.3.1 in c:\\users\\a128842\\appdata\\local\\programs\\python\\python310\\lib\\site-packages (from matplotlib) (1.4.8)\n",
      "Requirement already satisfied: python-dateutil>=2.7 in c:\\users\\a128842\\appdata\\local\\programs\\python\\python310\\lib\\site-packages (from matplotlib) (2.9.0.post0)\n",
      "Requirement already satisfied: fonttools>=4.22.0 in c:\\users\\a128842\\appdata\\local\\programs\\python\\python310\\lib\\site-packages (from matplotlib) (4.58.4)\n",
      "Requirement already satisfied: packaging>=20.0 in c:\\users\\a128842\\appdata\\roaming\\python\\python310\\site-packages (from matplotlib) (25.0)\n",
      "Requirement already satisfied: contourpy>=1.0.1 in c:\\users\\a128842\\appdata\\local\\programs\\python\\python310\\lib\\site-packages (from matplotlib) (1.3.2)\n",
      "Requirement already satisfied: numpy>=1.23 in c:\\users\\a128842\\appdata\\roaming\\python\\python310\\site-packages (from matplotlib) (1.26.4)\n",
      "Requirement already satisfied: cycler>=0.10 in c:\\users\\a128842\\appdata\\local\\programs\\python\\python310\\lib\\site-packages (from matplotlib) (0.12.1)\n",
      "Requirement already satisfied: six>=1.5 in c:\\users\\a128842\\appdata\\roaming\\python\\python310\\site-packages (from python-dateutil>=2.7->matplotlib) (1.17.0)\n"
     ]
    },
    {
     "name": "stderr",
     "output_type": "stream",
     "text": [
      "WARNING: You are using pip version 21.2.4; however, version 25.1.1 is available.\n",
      "You should consider upgrading via the 'c:\\Users\\A128842\\AppData\\Local\\Programs\\Python\\Python310\\python.exe -m pip install --upgrade pip' command.\n"
     ]
    }
   ],
   "source": [
    "import sys\n",
    "print(sys.executable)\n",
    "print(sys.version)\n",
    "!\"{sys.executable}\" -m pip install bertopic[visualization] -q\n",
    "!\"{sys.executable}\" -m pip install matplotlib"
   ]
  },
  {
   "cell_type": "code",
   "execution_count": 116,
   "id": "de8ae629",
   "metadata": {},
   "outputs": [],
   "source": [
    "import pandas as pd\n",
    "from bertopic import BERTopic\n",
    "from sentence_transformers import SentenceTransformer\n",
    "import matplotlib.pyplot as plt"
   ]
  },
  {
   "cell_type": "markdown",
   "id": "6bdfe755",
   "metadata": {},
   "source": [
    "Load Data"
   ]
  },
  {
   "cell_type": "code",
   "execution_count": 117,
   "id": "9a46b47e",
   "metadata": {},
   "outputs": [
    {
     "data": {
      "text/html": [
       "<div>\n",
       "<style scoped>\n",
       "    .dataframe tbody tr th:only-of-type {\n",
       "        vertical-align: middle;\n",
       "    }\n",
       "\n",
       "    .dataframe tbody tr th {\n",
       "        vertical-align: top;\n",
       "    }\n",
       "\n",
       "    .dataframe thead th {\n",
       "        text-align: right;\n",
       "    }\n",
       "</style>\n",
       "<table border=\"1\" class=\"dataframe\">\n",
       "  <thead>\n",
       "    <tr style=\"text-align: right;\">\n",
       "      <th></th>\n",
       "      <th>Label</th>\n",
       "      <th>Error</th>\n",
       "      <th>Parent Label</th>\n",
       "    </tr>\n",
       "  </thead>\n",
       "  <tbody>\n",
       "    <tr>\n",
       "      <th>0</th>\n",
       "      <td>178_advance_specialist_ed_salary</td>\n",
       "      <td>0</td>\n",
       "      <td>NaN</td>\n",
       "    </tr>\n",
       "    <tr>\n",
       "      <th>1</th>\n",
       "      <td>178_advance_specialist_ed_salary</td>\n",
       "      <td>0</td>\n",
       "      <td>NaN</td>\n",
       "    </tr>\n",
       "    <tr>\n",
       "      <th>2</th>\n",
       "      <td>-1_leave_fmla_case_status</td>\n",
       "      <td>FMLA paperwork delays</td>\n",
       "      <td>NaN</td>\n",
       "    </tr>\n",
       "    <tr>\n",
       "      <th>3</th>\n",
       "      <td>-1_leave_fmla_case_status</td>\n",
       "      <td>FMLA eligibility confusion</td>\n",
       "      <td>NaN</td>\n",
       "    </tr>\n",
       "    <tr>\n",
       "      <th>4</th>\n",
       "      <td>-1_leave_fmla_case_status</td>\n",
       "      <td>Leave absence request processing slow</td>\n",
       "      <td>NaN</td>\n",
       "    </tr>\n",
       "    <tr>\n",
       "      <th>5</th>\n",
       "      <td>-1_leave_fmla_case_status</td>\n",
       "      <td>Documentation upload issues</td>\n",
       "      <td>NaN</td>\n",
       "    </tr>\n",
       "    <tr>\n",
       "      <th>6</th>\n",
       "      <td>-1_leave_fmla_case_status</td>\n",
       "      <td>Payroll discrepancies</td>\n",
       "      <td>NaN</td>\n",
       "    </tr>\n",
       "    <tr>\n",
       "      <th>7</th>\n",
       "      <td>-1_leave_fmla_case_status</td>\n",
       "      <td>Leave balance errors</td>\n",
       "      <td>NaN</td>\n",
       "    </tr>\n",
       "    <tr>\n",
       "      <th>8</th>\n",
       "      <td>-1_leave_fmla_case_status</td>\n",
       "      <td>FMLA extension denials</td>\n",
       "      <td>NaN</td>\n",
       "    </tr>\n",
       "    <tr>\n",
       "      <th>9</th>\n",
       "      <td>-1_leave_fmla_case_status</td>\n",
       "      <td>Benefit enrollment issues</td>\n",
       "      <td>NaN</td>\n",
       "    </tr>\n",
       "    <tr>\n",
       "      <th>10</th>\n",
       "      <td>-1_leave_fmla_case_status</td>\n",
       "      <td>System maintenance causing delays</td>\n",
       "      <td>NaN</td>\n",
       "    </tr>\n",
       "    <tr>\n",
       "      <th>11</th>\n",
       "      <td>-1_leave_fmla_case_status</td>\n",
       "      <td>HRConnect navigation difficulties</td>\n",
       "      <td>NaN</td>\n",
       "    </tr>\n",
       "    <tr>\n",
       "      <th>12</th>\n",
       "      <td>-1_leave_fmla_case_status</td>\n",
       "      <td>Leave request form errors</td>\n",
       "      <td>NaN</td>\n",
       "    </tr>\n",
       "    <tr>\n",
       "      <th>13</th>\n",
       "      <td>-1_leave_fmla_case_status</td>\n",
       "      <td>FMLA doctor certification issues</td>\n",
       "      <td>NaN</td>\n",
       "    </tr>\n",
       "    <tr>\n",
       "      <th>14</th>\n",
       "      <td>-1_leave_fmla_case_status</td>\n",
       "      <td>Leave absence status updates missing</td>\n",
       "      <td>NaN</td>\n",
       "    </tr>\n",
       "  </tbody>\n",
       "</table>\n",
       "</div>"
      ],
      "text/plain": [
       "                               Label                                  Error  \\\n",
       "0   178_advance_specialist_ed_salary                                      0   \n",
       "1   178_advance_specialist_ed_salary                                      0   \n",
       "2          -1_leave_fmla_case_status                  FMLA paperwork delays   \n",
       "3          -1_leave_fmla_case_status             FMLA eligibility confusion   \n",
       "4          -1_leave_fmla_case_status  Leave absence request processing slow   \n",
       "5          -1_leave_fmla_case_status            Documentation upload issues   \n",
       "6          -1_leave_fmla_case_status                  Payroll discrepancies   \n",
       "7          -1_leave_fmla_case_status                   Leave balance errors   \n",
       "8          -1_leave_fmla_case_status                 FMLA extension denials   \n",
       "9          -1_leave_fmla_case_status              Benefit enrollment issues   \n",
       "10         -1_leave_fmla_case_status      System maintenance causing delays   \n",
       "11         -1_leave_fmla_case_status      HRConnect navigation difficulties   \n",
       "12         -1_leave_fmla_case_status              Leave request form errors   \n",
       "13         -1_leave_fmla_case_status       FMLA doctor certification issues   \n",
       "14         -1_leave_fmla_case_status   Leave absence status updates missing   \n",
       "\n",
       "    Parent Label  \n",
       "0            NaN  \n",
       "1            NaN  \n",
       "2            NaN  \n",
       "3            NaN  \n",
       "4            NaN  \n",
       "5            NaN  \n",
       "6            NaN  \n",
       "7            NaN  \n",
       "8            NaN  \n",
       "9            NaN  \n",
       "10           NaN  \n",
       "11           NaN  \n",
       "12           NaN  \n",
       "13           NaN  \n",
       "14           NaN  "
      ]
     },
     "execution_count": 117,
     "metadata": {},
     "output_type": "execute_result"
    }
   ],
   "source": [
    "# Load the cleaned dataset (replace path if needed)\n",
    "df = pd.read_csv(\"..\\llm_responses_5.csv\")\n",
    "# Let's preview the first few rows\n",
    "df.head(15)"
   ]
  },
  {
   "cell_type": "markdown",
   "id": "89eb7e11",
   "metadata": {},
   "source": [
    "Drop Rows with 0: those are rows with no useful information"
   ]
  },
  {
   "cell_type": "code",
   "execution_count": 118,
   "id": "5d08c7f8",
   "metadata": {},
   "outputs": [
    {
     "name": "stdout",
     "output_type": "stream",
     "text": [
      "0\n"
     ]
    }
   ],
   "source": [
    "df = df[df[\"Error\"].str.strip() != \"0\"]\n",
    "count_zero = (df[\"Error\"].str.strip() == \"0\").sum()\n",
    "print(count_zero)"
   ]
  },
  {
   "cell_type": "markdown",
   "id": "fff19069",
   "metadata": {},
   "source": [
    "Initialize BERTopic with cusom embedding model"
   ]
  },
  {
   "cell_type": "code",
   "execution_count": 120,
   "id": "137ab7ea",
   "metadata": {},
   "outputs": [],
   "source": [
    "# Load a SentenceTransformer model (can swap later for domain-tuned models)\n",
    "#embedding_model = SentenceTransformer(\"all-MiniLM-L6-v2\")\n",
    "# embedding_model_complex = SentenceTransformer(\"BAAI/bge-small-en-v1.5\")\n",
    "embedding_model_complex = SentenceTransformer(\"msmarco-MiniLM-L-6-v3\")"
   ]
  },
  {
   "cell_type": "markdown",
   "id": "63c8d0ad",
   "metadata": {},
   "source": [
    "Adjust our model knobs to better fit our data"
   ]
  },
  {
   "cell_type": "code",
   "execution_count": 122,
   "id": "cb72c6c0",
   "metadata": {},
   "outputs": [],
   "source": [
    "# Import UMAP for dimensionality reduction\n",
    "from umap import UMAP\n",
    "\n",
    "# Configure UMAP to preserve more global structure and reduce dimensionality sensibly\n",
    "umap_model = UMAP(\n",
    "    n_neighbors=20,    # How many neighbors to consider—higher = more global structure\n",
    "    n_components=5,    # How many dimensions to reduce to (default is 5)\n",
    "    min_dist=0.05,      # Minimum distance between points—lower = tighter clusters\n",
    "    metric=\"cosine\"    # Cosine distance usually works well for embeddings\n",
    ")\n",
    "\n",
    "# Import HDBSCAN for clustering\n",
    "from hdbscan import HDBSCAN\n",
    "\n",
    "# Configure HDBSCAN to find smaller, denser clusters\n",
    "hdbscan_model = HDBSCAN(\n",
    "    min_cluster_size=10,  # Minimum size for a cluster to be formed\n",
    "    min_samples=2         # Lower = less conservative, more clusters\n",
    ")\n",
    "\n",
    "# Finally, create the BERTopic instance with all custom components\n",
    "topic_model = BERTopic(\n",
    "    embedding_model=embedding_model_complex,  # SentenceTransformer model\n",
    "    umap_model=umap_model,            # configured UMAP\n",
    "    hdbscan_model=hdbscan_model,      # configured HDBSCAN\n",
    "    verbose=True                      # Print progress messages\n",
    ")"
   ]
  },
  {
   "cell_type": "markdown",
   "id": "dec28516",
   "metadata": {},
   "source": [
    "Fit BERTopic Model"
   ]
  },
  {
   "cell_type": "code",
   "execution_count": 152,
   "id": "be927319",
   "metadata": {},
   "outputs": [
    {
     "name": "stderr",
     "output_type": "stream",
     "text": [
      "2025-07-08 17:41:18,056 - BERTopic - Embedding - Transforming documents to embeddings.\n",
      "Batches: 100%|██████████| 32/32 [00:02<00:00, 13.16it/s]\n",
      "2025-07-08 17:41:20,504 - BERTopic - Embedding - Completed ✓\n",
      "2025-07-08 17:41:20,504 - BERTopic - Dimensionality - Fitting the dimensionality reduction algorithm\n",
      "2025-07-08 17:41:22,143 - BERTopic - Dimensionality - Completed ✓\n",
      "2025-07-08 17:41:22,146 - BERTopic - Cluster - Start clustering the reduced embeddings\n",
      "2025-07-08 17:41:22,205 - BERTopic - Cluster - Completed ✓\n",
      "2025-07-08 17:41:22,213 - BERTopic - Representation - Fine-tuning topics using representation models.\n",
      "2025-07-08 17:41:22,273 - BERTopic - Representation - Completed ✓\n"
     ]
    },
    {
     "name": "stdout",
     "output_type": "stream",
     "text": [
      "Index(['Label', 'Error', 'Parent Label', 'Topic', 'Topic_Probability'], dtype='object')\n",
      "['FMLA paperwork delays', 'FMLA eligibility confusion', 'Leave absence request processing slow', 'Documentation upload issues', 'Payroll discrepancies', 'FMLA extension denials', 'Benefit enrollment issues', 'System maintenance causing delays', 'HRConnect navigation difficulties', 'Leave request form errors', 'FMLA doctor certification issues', 'Leave absence status updates missing', 'FMLA leave date discrepancies', 'FMLA leave exhaustion clarification needed', 'KB', 'FMLA requirements unclear', 'FMLA leave request process complex', 'HR Connect access issues', 'FMLA documentation confusion', 'FMLA leave pay details missing', 'FMLA application reapplication needed', 'EDD FMLA handling frustration', 'FMLA leave schedule adjustment unclear', 'Manager lacks clear reminder system', 'FMLA form instructions unclear', 'FMLA form submission methods not specified', 'SMLA initiation process confusing', 'Retiree unable to locate retirement center number for medicare enrollment', 'Retiree frustrated with multiple redirects for medicare info', 'Retiree needs clarification on medicare part d enrollment', 'Retiree seeks help with medicare part d plan administrator contact', 'Retiree requires assistance with medicare reimbursement application', 'Retiree needs help with pension benefit contribution switch', 'Retiree seeks fidelity service center for pension transfer', 'Retiree needs clarification on medicare part c coverage', 'Retiree requires assistance with pension calculation due to work hours', 'Retiree seeks letter clarification from kaiser permanente', 'Retiree needs help with pension benefit transfer to fidelity', 'Retiree requires assistance with worker comp leave impact on pension', 'Retiree requests letter clarification from kaiser permanente', 'Birth certificate processing delay', 'KB article not provided in transcript', 'Error message prevents leave request submission', 'system prevents future date entry', 'FMLA eligibility criteria unclear', 'FMLA processing steps not detailed', 'FLSA status verification complex', 'KB articles not directly addressing specific payroll processing times', 'Employee termination quickpay payment issues not resolved', 'Billing issue verification failed', 'Benefit guide addition unclear', 'Enrollment period list outdated', 'Medicare benefit denial due date', 'Life insurance beneficiary setup confusion', 'Severance benefit end record update delay', 'Enrollment step documentation missing', 'Identity verification resource lack', 'Daughter insurance coverage verification failed', 'Life insurance information update slow', 'Pension information update delay', 'KB article not provided in first summary', 'FMLA eligibility criteria unclear in second summary', 'KB articles unclear', 'KB links broken', 'Document upload process confusing', 'KB', 'Employee', 'KB articles not provided in transcripts', 'Specific health plan details not addressed', 'Parent coverage eligibility unclear', 'Parent-dependent enrollment process not detailed', 'Kaiser plan costs not discussed', 'PMC direct HR connection not facilitated', 'Pay rate changes not reflecting on payslips', 'Merit increase discrepancies unresolved by managers', 'Salary history comparison tool lacks education for managers', 'KB articles not provided in transcripts', 'Employees unclear on wage claim form details', 'Missing form guide for leave requests', 'HR connect documentation needs improvement', 'Paycheck inquiry lacks specific issue details', 'Employee unsure about payroll cycle and payday timing', 'Employee confused about integrating PFL with PTO vacation', 'Maternity leave extension form unclear', 'Disability insurance reapplication process confusing', 'TDI claim form approval unclear', 'Manager needs leave form for duty modification', 'Leave balance and project dates not aligned', 'KB article not provided in transcript', 'Leave extension form submission process unclear', 'HR service center contact details missing', 'Complex leave policies confuse employees', 'PTO payout limits unclear', 'Education leave eligibility criteria not clear', 'VAC ETO PTO guidelines inconsistent', 'Long term disability integration with PTO unclear', 'Extended sick leave conversion rules confusing', 'Absence request approval process unclear', 'California-specific leave policies not well understood', 'KB articles lack detailed examples', 'KB articles contain broken links', 'California region leave policies unclear', 'California region seniority date process confusing', 'California region PTO integration with PFL complex', 'California region SDI pay integration options not well understood', 'California region leave absence request forms vary by location', 'Employee unsure about claim status', 'Employee lacks receipt number for tracking', 'Confusion on filing method online vs. mail', 'KB articles not provided in transcripts', 'Lack of detailed employee leave documentation', 'System refresh needed for timecard coding', 'Manager approval required for IR cycle status', \"Resigning employee's benefit access issues unresolved\", 'Employee unaware of leave type distinctions', 'Guidelines vary by region causing confusion', 'Notification delays impact employee awareness', 'Comment section instructions unclear for submitters', 'HR guidance unclear on specific leave types', 'KB article not provided in transcript', 'Timecard code discrepancy not addressed promptly', 'Vacation time proration unclear to employee', 'Leave date change process lacks clarity', 'Disability insurance integration with ESL leave unclear', 'Payday concerns not resolved in third call attempt', 'Discrepancy tracking system inefficient for employee concerns', 'FMLA documentation missing', 'FMLA extension denied due to missing forms', 'FMLA leave approval verification needed', 'FMLA condition status clarification required', 'FMLA deficiency notice clarity needed', 'FMLA leave entitlement reference unclear', 'FMLA form signing instructions not provided', 'FMLA leave extension approval delay', 'FMLA form requirements unclear', 'Doctor verification process not explained', 'Identity verification steps missing', 'Browser compatibility issues', 'Employee lacks access to HRConnect for termination process', 'W-2 retrieval requires website access', 'Discrepancy in personnel record access noted', 'Knowledge articles not effectively resolving issues', 'Employee lacks clear document submission guidelines', 'Employee unable to access case creation system', 'HR consultant access varies by region', 'Guidelines differ across regions causing confusion', 'Employee unable to find relevant KB articles', 'Case processing times not consistently communicated', 'Employee unable to locate consultant list', 'Employee lacks detailed FMLA denial explanations', 'FMLA approval status unclear', 'FMLA renewal process confusing', 'FMLA paperwork processing time unclear', 'Duplicate case updates causing confusion', 'FMLA policy clarification needed', 'Employee file information verification issues', 'Department handling FMLA requests unclear', 'Leave extension requests causing confusion', 'FMLA application disregard causing issues', 'FMLA leave receipt documentation unclear', 'FMLA status updates delayed', 'Employee', 'FMLA eligibility confusion', 'FMLA form submission issues', 'Leave absence documentation discrepancies', 'FMLA leave extension delays', 'FMLA leave denial clarification', 'FMLA leave request processing time', 'FMLA leave impact on benefits', 'FMLA leave start date confusion', 'FMLA leave overpayment issues', 'FMLA leave form errors', 'FMLA leave eligibility questions', 'FMLA leave transfer issues', 'FMLA leave accrual impact', 'FMLA leave coding discrepancies', 'FMLA leave documentation faxing', 'FMLA leave status tracking', 'FMLA leave payroll adjustments', 'FMLA leave policy clarification', 'FMLA leave manager approval', 'FMLA leave form guidance', 'FMLA leave benefit integration', 'FMLA leave donation eligibility', 'FMLA leave donation process', 'FMLA leave donation maximums', 'FMLA leave donation accrual', 'FMLA leave donation realization', 'FMLA leave donation time retain', 'FMLA leave donation pay day', 'FMLA leave donation float pay', 'FMLA leave donation week accrue', 'FMLA leave donation pay time', 'FMLA leave donation maximums', 'Employee unaware of SDI opt-out process', 'Employee unable to locate correct form', 'Manager not updating form', 'No KB article provided for reference', 'Confusion between PPO and HMO plan details', 'Wait period for PPO plan eligibility not clearly explained', 'Employee', 'Employee', 'Fax process unclear for southern california employees', 'Email address for HRSC unclear for California region', \"KB articles do not directly address employee's specific issues\", 'Leave status discrepancies affect pay balance', 'Paycheck discrepancies due to leave date errors', 'Loan deduction processing delays resolution', 'Incentive bonus affected by leave status changes', 'Leave date revisions not updated by managers', 'Period adjustments impact benefit calculations', 'KB articles not provided in transcripts', 'FMLA documentation missing', 'Email fax guideline unclear', 'Deadline confusion', 'System maintenance prevents upload', 'HR form access issues', 'Doctor information incomplete', 'Processing time not set', 'KB article not provided in any summary', 'Manager dispute over bonding leave extension', 'Leave policy filing issues unresolved', 'Call lacks specific KB reference for guidance', 'KB article not provided in transcript', 'Time code payment discrepancy unclear', 'Family member frustrated with case denial', 'unclear resubmission instructions', 'Employee record verification needed for seniority clarification', 'HR service center lacks KB articles for guidance', 'FMLA leave documentation clarification needed', 'FMLA form submission status unclear', 'FMLA leave accrual benefits impact unclear', 'FMLA leave pay options not specified', 'FMLA leave approval process lacks detail', 'FMLA leave request denial criteria missing', 'Complex leave initiation process confuses employees', 'Employees struggle with leave documentation requirements', 'Employees unsure about leave type eligibility criteria', 'Manager approval process for leave unclear', 'Leave request modification and cancellation process confusing', 'Employees need better guidance on leave integration with PTO', 'Poor communication on leave status updates hinders employees', 'Leave articles not easily accessible for employee reference', 'Inconsistent leave policies across different regions confuse employees', 'KB article content not clearly understood by employee', 'Employee unable to locate specific leave details', 'Confusion over ASL and BSL plan differences', 'Employee confusion on waiver process', 'Complex navigation on HRConnect for benefits', 'Inconsistent PPO plan availability information', 'Employee unaware of eligibility verification steps', 'Delta dentist payment process confusing', 'KB articles not directly addressing issues', 'Employee unable to access benefit notepad template', 'HRConnect pathway unclear for benefit information', 'Paycheck delays in Colorado region', 'Discrepancies in payslip details', 'Missed payments in Southern California', 'Leave date discrepancies exist', 'Colorado region employee guidelines unclear', 'Discrepancy tracking balance usage lacking', 'Leave report creation process confusing', 'Insurance form application process complex', 'Absence management reporting system unclear', 'Benefit documentation resources insufficient', 'Unemployment claim eligibility information vague', 'Policy variances not clearly explained', 'KB articles not provided in most transcripts', 'Confusion over FMLA job protection dates and duration', 'Employees unsure about PDL and PTO integration', 'Specific leave initiation steps not clearly communicated', 'KB articles not provided in any transcripts', 'Confusion over plan types and coverage details not resolved effectively', 'Certification date not met', 'Hour verification delays', 'KB articles outdated', 'leave balance discrepancies', 'region-specific leave policies unclear', 'HR service center unable to provide line number for callback', 'KB article not provided in transcript', 'Child birth certificate upload instructions unclear', 'Child coverage activation timeline not clarified', 'HR connect benefit confirmation not addressed', 'KB article not provided in transcript', 'Repayment options unclear to customer', 'Leave absence adjustment not clarified', 'Overpayment impact on paycheck not explained', 'KB articles not clearly linked to specific leave types', 'FMLA eligibility criteria unclear in transcripts', 'KB Article unclear', 'employee unsure about enrollment', 'KB articles not directly addressing specific employee questions', 'Complex navigation to relevant HR pages', 'Unclear application status update process', 'Inconsistent regional contact details provided', 'HR Connect lacks clear processing time information', 'Need for support documents not clearly communicated', 'Payroll benefit reinstatement process unclear in HR Connect', 'Leave absence request form submission method not specified', 'KB articles not provided in call transcripts for reference', 'KB article not provided in transcripts', 'Spouse insurance cancellation status unclear', 'Enrollment guide not followed correctly', 'Screen sharing not utilized for error resolution', 'Spouse appointment coverage not confirmed', 'Benefit application status delayed', 'Member service system update delay', 'Policy credit date verification needed', 'Employment detail for coverage unclear', 'Member service unable to calculate credit', 'KB articles not provided in multiple transcripts', 'Transfers to Vanguard not always successful', 'Address updates delayed by vendor system', 'Loan amount increase verification system fails', 'Disability paperwork handling requires transfer to leaps', 'Employee access to pension info varies by provider', 'Paycheck contribution discrepancies not immediately resolved', 'Complex process descriptions confuse users', 'KB article lacks specific fraud reporting steps', \"Manager's email instructions not detailed enough\", 'Employee lacks necessary documentation for claim', \"Knowledge article does not cover all regions' specifics\", 'KB article mismatched with query', 'HR consultant consultation not detailed in second', 'Mail document follow-up not specified in second summary', 'KB articles not clearly linked to specific issues', 'Complex regional variances not clearly explained', 'Conf', 'Manager responsibility unclear for absence approval', 'Employee time exceptions not timely reported', 'Manager accountability for absence records lacking', 'Email notification process for leave changes unclear', 'Connection loss during supervisor transfer', 'Manager delays in revising leave forms', 'Unclear steps for leave submission', 'Staff working from home causing frustration', 'Benefit status change delays impacting leave', 'Communication issues delaying position start', 'No KB article provided for reference', 'Agent unable to verify employee leave status', 'Employee unable to initiate stop payment request', 'Employee lacks access to HRConnect for updates', 'Paycheck not received due to address issues', 'KB', 'KB articles not directly addressing specific leave cancellation process', 'Guidance lacks clear steps for new hire resignations', 'No specific mention of proxy cancellation for leave requests', 'Instructions for FMLA extension requests not clearly outlined', 'Information on employee ID generation for executives is missing', 'Employee missing from KP TIME Staff Timecard ListApproval Group', 'Manager approval delays timecard corrections', 'IVR clock-in system requires password reset', 'Northern California employees need specific clocking guidelines', 'Time card code issues for California region employees', 'Manager unable to access employee timecard in HRconnect', 'Time correction not paid immediately due to approval delays', 'Managers unclear on bi-weekly time card approval process', 'System coding issues for California region employees', 'Medical leave adjustments not properly reflected in timecard', 'Employee', 'KB article link is broken', 'Transcript contains unclear instructions', 'Absence request process is complex', 'Employee', 'KB articles not always relevant to employee region', 'Pay family leave integration with PTO not clearly explained', 'Specific region policies like SFPPL not always addressed', 'KB article missing for some calls', 'Industrial leave hour integration not clearly communicated', 'System options confusing due to overlapping', 'KB article not provided in transcript', 'Supervisor assistance needed for date application', 'Unclear guidance on disability term application', 'Steps to obtain leave form unclear', 'Disability insurance impact on pay unclear', 'KB article not provided in first summary', 'Manager verification process unclear', 'Employee code error in second summary', 'Form submission issues for vacation hours', 'Overpayment issue not resolved promptly', \"Manager's role in repayment options unclear\", 'Vacation hour calculation error in employee code', 'KB articles not provided in transcripts', 'Maternity leave forms confusing for submission', 'Leave absence request form requirement not emphasized', \"Manager's role in verifying hours unclear\", 'Discrepancy handling tool not effectively explained', 'Specific leave types not clearly differentiated', 'Employee unclear on leave documentation requirements', 'Manager not initiating leave absence matrix', 'Leave request status unclear', 'Employee lacks specific leave duration guidance', 'Employee unsure about leave type pathway', 'Leave request timeline not followed', 'KB article not provided in first summary', 'Leave form conversion process unclear', 'Benefit coverage status not addressed', 'Return from leave process confusing', 'Leave request submission timing unclear', 'Document upload instructions not clear', 'Manager guidance on leave documentation lacking', 'Complex', 'KB article not provided in first summary', 'KB article missing in second summary', 'Employee unable to locate specific contribution details in HCM', 'Need for external contact for corrections', 'Confusion on eligibility criteria for retiree pension benefits', 'Inconsistent KB article relevance to inquiries', 'Conf', 'FMLA hour allocation discrepancy not resolved', 'WAM team guidance unclear on eligibility', 'FMLA query report lacks detailed hour count', 'Employee', 'KB articles not directly addressing specific user queries', 'Confusing navigation to delegation tools', 'Lack of clear step-by-step instructions', 'KB articles not directly addressing specific regional leave policies', 'Complex leave laws confuse employees', 'Inconsistent information on leave duration across regions', 'Unclear guidance on worker compensation claim process', 'KB', 'KB article not provided in any summary', 'No clear resolution steps given', 'Status updates delayed by business hours', 'Fax submission process lacks clear instructions', 'HR email address not readily available', 'Specific form status not communicated effectively', 'No KB articles provided for reference', 'Inconsistent handling of PTO cash program cancellation', 'Resignation process lacks clear paycheck payout details', 'Resignation logistics include unclear PTO accrual verification', 'Pay stub and tax information access not clarified', 'Employee unable', 'Mis', 'KB articles complex', 'Employee unaware of termination timeline', 'KB articles not provided in any summary', 'Mercer contact information unclear', 'Enrollment errors not resolved', 'Deduction details not clarified', 'Identity verification process unclear', 'Discrepancy in net pay due to tax deductions', 'Pay cycle variations affecting year-end income', 'Employer contributions not clearly explained in paycheck', 'Case creation needed for disenrollment investigation', 'Paycheck deductions not clarified for California employees', 'Employee', 'Overpayment issue caused disconnection during call', 'FMLA hour requirement not met for leave', 'Paycheck deduction issue due to benefit cancellation', 'Event date discrepancy in HRConnect application', 'Employee unable to find specific regional HR consultant contact information', 'Incorrect time off balances on employee timecards', 'Confusion over correct KB article for specific employee inquiries', 'Employee difficulty navigating HRConnect for regional consultant details', 'Inconsistent information provided for union affiliation and codes', 'Employee unable to locate correct contact for disability management issues', 'Employee unable to find specific job aid for LOA matrix', 'Employee unable to find correct contact for dental benefits information', 'Employee unable to locate correct contact for commuter spending assistance', 'Employee unable to find correct contact for pay level information', 'Need for certificate document assurance', 'Service year calculation discrepancies', 'Leave case approval timeline unclear', 'Benefit update procedure unclear', 'Employee unclear on regional compensation mailbox contacts', 'KB articles not always relevant', 'Paycheck information not easily accessible', 'Benefit balance inquiry lacks direct resource', 'Employee unable to locate consultant directory', 'HR tool lacks comprehensive payroll details', 'Employee unaware of FSA contribution limits', 'Employee unaware of regional differences', 'Union involvement not clearly communicated', 'Overpayment notification process unclear', 'Employee record update delays', 'Retro pay issue not resolved timely', 'Union communication lacks detail', 'Overpayment dispute process complex', 'Employee notification timing inconsistent', 'KB articles not directly addressing issues', 'Employee confusion on PTO transfer eligibility', 'Complex enrollment process for EIB transfer', 'Inconsistent KB article references', 'FML', 'FML', 'FMLA eligibility criteria unclear', 'FMLA leave duration varies by region', 'Employee documentation requirements not clearly communicated', 'FMLA processing steps differ by region', 'FMLA leave types and codes confusing', 'CFRA expansion details not fully explained', 'Employee needs clarification on FMLA processing steps', 'Employee requires specific documentation list', 'Manager unsure about leave absence matrix application', 'Disability consulting team information not readily available', 'Employee unclear on LOA pay election form requirements', 'Form submission process lacks clear guidance', 'Return', 'KB articles not provided in transcripts', 'KB articles not provided in transcripts', 'Unclear steps for applying disability leave', 'Confusion over disability insurance usage', 'Pay issues related to disability insurance', 'Employer unable to accommodate modified duties', 'Status confirmation for leave absence unclear', 'KB articles not provided in any summary', 'Cobra packet details unclear', 'Benefit termination dates confusing', 'Insurance coverage end dates not clear', 'Disability insurance accrual interruption unclear', 'Health equity enrollment number missing', 'Leave absence extension options vague', 'Cobra enrollment extension details lacking', 'Retirement saving conclusion not addressed', 'Benefit status changes not explained', 'Cobra rate information incomplete', 'Employee confused about FMLA and disability leave differences', 'Employee frustrated with overlapping leave instructions', 'Pay period deductions vary causing paycheck discrepancies', 'Employee location-specific policies unclear in communication', 'Vacation balance verification process lacks standardization', 'Disability denial impacts vacation usage eligibility', 'Timekeeping system discrepancies not promptly addressed', 'Payroll system fails to accurately track vacation hours', 'Employee unable to locate required forms', 'KB article unclear', 'HR consultant directory access unclear', 'KB articles not directly addressing issues', 'Performance management guidance lacking', 'Documentation issues for leadership follow-up', 'Region-specific resources hard to locate', 'Career ladder information not readily available', 'FMLA eligibility unclear', 'Documentation requirements not specified', 'KB article not directly linked', 'causing confusion', 'Employee eligibility criteria unclear', 'Wait period application inconsistent', 'Dependent enrollment process complex', 'Union employee coverage rules confusing', 'KB articles lack specific regional guidance', 'Event reopening process not well-defined', 'Service area plan issues unresolved', 'Employee status determination unclear', 'Qualifying event requirements not detailed', 'KB article not provided in first summary', 'Death certificate upload instructions missing in third summary', 'Paycheck code errors cause leave absence discrepancies', 'Overpayment occurs from incorrect time accrual application', 'Payroll discrepancies lead to delayed payslips generation', 'Employee timecard errors result in overpayment issues', 'Accrual adjustments for benefits cause payment discrepancies', 'Colorado-specific HR procedures unclear for paycheck discrepancies', 'Employees struggle with time card corrections', 'System unavailability prevents clocking in/out', 'Confusion over payroll discrepancy resolution', 'Difficulty understanding time card features', 'Inconsistent KB article references across regions', 'KB articles not directly linked', 'causing confusion', 'Qualifying event details unclear in transcripts', 'Union employee guidelines not consistently addressed', 'Specific steps for adding/removing dependents not detailed', 'Qualifying event timelines and enrollment periods not clearly explained', 'KB article not provided in transcript', 'Leave policy details not clearly communicated', 'Leave extension process unclear', \"Manager's role in leave approval not specified\", 'Impact of leave extensions on benefits not explained', 'KB article not directly addressing specific overtime pay classification inquiry', 'Employee struggles accessing HRConnect', 'Employee needs HR consultant guidance', 'Employee requires translated documents', 'KB article not provided in transcript', 'Document upload feature unclear in platform', 'Fax number not readily available for leave absence forms', 'HRConnect dashboard lacks fax number for employment verification', 'Employee unclear on leave type requirements', 'Manager lacks leave initiation guidance', 'Article links not easily accessible', 'Employee needs specific PLOA documentation', 'Article content not tailored to specific regions', 'Leave absence matrix confusing for managers', 'Employee unsure about FMLA exhaustion conditions', 'KB articles not directly linked', 'causing confusion', 'KB articles outdated', 'Complex', 'Discrepancy in leave balance', 'System discrepancy in job change', 'Audit case creation needed', 'Employee unclear on COBRA eligibility rules', 'Confusion over benefit termination dates', 'Need for clearer COBRA package mailing timeline', 'California region lacks clear PTO integration with PFL for maternity leave', 'Maternity leave PTO usage rules unclear in KB articles', 'KB articles do not specify leave options for California employees specifically', 'Employee unsure about leave options due to ambiguous KB article content', 'No KB articles provided in transcripts', 'processing time unclear', 'unclear document submission', \"Union employees' life insurance enrollment issues\", 'Discrepancy in life insurance coverage and premium waiver approval', 'Employee', 'KB articles not clearly linked to specific issues', 'Leave form submission timing unclear', 'Return leave process steps not detailed', 'FMLA inquiry capture process not explained', 'Leave submission timing not specified for California', 'Return leave block leave reduction unclear', 'Employee return leave form update process vague', 'Leave absence notification to WAM team lacking detail', 'Lack of hour calculation tool', 'FMLA approval delay', 'SMLA eligibility confusion', 'HR contact not provided', 'Employee', 'Employee', 'Employee unclear on documentation requirements', 'Confusing KB article references', 'Deadlines for document submission unclear', 'FMLA eligibility criteria unclear', 'employee unsure about work hour requirement', 'KB articles not directly addressing specific employee questions', 'Complex forms causing confusion for employees', 'Region-specific guidelines not clearly communicated', 'Lack of clear instructions on form submission requirements', 'Employee status changes not adequately explained in KB articles', 'KB article lacks specific southern california region documentation requirements', 'Family member certification process unclear', 'Employee LOA pay election form authorization not detailed', 'Proxy leave absence request pathway not clearly defined', 'Manager action for leave absence request unclear', 'Search for existing related family care leave cases difficult', 'Case status update information for family care leave insufficient', 'FMLA certification forms missing signatures', 'Physician certification not translated to English', 'Leave extension dates unclear', 'Employee unaware of certification expiration', 'Region-specific forms not provided', 'Certification revisions not communicated', 'Language translation requirements not met', 'Knowledge base articles outdated', 'KB articles not clearly linked', 'Region-specific steps unclear', 'Leave form instructions missing', 'Manager communication guidelines absent', 'Pay leave administration unclear', 'Employee return restrictions not specified', 'Manager lacks discretion in leave duration approval', 'CESLA guidance not clearly communicated', 'KB articles not provided in transcripts', 'causing confusion', 'delays.', 'System discrepancies cause miss accruals', 'Job changes lead to hour discrepancies', 'System errors impact leave records', 'Case creation needed for unresolved discrepancies', 'Research steps not clearly outlined in KB articles', 'Discrepancies in service dates cause processing delays', 'Confusion over performance review timing needs clarification', 'Employees struggle accessing past performance reviews in HRConnect', 'Anniversary review timing and procedures unclear for employees', 'Performance management lead support not easily accessible in region', 'Employee unable to access The Work Number for verification', 'Inconsistent guidance on verification form submission', 'Delays in processing resend requests for employment verification', 'Confusion over rehire eligibility verification process', 'Complexity in submitting PSLF supporting documents', 'Verification methods vary by region causing confusion', 'Verification process unclear for terminated employees', 'Employee unable to update job status information', 'Variation in verification methods by region creates issues', 'Employee lacks required certification for FMLA approval', 'Union dues discrepancies not resolved', 'Commuter deduction timing confusing', 'Tax withholding status mismatch', 'Union code identification complex', 'KB article not provided in transcript', 'Bonding eligibility criteria unclear', 'FMLA requirement not addressed', 'Hour calculation for qualification missing', 'Pay period reassessment not explained', 'Payroll and overtime pay details absent', 'KB article not provided in transcript', 'Leave balance details not clearly communicated', 'PSL policy information not adequately explained', 'Employee confused about FMLA certification process', 'Manager lacks leave request status information', 'Article links provided are not directly relevant', 'KB articles not provided in transcripts', 'Status benefit eligibility unclear', 'Accumulation of vacation hours unresolved', 'Eligibility changes due to position not detailed', 'Bah calculation and PTO holiday pay not explained', 'Employee', 'Georgia region leave absence notification unclear', 'Overpayment repayment options not explained', 'Installment payment via credit card not available', 'Benefit termination notice label confusing', 'KB article link not working', 'Leave extension form upload process unclear', 'Manager action steps not specified', 'Date mismatch in FMLA documentation leads to denial', 'Indexing delay causes leave status verification issues', 'Physician certification missing results in FMLA denial', 'Language translation issues hinder document processing', 'Manager tracking of FMLA hours is inconsistent', 'Documentation requirements not clearly communicated to employees', 'KB articles not directly addressing specific issues', 'Discrepancies in payment affecting Northern California staff', \"Manager's delayed response to employee payment disputes\", 'Employee misunderstanding of lump sum payment adjustments', 'Overpayment cases not clearly explained to employees', 'Lack of detailed guidance on leave accrual scenarios', 'Discrepancies in payslip entries affecting employee earnings summaries', \"Manager's delayed response to employee payment disputes\", 'Employee misunderstanding of lump sum payment amounts', 'Knowledge base articles not fully addressing specific payment issues', 'Overpayment cases not clearly explained to employees', 'Lack of detailed guidance on leave accrual scenarios', \"Manager's failure to promptly reach compensation consultant for payment adjustments\", 'Unclear SLA impact assessment', 'Insufficient KB article relevance', 'Employee', 'KB article not provided in transcript', 'Absence procedure unclear in conversation', 'KB', 'KB articles not directly addressing specific employee questions', 'Complex leave policies confusing employees', 'Lack of clear FMLA eligibility guidelines in summaries', 'Insufficient detail on PTO integration with PFL benefits', 'Confusing links provided instead of direct answers', 'Similar KB articles causing redundancy in information', 'KB articles not directly addressing specific employee queries', 'Confusing terminology in leave request forms', 'SDI pay integration options unclear in KB articles', 'Guidance on pay election changes insufficient in resources', 'California region-specific guidelines not clearly highlighted in KB', 'Employee lacks clear guidance on leave application process', 'Employees miss reporting hours leading to denied requests', 'Knowledge base articles not easily navigable for specific leave types', 'Specific region leave policies not clearly communicated', 'KB article not directly addressing Northern California bonding leave specifics', 'FMLA inquiry case handling unclear', 'Employee documentation submission process not detailed', 'Specific leave type guidelines not always referenced', 'KB article unclear', 'lacks specific steps for document upload', 'KB articles not provided in any transcripts', 'KB articles unclear on leave extension process', 'Leave absence form lacks clear instructions', 'Employee unsure about document upload process', 'Confusion on leave submission timing requirements', 'FMLA hour calculation unclear', 'Denial reasons not specified', 'Leave renewal process confusing', 'Reapplication validity uncertain', 'Clarification on FMLA denial needed', 'FMLA eligibility criteria unclear', 'FMLA processing steps not detailed', 'Proxy leave request pathway not explained', 'KB articles not clearly linked to specific employee leave scenarios', 'Caller lacks clear', 'Employee lacks clear understanding of FMLA eligibility criteria', 'Employee unable to provide necessary healthcare provider forms', 'Confusion over different leave types and their specific requirements', 'Employee unsure about specific reasons qualifying for FMLA leave', 'Missed shift incentives not identified in HCM', 'Union contract eligibility not verified', 'Missed deductions not reconciled in earning summary', 'Shift differential eligibility varies by region', 'Job change forms not resubmitted for retro pay', 'Colorado region policies not aligned with union contracts', 'KB article not provided in transcript', 'KB article not directly addressing specific employee health condition needs', \"Employee's specific health condition and required adjustments not detailed\", 'KB', \"KB articles not directly addressing specific employee's maternity leave query\", 'California PFL policy details unclear in KB']\n",
      "[0, 0, 27, 12, 1, 0, 20, 4, 5, 3, 0, 27, 0, 0, 2, 0, 0, 5, 0, 0, 0, 0, 0, 11, 0, 0, 0, 14, 14, 14, 14, 14, 14, 14, 14, 14, 14, 14, 14, 14, 4, 23, 3, 4, 0, 0, 0, 6, 1, 4, 12, 20, 10, 16, 4, 20, 18, 18, 4, 4, 25, 0, 2, 2, 12, 2, 26, 13, 6, 31, 20, 14, 5, 1, 17, 11, 13, 19, 3, 5, 1, 22, 16, 3, 17, 0, 11, 3, 23, 3, 5, 9, 16, 31, 16, 16, 3, 29, 15, 2, 2, 15, 15, 15, 15, 15, 19, 8, 24, 13, 28, 4, 11, 17, 19, 7, 4, 32, 9, 23, 1, 22, 3, 17, 1, 1, 0, 0, 0, 0, 0, 0, 0, 0, 0, 18, 18, 4, 5, 12, 1, 2, 21, 8, 5, 7, 6, 4, 8, 0, 0, 0, 0, 24, 0, 18, 0, 3, 0, 0, 0, 26, 0, 0, 1, 0, 0, 0, 0, 0, 0, 0, 0, 0, 0, 0, 0, 0, 0, 0, 0, 0, 0, 30, 30, 30, 30, 30, 30, 30, 30, 30, 30, 30, 19, 8, 11, 25, 16, 31, 26, 26, 15, 15, 6, 1, 1, 4, 10, 11, 10, 13, 0, 12, 24, 4, 5, 12, 4, 25, 11, 17, 2, 23, 1, 10, 12, 18, 2, 0, 0, 0, 0, 0, 0, 9, 28, 19, 11, 3, 16, 9, 6, 9, 6, 8, 16, 9, 5, 16, 18, 0, 2, 8, 5, 1, 1, 15, 1, 9, 1, 3, 3, 29, 28, 31, 7, 13, 0, 16, 9, 13, 16, 18, 4, 2, 1, 7, 5, 23, 12, 18, 5, 23, 1, 27, 33, 6, 0, 2, 20, 6, 5, 12, 7, 5, 21, 5, 27, 13, 23, 10, 20, 17, 10, 10, 4, 18, 19, 8, 13, 14, 4, 4, 10, 14, 1, 24, 2, 11, 21, 2, 2, 5, 12, 2, 7, 15, 29, 22, 29, 3, 14, 11, 3, 9, 10, 4, 25, 8, 1, 5, 1, 2, 6, 28, 27, 0, 19, 22, 4, 4, 15, 15, 5, 4, 11, 15, 10, 26, 2, 12, 29, 26, 6, 16, 7, 2, 9, 24, 23, 10, 12, 3, 17, 25, 11, 6, 3, 33, 1, 22, 13, 3, 27, 11, 1, 9, 28, 29, 3, 28, 19, 3, 25, 3, 10, 3, 3, 12, 11, 24, 25, 25, 8, 21, 31, 2, 15, 0, 31, 0, 26, 2, 5, 32, 6, 9, 7, 19, 2, 25, 32, 4, 32, 5, 9, 25, 16, 1, 16, 1, 8, 24, 2, 18, 25, 8, 20, 1, 18, 1, 1, 1, 17, 1, 26, 33, 0, 1, 1, 5, 22, 6, 5, 7, 8, 8, 8, 8, 8, 21, 1, 3, 10, 8, 2, 1, 28, 8, 5, 19, 19, 7, 33, 4, 1, 7, 33, 22, 2, 16, 20, 2, 0, 0, 0, 0, 21, 0, 0, 0, 0, 21, 29, 5, 19, 32, 3, 13, 13, 3, 17, 17, 8, 27, 25, 20, 10, 10, 17, 20, 27, 20, 14, 10, 20, 0, 9, 1, 9, 18, 10, 1, 22, 8, 2, 5, 2, 11, 32, 7, 8, 0, 21, 2, 24, 31, 16, 20, 7, 2, 17, 17, 19, 0, 25, 12, 1, 33, 1, 33, 1, 1, 4, 4, 1, 4, 2, 2, 24, 0, 7, 20, 0, 23, 9, 3, 11, 10, 6, 5, 5, 21, 23, 12, 27, 5, 19, 11, 2, 21, 2, 29, 0, 2, 24, 2, 24, 1, 1, 17, 19, 10, 20, 15, 6, 6, 6, 13, 4, 12, 20, 1, 26, 2, 3, 3, 0, 15, 3, 3, 29, 0, 0, 0, 5, 26, 26, 21, 2, 12, 0, 19, 6, 24, 7, 32, 6, 2, 18, 19, 27, 29, 10, 10, 0, 32, 3, 18, 7, 9, 21, 2, 2, 7, 3, 11, 28, 9, 11, 9, 13, 24, 4, 1, 1, 4, 17, 2, 1, 22, 5, 22, 11, 8, 7, 4, 18, 21, 7, 18, 8, 7, 0, 1, 22, 17, 7, 23, 31, 0, 0, 1, 1, 23, 9, 7, 0, 11, 2, 13, 31, 22, 31, 16, 26, 27, 33, 1, 10, 2, 3, 11, 0, 4, 0, 32, 0, 21, 2, 1, 1, 22, 33, 28, 1, 1, 22, 2, 33, 28, 1, 12, 2, 26, 23, 29, 2, 6, 9, 0, 16, 2, 2, 6, 3, 6, 28, 15, 28, 1, 6, 7, 6, 0, 21, 9, 2, 12, 13, 6, 27, 12, 3, 0, 10, 3, 17, 0, 0, 0, 27, 6, 32, 0, 8, 9, 0, 7, 7, 1, 7, 1, 7, 23, 6, 6, 2, 6, 15]\n"
     ]
    }
   ],
   "source": [
    "# Fit the model on your text inputs\n",
    "# topics, probs = topic_model.fit_transform(filtered_df[\"text_input\"].head(1000))\n",
    "topics, probs = topic_model.fit_transform(df[\"Error\"])\n",
    "\n",
    "# subset = filtered_df.head(1000).copy()\n",
    "# subset[\"Topic\"] = topics\n",
    "# subset[\"Topic_Probability\"] = probs\n",
    "\n",
    "# # Save for later use if needed\n",
    "df[\"Topic\"] = topics\n",
    "df[\"Topic_Probability\"] = probs\n",
    "print(df.columns)\n",
    "\n",
    "# OPTIONAL: filter out low-confidence assignments\n",
    "min_confidence = 0.25\n",
    "# Filter documents and topics by confidence\n",
    "filtered_docs = []\n",
    "filtered_topics = []\n",
    "\n",
    "for doc, topic, prob in zip(df[\"Error\"], topics, probs):\n",
    "    if prob >= min_confidence:\n",
    "        filtered_docs.append(doc)\n",
    "        filtered_topics.append(topic)\n",
    "\n",
    "print(filtered_docs)\n",
    "print(filtered_topics)"
   ]
  },
  {
   "cell_type": "markdown",
   "id": "f65543cb",
   "metadata": {},
   "source": [
    "Recluster The -1 Set"
   ]
  },
  {
   "cell_type": "code",
   "execution_count": 148,
   "id": "0f8cfc56",
   "metadata": {},
   "outputs": [
    {
     "name": "stdout",
     "output_type": "stream",
     "text": [
      "Number of noise examples: 139\n",
      "['Employees miss reporting hours leading to denied requests', 'Union dues deduction visibility unclear', 'Customer left without final decision', 'Leave extension process unclear', 'Timecard code errors frequently uncorrected']\n"
     ]
    }
   ],
   "source": [
    "df_noise = df_with_topics[df_with_topics[\"Topic\"] == -1].copy()\n",
    "print(f\"Number of noise examples: {len(df_noise)}\")\n",
    "print(df_noise[\"Error\"].sample(5).tolist())"
   ]
  },
  {
   "cell_type": "markdown",
   "id": "9d48e7a8",
   "metadata": {},
   "source": [
    "Make a new model - Fit Bertopic"
   ]
  },
  {
   "cell_type": "code",
   "execution_count": 138,
   "id": "60ef0030",
   "metadata": {},
   "outputs": [
    {
     "name": "stderr",
     "output_type": "stream",
     "text": [
      "2025-07-08 17:25:17,104 - BERTopic - Embedding - Transforming documents to embeddings.\n",
      "Batches: 100%|██████████| 5/5 [00:00<00:00, 21.67it/s]\n",
      "2025-07-08 17:25:17,355 - BERTopic - Embedding - Completed ✓\n",
      "2025-07-08 17:25:17,357 - BERTopic - Dimensionality - Fitting the dimensionality reduction algorithm\n",
      "2025-07-08 17:25:17,433 - BERTopic - Dimensionality - Completed ✓\n",
      "2025-07-08 17:25:17,435 - BERTopic - Cluster - Start clustering the reduced embeddings\n",
      "2025-07-08 17:25:17,442 - BERTopic - Cluster - Completed ✓\n",
      "2025-07-08 17:25:17,446 - BERTopic - Representation - Fine-tuning topics using representation models.\n",
      "2025-07-08 17:25:17,456 - BERTopic - Representation - Completed ✓\n"
     ]
    }
   ],
   "source": [
    "# Import UMAP for dimensionality reduction\n",
    "from umap import UMAP\n",
    "\n",
    "# Configure UMAP to preserve more global structure and reduce dimensionality sensibly\n",
    "umap_model = UMAP(\n",
    "    n_neighbors=20,    # How many neighbors to consider—higher = more global structure\n",
    "    n_components=5,    # How many dimensions to reduce to (default is 5)\n",
    "    min_dist=0,      # Minimum distance between points—lower = tighter clusters\n",
    "    metric=\"cosine\"    # Cosine distance usually works well for embeddings\n",
    ")\n",
    "\n",
    "# Import HDBSCAN for clustering\n",
    "from hdbscan import HDBSCAN\n",
    "\n",
    "# Configure HDBSCAN to find smaller, denser clusters\n",
    "hdbscan_model = HDBSCAN(\n",
    "    min_cluster_size=3,  # Minimum size for a cluster to be formed\n",
    "    min_samples=1         # Lower = less conservative, more clusters\n",
    ")\n",
    "\n",
    "# Finally, create the BERTopic instance with all custom components\n",
    "noise_topic_model = BERTopic(\n",
    "    embedding_model=embedding_model_complex,  # SentenceTransformer model\n",
    "    umap_model=umap_model,            # configured UMAP\n",
    "    hdbscan_model=hdbscan_model,      # configured HDBSCAN\n",
    "    verbose=True                      # Print progress messages\n",
    ")\n",
    "\n",
    "# Fit the model on your text inputs\n",
    "# topics, probs = topic_model.fit_transform(filtered_df[\"text_input\"].head(1000))\n",
    "noise_topics, noise_probs = noise_topic_model.fit_transform(df_noise[\"Error\"])"
   ]
  },
  {
   "cell_type": "markdown",
   "id": "ca80a278",
   "metadata": {},
   "source": [
    "Review Topics"
   ]
  },
  {
   "cell_type": "code",
   "execution_count": 140,
   "id": "5960922d",
   "metadata": {},
   "outputs": [
    {
     "name": "stdout",
     "output_type": "stream",
     "text": [
      "{-1: {'Name': '-1_union_escalation_not_for', 'Examples': ['Vague escalation steps for HR access issues', 'Employee unclear on regional HR escalation steps', 'Confusion over plan types and coverage details not resolved effectively']}, 0: {'Name': '0_leave_absence_request_manager', 'Examples': ['Absence request approval process unclear', 'Form submission process lacks clear guidance', 'Leave absence form lacks clear instructions']}, 1: {'Name': '1_fmla_eligibility_leave_criteria', 'Examples': ['FMLA eligibility criteria unclear', 'FMLA eligibility criteria unclear', 'FMLA eligibility unclear']}, 2: {'Name': '2_kb_articles_article_directly', 'Examples': ['KB articles not directly addressing issues', 'KB articles not directly addressing issues', 'KB articles not directly addressing specific issues']}, 3: {'Name': '3_discrepancies_paycheck_discrepancy_pay', 'Examples': ['Pay period deductions vary causing paycheck discrepancies', 'Paycheck discrepancies due to leave date errors', 'Paycheck code errors cause leave absence discrepancies']}, 4: {'Name': '4_hr_hrconnect_consultant_access', 'Examples': ['HR form access issues', 'Employee lacks access to HRConnect for updates', 'HR Connect access issues']}, 5: {'Name': '5_addressing_articles_directly_specific', 'Examples': ['KB articles not directly addressing specific employee questions', 'KB articles not directly addressing specific employee questions', 'KB articles not directly addressing specific employee questions']}, 6: {'Name': '6_unaware_type_of_employee', 'Examples': ['Employee unaware of leave type distinctions', 'Employee unaware of eligibility verification steps', 'Employee unaware of eligibility criteria for SDI']}, 7: {'Name': '7_unable_locate_to_correct', 'Examples': ['Employee unable', 'Employee unable to locate specific leave details', 'Employee unable to locate correct form']}, 8: {'Name': '8_accrual_guidance_rules_leave', 'Examples': ['Employee education lacking on accrual rules', 'Lack of detailed guidance on leave accrual scenarios', 'Lack of detailed guidance on leave accrual scenarios']}, 9: {'Name': '9_transcripts_provided_articles_kb', 'Examples': ['KB articles not provided in transcripts', 'KB articles not provided in transcripts', 'KB articles not provided in transcripts']}, 10: {'Name': '10_retiree_medicare_pension_with', 'Examples': ['Retiree seeks help with medicare part d plan administrator contact', 'Retiree needs help with pension benefit transfer to fidelity', 'Retiree needs clarification on medicare part d enrollment']}, 11: {'Name': '11_california_region_pfl_conf', 'Examples': ['California region lacks clear PTO integration with PFL for maternity leave', 'California region PTO integration with PFL complex', 'California region leave policies unclear']}, 12: {'Name': '12_enrollment_cobra_dependent_transfer', 'Examples': ['Dependent enrollment process complex', 'Benefit enrollment issues', 'Cobra enrollment extension details lacking']}, 13: {'Name': '13_time_processing_delays_timecard', 'Examples': ['Delays in processing resend requests for employment verification', 'processing time unclear', 'Manager approval delays timecard corrections']}, 14: {'Name': '14_eligibility_bonding_criteria_unclear', 'Examples': ['Employee eligibility criteria unclear', 'Bonding eligibility criteria unclear', 'Employee eligibility criteria unclear for bonding leave']}, 15: {'Name': '15_employees_confuse_policies_complex', 'Examples': ['Pay integration process confusing for employees', 'Complex leave policies confusing employees', 'Complex leave policies confuse employees']}, 16: {'Name': '16_pto_pfl_integration_with', 'Examples': ['Employee confused about integrating PFL with PTO vacation', 'Pay family leave integration with PTO not clearly explained', 'Insufficient detail on PTO integration with PFL benefits']}, 17: {'Name': '17_benefit_status_termination_dates', 'Examples': ['Benefit status changes not explained', 'Confusion over benefit termination dates', 'Benefit termination dates confusing']}, 18: {'Name': '18_disability_insurance_unresolved_creation', 'Examples': ['Disability insurance impact on pay unclear', 'Case creation needed for unresolved discrepancies', 'Disability insurance reapplication process confusing']}, 19: {'Name': '19_region_by_shift_variances', 'Examples': ['Specific region leave policies not clearly communicated', 'Guidelines vary by region causing confusion', 'Verification methods vary by region causing confusion']}, 20: {'Name': '20_transcript_article_provided_in', 'Examples': ['KB article not provided in transcript', 'KB article not provided in transcript', 'KB article not provided in transcript']}, 21: {'Name': '21_causing_confusion_complex_vs', 'Examples': ['causing confusion', 'causing confusion', 'causing confusion']}, 22: {'Name': '22_summary_provided_first_article', 'Examples': ['KB article not provided in first summary', 'KB article not provided in first summary', 'KB article not provided in first summary']}, 23: {'Name': '23_employee___', 'Examples': ['Employee', 'Employee', 'Employee']}, 24: {'Name': '24_update_system_prevents_delay', 'Examples': ['Severance benefit end record update delay', 'Member service system update delay', 'System maintenance prevents upload']}, 25: {'Name': '25_verification_identity_process_standardization', 'Examples': ['Employee identity verification required for leave requests', 'Identity verification steps missing', 'Identity verification process unclear']}, 26: {'Name': '26_donation_fmla_maximums_leave', 'Examples': ['FMLA leave donation pay time', 'FMLA leave donation eligibility', 'FMLA leave donation process']}, 27: {'Name': '27_communicated_clearly_communication_policy', 'Examples': ['Specific leave initiation steps not clearly communicated', 'Leave policy details not clearly communicated', 'Leave balance details not clearly communicated']}, 28: {'Name': '28_overpayment_explained_cases_issue', 'Examples': ['Overpayment impact on paycheck not explained', 'Overpayment cases not clearly explained to employees', 'Overpayment cases not clearly explained to employees']}, 29: {'Name': '29_payment_disputes_delayed_resolved', 'Examples': [\"Manager's failure to promptly reach compensation consultant for payment adjustments\", \"Manager's delayed response to employee payment disputes\", \"Manager's delayed response to employee payment disputes\"]}}\n",
      "   Topic  Count                            Name  \\\n",
      "0      0    126         0_leave_not_for_unclear   \n",
      "1      1     13  1_kb_article_articles_provided   \n",
      "\n",
      "                                      Representation  \\\n",
      "0  [leave, not, for, unclear, employee, to, proce...   \n",
      "1  [kb, article, articles, provided, not, relevan...   \n",
      "\n",
      "                                 Representative_Docs  \n",
      "0  [Leave request status unclear, Manager approva...  \n",
      "1  [KB articles not always relevant, KB article n...  \n",
      "{0: {'Name': '0_leave_not_for_unclear', 'Examples': ['Leave request status unclear', 'Manager approval process for leave unclear', 'Leave extension process unclear']}, 1: {'Name': '1_kb_article_articles_provided', 'Examples': ['KB articles not always relevant', 'KB article not provided in transcript', 'KB article not provided in transcript']}}\n"
     ]
    },
    {
     "ename": "TypeError",
     "evalue": "unhashable type: 'dict'",
     "output_type": "error",
     "traceback": [
      "\u001b[1;31m---------------------------------------------------------------------------\u001b[0m",
      "\u001b[1;31mTypeError\u001b[0m                                 Traceback (most recent call last)",
      "Cell \u001b[1;32mIn[140], line 45\u001b[0m\n\u001b[0;32m     39\u001b[0m \u001b[38;5;28mprint\u001b[39m(label_map_noise)\n\u001b[0;32m     44\u001b[0m all_labels \u001b[38;5;241m=\u001b[39m \u001b[38;5;28mlist\u001b[39m(label_map_main\u001b[38;5;241m.\u001b[39mvalues()) \u001b[38;5;241m+\u001b[39m \u001b[38;5;28mlist\u001b[39m(label_map_reclustered\u001b[38;5;241m.\u001b[39mvalues())\n\u001b[1;32m---> 45\u001b[0m unique_labels \u001b[38;5;241m=\u001b[39m \u001b[38;5;28msorted\u001b[39m(\u001b[38;5;28mlist\u001b[39m(\u001b[38;5;28;43mset\u001b[39;49m\u001b[43m(\u001b[49m\u001b[43mall_labels\u001b[49m\u001b[43m)\u001b[49m))\n\u001b[0;32m     47\u001b[0m \u001b[38;5;28;01mfor\u001b[39;00m label \u001b[38;5;129;01min\u001b[39;00m unique_labels:\n\u001b[0;32m     48\u001b[0m     \u001b[38;5;28mprint\u001b[39m(label)\n",
      "\u001b[1;31mTypeError\u001b[0m: unhashable type: 'dict'"
     ]
    }
   ],
   "source": [
    "topic_model_examples = topic_model.get_representative_docs()\n",
    "noise_topic_model_examples = noise_topic_model.get_representative_docs()\n",
    "\n",
    "topic_info_reclustered = topic_model.get_topic_info()\n",
    "label_map_reclustered = dict(zip(\n",
    "    topic_info_reclustered[\"Topic\"],\n",
    "    topic_info_reclustered[\"Name\"],\n",
    "))\n",
    "\n",
    "topic_info_noise = noise_topic_model.get_topic_info()\n",
    "label_map_reclustered = dict(zip(\n",
    "    topic_info_noise[\"Topic\"],\n",
    "    topic_info_noise[\"Name\"]\n",
    "))\n",
    "\n",
    "topic_info_main = topic_model.get_topic_info()\n",
    "topic_model_examples = topic_model.get_representative_docs()\n",
    "\n",
    "label_map_main = {}\n",
    "for topic_id, name in zip(topic_info_main[\"Topic\"], topic_info_main[\"Name\"]):\n",
    "    label_map_main[topic_id] = {\n",
    "        \"Name\": name,\n",
    "        \"Examples\": topic_model_examples.get(topic_id, [])\n",
    "    }\n",
    "\n",
    "print(label_map_main)\n",
    "\n",
    "topic_info_noise = noise_topic_model.get_topic_info()\n",
    "print(topic_info_noise)\n",
    "noise_topic_model_examples = noise_topic_model.get_representative_docs()\n",
    "\n",
    "label_map_noise = {}\n",
    "for topic_id, name in zip(topic_info_noise[\"Topic\"], topic_info_noise[\"Name\"]):\n",
    "    label_map_noise[topic_id] = {\n",
    "        \"Name\": name,\n",
    "        \"Examples\": noise_topic_model_examples.get(topic_id, [])\n",
    "    }\n",
    "\n",
    "print(label_map_noise)\n",
    "\n",
    "\n",
    "\n",
    "# labels_main = df_with_topics[\"My_Final_Label\"].unique().tolist()\n",
    "# labels_noise = df_noise[\"My_Final_Label\"].unique().tolist()\n",
    "# df_noise[\"New_Topic\"] = noise_topics \n",
    "# df_noise[\"New_Topic_Probability\"] = noise_probs\n",
    "# topic_info = noise_topic_model.get_topic_info()\n",
    "# print(topic_info)\n",
    "# rep_docs = noise_topic_model.get_representative_docs()\n",
    "# print(rep_docs)\n"
   ]
  },
  {
   "cell_type": "markdown",
   "id": "dc229155",
   "metadata": {},
   "source": [
    "Create taxonomy mapping!"
   ]
  },
  {
   "cell_type": "code",
   "execution_count": 141,
   "id": "ff2aedc4",
   "metadata": {},
   "outputs": [],
   "source": [
    "taxonomy_mapping = {\n",
    "    0: \"Confusion About Leave Request Submission or Approval\",\n",
    "    1: \"Unclear FMLA or Bonding Eligibility Criteria\",\n",
    "    2: \"Knowledge Base Articles Missing or Not Relevant\",\n",
    "    3: \"Paycheck Errors, Deductions, or Overpayment Disputes\",\n",
    "    4: \"Inability to Access HR Systems or Forms\",\n",
    "    5: \"Knowledge Base Articles Missing or Not Relevant\",\n",
    "    6: \"Employees Unaware of Leave Types or Benefit Interactions\",\n",
    "    7: \"Difficulty Providing Documentation or Verifying Identity\",\n",
    "    8: \"Lack of Clear Rules for Leave Accrual and Usage\",\n",
    "    9: \"Knowledge Base Articles Missing or Not Relevant\",\n",
    "    10: \"Complex or Confusing Enrollment Processes\",\n",
    "    11: \"Employees Unaware of Leave Types or Benefit Interactions\",\n",
    "    12: \"Complex or Confusing Enrollment Processes\",\n",
    "    13: \"Delays in Processing or Approving Requests\",\n",
    "    14: \"Unclear FMLA or Bonding Eligibility Criteria\",\n",
    "    15: \"Confusion About Leave Request Submission or Approval\",\n",
    "    16: \"Employees Unaware of Leave Types or Benefit Interactions\",\n",
    "    17: \"Complex or Confusing Enrollment Processes\",\n",
    "    18: \"Unclear Disability Insurance Procedures\",\n",
    "    19: \"Region-Specific Policy or Escalation Confusion\",\n",
    "    20: \"Knowledge Base Articles Missing or Not Relevant\",\n",
    "    21: \"Inadequate or Vague Communication to Employees\",\n",
    "    22: \"Knowledge Base Articles Missing or Not Relevant\",\n",
    "    23: \"Generic or Unclassifiable Issues\",\n",
    "    24: \"Delays in Processing or Approving Requests\",\n",
    "    25: \"Difficulty Providing Documentation or Verifying Identity\",\n",
    "    26: \"Unclear FMLA or Bonding Eligibility Criteria\",\n",
    "    27: \"Confusion About Leave Request Submission or Approval\",\n",
    "    28: \"Paycheck Errors, Deductions, or Overpayment Disputes\",\n",
    "    29: \"Paycheck Errors, Deductions, or Overpayment Disputes\",\n",
    "    -1: \"Region-Specific Policy or Escalation Confusion\",\n",
    "}"
   ]
  },
  {
   "cell_type": "code",
   "execution_count": 155,
   "id": "a09ed462",
   "metadata": {},
   "outputs": [
    {
     "name": "stdout",
     "output_type": "stream",
     "text": [
      "                                  Label  \\\n",
      "2             -1_leave_fmla_case_status   \n",
      "3             -1_leave_fmla_case_status   \n",
      "4             -1_leave_fmla_case_status   \n",
      "5             -1_leave_fmla_case_status   \n",
      "6             -1_leave_fmla_case_status   \n",
      "7             -1_leave_fmla_case_status   \n",
      "8             -1_leave_fmla_case_status   \n",
      "9             -1_leave_fmla_case_status   \n",
      "10            -1_leave_fmla_case_status   \n",
      "11            -1_leave_fmla_case_status   \n",
      "12            -1_leave_fmla_case_status   \n",
      "13            -1_leave_fmla_case_status   \n",
      "14            -1_leave_fmla_case_status   \n",
      "15            -1_leave_fmla_case_status   \n",
      "16            -1_leave_fmla_case_status   \n",
      "17  4_enrollment_dependent_enroll_enrol   \n",
      "18           17_mother_care_take_family   \n",
      "19           17_mother_care_take_family   \n",
      "20           17_mother_care_take_family   \n",
      "21           17_mother_care_take_family   \n",
      "\n",
      "                                         Error  Parent Label  Topic  \\\n",
      "2                        FMLA paperwork delays           NaN      0   \n",
      "3                   FMLA eligibility confusion           NaN      0   \n",
      "4        Leave absence request processing slow           NaN     27   \n",
      "5                  Documentation upload issues           NaN     12   \n",
      "6                        Payroll discrepancies           NaN      1   \n",
      "7                         Leave balance errors           NaN     -1   \n",
      "8                       FMLA extension denials           NaN      0   \n",
      "9                    Benefit enrollment issues           NaN     20   \n",
      "10           System maintenance causing delays           NaN      4   \n",
      "11           HRConnect navigation difficulties           NaN      5   \n",
      "12                   Leave request form errors           NaN      3   \n",
      "13            FMLA doctor certification issues           NaN      0   \n",
      "14        Leave absence status updates missing           NaN     27   \n",
      "15               FMLA leave date discrepancies           NaN      0   \n",
      "16  FMLA leave exhaustion clarification needed           NaN      0   \n",
      "17                                          KB           NaN      2   \n",
      "18                   FMLA requirements unclear           NaN      0   \n",
      "19          FMLA leave request process complex           NaN      0   \n",
      "20                    HR Connect access issues           NaN      5   \n",
      "21                FMLA documentation confusion           NaN      0   \n",
      "\n",
      "    Topic_Probability                                     Error_Category  \n",
      "2            1.000000  Confusion About Leave Request Submission or Ap...  \n",
      "3            1.000000  Confusion About Leave Request Submission or Ap...  \n",
      "4            1.000000  Confusion About Leave Request Submission or Ap...  \n",
      "5            1.000000          Complex or Confusing Enrollment Processes  \n",
      "6            1.000000       Unclear FMLA or Bonding Eligibility Criteria  \n",
      "7            0.000000     Region-Specific Policy or Escalation Confusion  \n",
      "8            1.000000  Confusion About Leave Request Submission or Ap...  \n",
      "9            1.000000    Knowledge Base Articles Missing or Not Relevant  \n",
      "10           1.000000            Inability to Access HR Systems or Forms  \n",
      "11           1.000000    Knowledge Base Articles Missing or Not Relevant  \n",
      "12           1.000000  Paycheck Errors, Deductions, or Overpayment Di...  \n",
      "13           1.000000  Confusion About Leave Request Submission or Ap...  \n",
      "14           1.000000  Confusion About Leave Request Submission or Ap...  \n",
      "15           1.000000  Confusion About Leave Request Submission or Ap...  \n",
      "16           1.000000  Confusion About Leave Request Submission or Ap...  \n",
      "17           0.563796    Knowledge Base Articles Missing or Not Relevant  \n",
      "18           1.000000  Confusion About Leave Request Submission or Ap...  \n",
      "19           1.000000  Confusion About Leave Request Submission or Ap...  \n",
      "20           1.000000    Knowledge Base Articles Missing or Not Relevant  \n",
      "21           1.000000  Confusion About Leave Request Submission or Ap...  \n"
     ]
    }
   ],
   "source": [
    "df[\"Error_Category\"] = df[\"Topic\"].map(taxonomy_mapping)\n",
    "print(df.head(20))\n",
    "df.to_csv(\"classified_errors.csv\", index=False)"
   ]
  },
  {
   "cell_type": "code",
   "execution_count": 102,
   "id": "fcacc137",
   "metadata": {},
   "outputs": [],
   "source": [
    "df_noise = pd.DataFrame({\n",
    "    \"Error\": noise_texts,\n",
    "    \"New_Topic\": noise_topics,\n",
    "    \"New_Topic_Probability\": noise_probs\n",
    "})"
   ]
  },
  {
   "cell_type": "code",
   "execution_count": 103,
   "id": "0378fb00",
   "metadata": {},
   "outputs": [
    {
     "name": "stdout",
     "output_type": "stream",
     "text": [
      "                       Label                                  Error  \\\n",
      "2  -1_leave_fmla_case_status                  FMLA paperwork delays   \n",
      "3  -1_leave_fmla_case_status             FMLA eligibility confusion   \n",
      "4  -1_leave_fmla_case_status  Leave absence request processing slow   \n",
      "5  -1_leave_fmla_case_status            Documentation upload issues   \n",
      "6  -1_leave_fmla_case_status                  Payroll discrepancies   \n",
      "\n",
      "   Parent Label  Topic  Topic_Probability  \n",
      "2           NaN     50                1.0  \n",
      "3           NaN    100                1.0  \n",
      "4           NaN    115                1.0  \n",
      "5           NaN     80                1.0  \n",
      "6           NaN    110                1.0  \n"
     ]
    },
    {
     "ename": "KeyError",
     "evalue": "\"['Granular_Topic', 'Source'] not in index\"",
     "output_type": "error",
     "traceback": [
      "\u001b[1;31m---------------------------------------------------------------------------\u001b[0m",
      "\u001b[1;31mKeyError\u001b[0m                                  Traceback (most recent call last)",
      "Cell \u001b[1;32mIn[103], line 5\u001b[0m\n\u001b[0;32m      1\u001b[0m \u001b[38;5;28mprint\u001b[39m(df_with_topics\u001b[38;5;241m.\u001b[39mhead(\u001b[38;5;241m5\u001b[39m))\n\u001b[0;32m      2\u001b[0m \u001b[38;5;66;03m# print(df_noise.head(5))\u001b[39;00m\n\u001b[0;32m      4\u001b[0m df_all \u001b[38;5;241m=\u001b[39m pd\u001b[38;5;241m.\u001b[39mconcat([\n\u001b[1;32m----> 5\u001b[0m     \u001b[43mdf_with_topics\u001b[49m\u001b[43m[\u001b[49m\u001b[43m[\u001b[49m\u001b[38;5;124;43m\"\u001b[39;49m\u001b[38;5;124;43mError\u001b[39;49m\u001b[38;5;124;43m\"\u001b[39;49m\u001b[43m,\u001b[49m\u001b[43m \u001b[49m\u001b[38;5;124;43m\"\u001b[39;49m\u001b[38;5;124;43mGranular_Topic\u001b[39;49m\u001b[38;5;124;43m\"\u001b[39;49m\u001b[43m,\u001b[49m\u001b[43m \u001b[49m\u001b[38;5;124;43m\"\u001b[39;49m\u001b[38;5;124;43mSource\u001b[39;49m\u001b[38;5;124;43m\"\u001b[39;49m\u001b[43m]\u001b[49m\u001b[43m]\u001b[49m,\n\u001b[0;32m      6\u001b[0m     df_noise[[\u001b[38;5;124m\"\u001b[39m\u001b[38;5;124mError\u001b[39m\u001b[38;5;124m\"\u001b[39m, \u001b[38;5;124m\"\u001b[39m\u001b[38;5;124mGranular_Topic\u001b[39m\u001b[38;5;124m\"\u001b[39m, \u001b[38;5;124m\"\u001b[39m\u001b[38;5;124mSource\u001b[39m\u001b[38;5;124m\"\u001b[39m]]\n\u001b[0;32m      7\u001b[0m ], ignore_index\u001b[38;5;241m=\u001b[39m\u001b[38;5;28;01mTrue\u001b[39;00m)\n",
      "File \u001b[1;32mc:\\Users\\A128842\\AppData\\Local\\Programs\\Python\\Python310\\lib\\site-packages\\pandas\\core\\frame.py:4113\u001b[0m, in \u001b[0;36mDataFrame.__getitem__\u001b[1;34m(self, key)\u001b[0m\n\u001b[0;32m   4111\u001b[0m     \u001b[38;5;28;01mif\u001b[39;00m is_iterator(key):\n\u001b[0;32m   4112\u001b[0m         key \u001b[38;5;241m=\u001b[39m \u001b[38;5;28mlist\u001b[39m(key)\n\u001b[1;32m-> 4113\u001b[0m     indexer \u001b[38;5;241m=\u001b[39m \u001b[38;5;28;43mself\u001b[39;49m\u001b[38;5;241;43m.\u001b[39;49m\u001b[43mcolumns\u001b[49m\u001b[38;5;241;43m.\u001b[39;49m\u001b[43m_get_indexer_strict\u001b[49m\u001b[43m(\u001b[49m\u001b[43mkey\u001b[49m\u001b[43m,\u001b[49m\u001b[43m \u001b[49m\u001b[38;5;124;43m\"\u001b[39;49m\u001b[38;5;124;43mcolumns\u001b[39;49m\u001b[38;5;124;43m\"\u001b[39;49m\u001b[43m)\u001b[49m[\u001b[38;5;241m1\u001b[39m]\n\u001b[0;32m   4115\u001b[0m \u001b[38;5;66;03m# take() does not accept boolean indexers\u001b[39;00m\n\u001b[0;32m   4116\u001b[0m \u001b[38;5;28;01mif\u001b[39;00m \u001b[38;5;28mgetattr\u001b[39m(indexer, \u001b[38;5;124m\"\u001b[39m\u001b[38;5;124mdtype\u001b[39m\u001b[38;5;124m\"\u001b[39m, \u001b[38;5;28;01mNone\u001b[39;00m) \u001b[38;5;241m==\u001b[39m \u001b[38;5;28mbool\u001b[39m:\n",
      "File \u001b[1;32mc:\\Users\\A128842\\AppData\\Local\\Programs\\Python\\Python310\\lib\\site-packages\\pandas\\core\\indexes\\base.py:6212\u001b[0m, in \u001b[0;36mIndex._get_indexer_strict\u001b[1;34m(self, key, axis_name)\u001b[0m\n\u001b[0;32m   6209\u001b[0m \u001b[38;5;28;01melse\u001b[39;00m:\n\u001b[0;32m   6210\u001b[0m     keyarr, indexer, new_indexer \u001b[38;5;241m=\u001b[39m \u001b[38;5;28mself\u001b[39m\u001b[38;5;241m.\u001b[39m_reindex_non_unique(keyarr)\n\u001b[1;32m-> 6212\u001b[0m \u001b[38;5;28;43mself\u001b[39;49m\u001b[38;5;241;43m.\u001b[39;49m\u001b[43m_raise_if_missing\u001b[49m\u001b[43m(\u001b[49m\u001b[43mkeyarr\u001b[49m\u001b[43m,\u001b[49m\u001b[43m \u001b[49m\u001b[43mindexer\u001b[49m\u001b[43m,\u001b[49m\u001b[43m \u001b[49m\u001b[43maxis_name\u001b[49m\u001b[43m)\u001b[49m\n\u001b[0;32m   6214\u001b[0m keyarr \u001b[38;5;241m=\u001b[39m \u001b[38;5;28mself\u001b[39m\u001b[38;5;241m.\u001b[39mtake(indexer)\n\u001b[0;32m   6215\u001b[0m \u001b[38;5;28;01mif\u001b[39;00m \u001b[38;5;28misinstance\u001b[39m(key, Index):\n\u001b[0;32m   6216\u001b[0m     \u001b[38;5;66;03m# GH 42790 - Preserve name from an Index\u001b[39;00m\n",
      "File \u001b[1;32mc:\\Users\\A128842\\AppData\\Local\\Programs\\Python\\Python310\\lib\\site-packages\\pandas\\core\\indexes\\base.py:6264\u001b[0m, in \u001b[0;36mIndex._raise_if_missing\u001b[1;34m(self, key, indexer, axis_name)\u001b[0m\n\u001b[0;32m   6261\u001b[0m     \u001b[38;5;28;01mraise\u001b[39;00m \u001b[38;5;167;01mKeyError\u001b[39;00m(\u001b[38;5;124mf\u001b[39m\u001b[38;5;124m\"\u001b[39m\u001b[38;5;124mNone of [\u001b[39m\u001b[38;5;132;01m{\u001b[39;00mkey\u001b[38;5;132;01m}\u001b[39;00m\u001b[38;5;124m] are in the [\u001b[39m\u001b[38;5;132;01m{\u001b[39;00maxis_name\u001b[38;5;132;01m}\u001b[39;00m\u001b[38;5;124m]\u001b[39m\u001b[38;5;124m\"\u001b[39m)\n\u001b[0;32m   6263\u001b[0m not_found \u001b[38;5;241m=\u001b[39m \u001b[38;5;28mlist\u001b[39m(ensure_index(key)[missing_mask\u001b[38;5;241m.\u001b[39mnonzero()[\u001b[38;5;241m0\u001b[39m]]\u001b[38;5;241m.\u001b[39munique())\n\u001b[1;32m-> 6264\u001b[0m \u001b[38;5;28;01mraise\u001b[39;00m \u001b[38;5;167;01mKeyError\u001b[39;00m(\u001b[38;5;124mf\u001b[39m\u001b[38;5;124m\"\u001b[39m\u001b[38;5;132;01m{\u001b[39;00mnot_found\u001b[38;5;132;01m}\u001b[39;00m\u001b[38;5;124m not in index\u001b[39m\u001b[38;5;124m\"\u001b[39m)\n",
      "\u001b[1;31mKeyError\u001b[0m: \"['Granular_Topic', 'Source'] not in index\""
     ]
    }
   ],
   "source": [
    "print(df_with_topics.head(5))\n",
    "\n",
    "# print(df_noise.head(5))\n",
    "\n",
    "df_all = pd.concat([\n",
    "    df_with_topics[[\"Error\", \"Granular_Topic\", \"Source\"]],\n",
    "    df_noise[[\"Error\", \"Granular_Topic\", \"Source\"]]\n",
    "], ignore_index=True)"
   ]
  },
  {
   "cell_type": "code",
   "execution_count": 75,
   "id": "2c80c77e",
   "metadata": {},
   "outputs": [
    {
     "name": "stderr",
     "output_type": "stream",
     "text": [
      "2025-07-08 15:44:17,299 - BERTopic - Topic reduction - Reducing number of topics\n",
      "2025-07-08 15:44:17,303 - BERTopic - Topic reduction - Number of topics (15) is equal or higher than the clustered topics(15).\n",
      "2025-07-08 15:44:17,303 - BERTopic - Representation - Fine-tuning topics using representation models.\n",
      "2025-07-08 15:44:17,442 - BERTopic - Representation - Completed ✓\n",
      "Batches: 100%|██████████| 7/7 [00:00<00:00, 23.19it/s]\n",
      "2025-07-08 15:44:17,777 - BERTopic - Dimensionality - Reducing dimensionality of input embeddings.\n",
      "2025-07-08 15:44:17,777 - BERTopic - Dimensionality - Completed ✓\n",
      "2025-07-08 15:44:17,777 - BERTopic - Clustering - Approximating new points with `hdbscan_model`\n"
     ]
    },
    {
     "ename": "AttributeError",
     "evalue": "No prediction data was generated",
     "output_type": "error",
     "traceback": [
      "\u001b[1;31m---------------------------------------------------------------------------\u001b[0m",
      "\u001b[1;31mAttributeError\u001b[0m                            Traceback (most recent call last)",
      "Cell \u001b[1;32mIn[75], line 8\u001b[0m\n\u001b[0;32m      1\u001b[0m noise_topic_model\u001b[38;5;241m.\u001b[39mreduce_topics(\n\u001b[0;32m      2\u001b[0m     docs\u001b[38;5;241m=\u001b[39mdf_noise[\u001b[38;5;124m\"\u001b[39m\u001b[38;5;124mError\u001b[39m\u001b[38;5;124m\"\u001b[39m]\u001b[38;5;241m.\u001b[39mtolist(),\n\u001b[0;32m      3\u001b[0m     nr_topics\u001b[38;5;241m=\u001b[39m\u001b[38;5;241m15\u001b[39m\n\u001b[0;32m      4\u001b[0m )\n\u001b[0;32m      7\u001b[0m \u001b[38;5;66;03m# Step 2: Re-transform to get updated assignments\u001b[39;00m\n\u001b[1;32m----> 8\u001b[0m new_topics, new_probs \u001b[38;5;241m=\u001b[39m \u001b[43mnoise_topic_model\u001b[49m\u001b[38;5;241;43m.\u001b[39;49m\u001b[43mtransform\u001b[49m\u001b[43m(\u001b[49m\u001b[43mdf_noise\u001b[49m\u001b[43m[\u001b[49m\u001b[38;5;124;43m\"\u001b[39;49m\u001b[38;5;124;43mError\u001b[39;49m\u001b[38;5;124;43m\"\u001b[39;49m\u001b[43m]\u001b[49m\u001b[38;5;241;43m.\u001b[39;49m\u001b[43mtolist\u001b[49m\u001b[43m(\u001b[49m\u001b[43m)\u001b[49m\u001b[43m)\u001b[49m\n\u001b[0;32m     10\u001b[0m \u001b[38;5;66;03m# Step 3: Attach\u001b[39;00m\n\u001b[0;32m     11\u001b[0m df_noise[\u001b[38;5;124m\"\u001b[39m\u001b[38;5;124mReduced_Topic\u001b[39m\u001b[38;5;124m\"\u001b[39m] \u001b[38;5;241m=\u001b[39m new_topics\n",
      "File \u001b[1;32mc:\\Users\\A128842\\AppData\\Local\\Programs\\Python\\Python310\\lib\\site-packages\\bertopic\\_bertopic.py:625\u001b[0m, in \u001b[0;36mBERTopic.transform\u001b[1;34m(self, documents, embeddings, images)\u001b[0m\n\u001b[0;32m    623\u001b[0m logger\u001b[38;5;241m.\u001b[39minfo(\u001b[38;5;124m\"\u001b[39m\u001b[38;5;124mClustering - Approximating new points with `hdbscan_model`\u001b[39m\u001b[38;5;124m\"\u001b[39m)\n\u001b[0;32m    624\u001b[0m \u001b[38;5;28;01mif\u001b[39;00m is_supported_hdbscan(\u001b[38;5;28mself\u001b[39m\u001b[38;5;241m.\u001b[39mhdbscan_model):\n\u001b[1;32m--> 625\u001b[0m     predictions, probabilities \u001b[38;5;241m=\u001b[39m \u001b[43mhdbscan_delegator\u001b[49m\u001b[43m(\u001b[49m\n\u001b[0;32m    626\u001b[0m \u001b[43m        \u001b[49m\u001b[38;5;28;43mself\u001b[39;49m\u001b[38;5;241;43m.\u001b[39;49m\u001b[43mhdbscan_model\u001b[49m\u001b[43m,\u001b[49m\u001b[43m \u001b[49m\u001b[38;5;124;43m\"\u001b[39;49m\u001b[38;5;124;43mapproximate_predict\u001b[39;49m\u001b[38;5;124;43m\"\u001b[39;49m\u001b[43m,\u001b[49m\u001b[43m \u001b[49m\u001b[43mumap_embeddings\u001b[49m\n\u001b[0;32m    627\u001b[0m \u001b[43m    \u001b[49m\u001b[43m)\u001b[49m\n\u001b[0;32m    629\u001b[0m     \u001b[38;5;66;03m# Calculate probabilities\u001b[39;00m\n\u001b[0;32m    630\u001b[0m     \u001b[38;5;28;01mif\u001b[39;00m \u001b[38;5;28mself\u001b[39m\u001b[38;5;241m.\u001b[39mcalculate_probabilities:\n",
      "File \u001b[1;32mc:\\Users\\A128842\\AppData\\Local\\Programs\\Python\\Python310\\lib\\site-packages\\bertopic\\cluster\\_utils.py:25\u001b[0m, in \u001b[0;36mhdbscan_delegator\u001b[1;34m(model, func, embeddings)\u001b[0m\n\u001b[0;32m     23\u001b[0m \u001b[38;5;28;01mif\u001b[39;00m func \u001b[38;5;241m==\u001b[39m \u001b[38;5;124m\"\u001b[39m\u001b[38;5;124mapproximate_predict\u001b[39m\u001b[38;5;124m\"\u001b[39m:\n\u001b[0;32m     24\u001b[0m     \u001b[38;5;28;01mif\u001b[39;00m \u001b[38;5;28misinstance\u001b[39m(model, hdbscan\u001b[38;5;241m.\u001b[39mHDBSCAN):\n\u001b[1;32m---> 25\u001b[0m         predictions, probabilities \u001b[38;5;241m=\u001b[39m \u001b[43mhdbscan\u001b[49m\u001b[38;5;241;43m.\u001b[39;49m\u001b[43mapproximate_predict\u001b[49m\u001b[43m(\u001b[49m\u001b[43mmodel\u001b[49m\u001b[43m,\u001b[49m\u001b[43m \u001b[49m\u001b[43membeddings\u001b[49m\u001b[43m)\u001b[49m\n\u001b[0;32m     26\u001b[0m         \u001b[38;5;28;01mreturn\u001b[39;00m predictions, probabilities\n\u001b[0;32m     28\u001b[0m     str_type_model \u001b[38;5;241m=\u001b[39m \u001b[38;5;28mstr\u001b[39m(\u001b[38;5;28mtype\u001b[39m(model))\u001b[38;5;241m.\u001b[39mlower()\n",
      "File \u001b[1;32mc:\\Users\\A128842\\AppData\\Local\\Programs\\Python\\Python310\\lib\\site-packages\\hdbscan\\prediction.py:379\u001b[0m, in \u001b[0;36mapproximate_predict\u001b[1;34m(clusterer, points_to_predict, return_connecting_points)\u001b[0m\n\u001b[0;32m    331\u001b[0m \u001b[38;5;28;01mdef\u001b[39;00m\u001b[38;5;250m \u001b[39m\u001b[38;5;21mapproximate_predict\u001b[39m(clusterer, points_to_predict, return_connecting_points\u001b[38;5;241m=\u001b[39m\u001b[38;5;28;01mFalse\u001b[39;00m):\n\u001b[0;32m    332\u001b[0m \u001b[38;5;250m    \u001b[39m\u001b[38;5;124;03m\"\"\"Predict the cluster label of new points. The returned labels\u001b[39;00m\n\u001b[0;32m    333\u001b[0m \u001b[38;5;124;03m    will be those of the original clustering found by ``clusterer``,\u001b[39;00m\n\u001b[0;32m    334\u001b[0m \u001b[38;5;124;03m    and therefore are not (necessarily) the cluster labels that would\u001b[39;00m\n\u001b[1;32m   (...)\u001b[0m\n\u001b[0;32m    377\u001b[0m \n\u001b[0;32m    378\u001b[0m \u001b[38;5;124;03m    \"\"\"\u001b[39;00m\n\u001b[1;32m--> 379\u001b[0m     \u001b[38;5;28;01mif\u001b[39;00m \u001b[43mclusterer\u001b[49m\u001b[38;5;241;43m.\u001b[39;49m\u001b[43mprediction_data_\u001b[49m \u001b[38;5;129;01mis\u001b[39;00m \u001b[38;5;28;01mNone\u001b[39;00m:\n\u001b[0;32m    380\u001b[0m         \u001b[38;5;28;01mraise\u001b[39;00m \u001b[38;5;167;01mValueError\u001b[39;00m(\u001b[38;5;124m'\u001b[39m\u001b[38;5;124mClusterer does not have prediction data!\u001b[39m\u001b[38;5;124m'\u001b[39m\n\u001b[0;32m    381\u001b[0m                          \u001b[38;5;124m'\u001b[39m\u001b[38;5;124m Try fitting with prediction_data=True set,\u001b[39m\u001b[38;5;124m'\u001b[39m\n\u001b[0;32m    382\u001b[0m                          \u001b[38;5;124m'\u001b[39m\u001b[38;5;124m or run generate_prediction_data on the clusterer\u001b[39m\u001b[38;5;124m'\u001b[39m)\n\u001b[0;32m    384\u001b[0m     points_to_predict \u001b[38;5;241m=\u001b[39m np\u001b[38;5;241m.\u001b[39masarray(points_to_predict)\n",
      "File \u001b[1;32mc:\\Users\\A128842\\AppData\\Local\\Programs\\Python\\Python310\\lib\\site-packages\\hdbscan\\hdbscan_.py:1464\u001b[0m, in \u001b[0;36mHDBSCAN.prediction_data_\u001b[1;34m(self)\u001b[0m\n\u001b[0;32m   1461\u001b[0m \u001b[38;5;129m@property\u001b[39m\n\u001b[0;32m   1462\u001b[0m \u001b[38;5;28;01mdef\u001b[39;00m\u001b[38;5;250m \u001b[39m\u001b[38;5;21mprediction_data_\u001b[39m(\u001b[38;5;28mself\u001b[39m):\n\u001b[0;32m   1463\u001b[0m     \u001b[38;5;28;01mif\u001b[39;00m \u001b[38;5;28mself\u001b[39m\u001b[38;5;241m.\u001b[39m_prediction_data \u001b[38;5;129;01mis\u001b[39;00m \u001b[38;5;28;01mNone\u001b[39;00m:\n\u001b[1;32m-> 1464\u001b[0m         \u001b[38;5;28;01mraise\u001b[39;00m \u001b[38;5;167;01mAttributeError\u001b[39;00m(\u001b[38;5;124m\"\u001b[39m\u001b[38;5;124mNo prediction data was generated\u001b[39m\u001b[38;5;124m\"\u001b[39m)\n\u001b[0;32m   1465\u001b[0m     \u001b[38;5;28;01melse\u001b[39;00m:\n\u001b[0;32m   1466\u001b[0m         \u001b[38;5;28;01mreturn\u001b[39;00m \u001b[38;5;28mself\u001b[39m\u001b[38;5;241m.\u001b[39m_prediction_data\n",
      "\u001b[1;31mAttributeError\u001b[0m: No prediction data was generated"
     ]
    }
   ],
   "source": [
    "noise_topic_model.reduce_topics(\n",
    "    docs=df_noise[\"Error\"].tolist(),\n",
    "    nr_topics=15\n",
    ")\n",
    "\n",
    "\n",
    "# Step 2: Re-transform to get updated assignments\n",
    "new_topics, new_probs = noise_topic_model.transform(df_noise[\"Error\"].tolist())\n",
    "\n",
    "# Step 3: Attach\n",
    "df_noise[\"Reduced_Topic\"] = new_topics\n",
    "df_noise[\"Reduced_Topic_Probability\"] = new_probs\n"
   ]
  },
  {
   "cell_type": "markdown",
   "id": "4e40303e",
   "metadata": {},
   "source": [
    "Review Top Topics"
   ]
  },
  {
   "cell_type": "code",
   "execution_count": 44,
   "id": "581eeab9",
   "metadata": {},
   "outputs": [
    {
     "name": "stdout",
     "output_type": "stream",
     "text": [
      "    Topic  Count                                          Name  \\\n",
      "0      -1    194        -1_process_for_escalation_verification   \n",
      "1       0    108             0_fmla_eligibility_leave_criteria   \n",
      "2       1     80                      1_unable_hr_to_hrconnect   \n",
      "3       2     60  2_discrepancies_paycheck_discrepancy_payment   \n",
      "4       3     52                  3_leave_form_request_absence   \n",
      "5       4     38               4_unaware_type_employee_accrual   \n",
      "6       5     32              5_delays_system_delay_processing   \n",
      "7       6     30           6_manager_absence_managers_approval   \n",
      "8       7     30     7_communicated_employees_confuse_policies   \n",
      "9       8     27        8_upload_document_instructions_unclear   \n",
      "10      9     23                9_benefit_status_family_denial   \n",
      "11     10     21            10_causing_confusion_complex_shift   \n",
      "12     11     19           11_transcripts_provided_articles_kb   \n",
      "13     12     17              12_retiree_medicare_pension_with   \n",
      "14     13     17        13_enrollment_cobra_dependent_transfer   \n",
      "15     14     17                 14_california_region_pfl_conf   \n",
      "16     15     17       15_bonding_eligibility_criteria_unclear   \n",
      "17     16     17  16_documentation_documents_requirements_need   \n",
      "18     17     17   17_unresolved_disability_insurance_creation   \n",
      "19     18     16                 18_vacation_timing_sum_review   \n",
      "20     19     16              19_articles_addressing_issues_kb   \n",
      "21     20     14             20_transcript_article_provided_in   \n",
      "22     21     14            21_directly_addressing_specific_kb   \n",
      "23     22     13                   22_pto_integration_with_and   \n",
      "24     23     13             23_summary_provided_first_article   \n",
      "25     24     13                                24_employee___   \n",
      "26     25     13                25_union_inconsistent_plan_and   \n",
      "27     26     13       26_guidance_missing_clear_documentation   \n",
      "28     27     12             27_references_outdated_kb_article   \n",
      "29     28     11               28_donation_fmla_maximums_leave   \n",
      "30     29     11            29_articles_addressing_kb_directly   \n",
      "31     30     10            30_clear_mcc_instructions_template   \n",
      "32     31     10          31_overpayment_explained_cases_issue   \n",
      "33     32     10                   32_links_broken_linked_link   \n",
      "\n",
      "                                       Representation  \\\n",
      "0   [process, for, escalation, verification, leave...   \n",
      "1   [fmla, eligibility, leave, criteria, clarifica...   \n",
      "2   [unable, hr, to, hrconnect, contact, consultan...   \n",
      "3   [discrepancies, paycheck, discrepancy, payment...   \n",
      "4   [leave, form, request, absence, submission, re...   \n",
      "5   [unaware, type, employee, accrual, certificati...   \n",
      "6   [delays, system, delay, processing, update, pr...   \n",
      "7   [manager, absence, managers, approval, lacking...   \n",
      "8   [communicated, employees, confuse, policies, c...   \n",
      "9   [upload, document, instructions, unclear, foll...   \n",
      "10  [benefit, status, family, denial, termination,...   \n",
      "11  [causing, confusion, complex, shift, by, metho...   \n",
      "12  [transcripts, provided, articles, kb, in, not,...   \n",
      "13  [retiree, medicare, pension, with, part, help,...   \n",
      "14  [enrollment, cobra, dependent, transfer, maili...   \n",
      "15  [california, region, pfl, conf, southern, inte...   \n",
      "16  [bonding, eligibility, criteria, unclear, for,...   \n",
      "17  [documentation, documents, requirements, need,...   \n",
      "18  [unresolved, disability, insurance, creation, ...   \n",
      "19  [vacation, timing, sum, review, lump, misunder...   \n",
      "20  [articles, addressing, issues, kb, directly, k...   \n",
      "21  [transcript, article, provided, in, kb, not, t...   \n",
      "22  [directly, addressing, specific, kb, articles,...   \n",
      "23  [pto, integration, with, and, pfl, vac, hmo, h...   \n",
      "24  [summary, provided, first, article, any, kb, n...   \n",
      "25                       [employee, , , , , , , , , ]   \n",
      "26  [union, inconsistent, plan, and, over, confusi...   \n",
      "27  [guidance, missing, clear, documentation, mary...   \n",
      "28  [references, outdated, kb, article, relevance,...   \n",
      "29  [donation, fmla, maximums, leave, pay, accrue,...   \n",
      "30  [articles, addressing, kb, directly, specific,...   \n",
      "31  [clear, mcc, instructions, template, step, lac...   \n",
      "32  [overpayment, explained, cases, issue, result,...   \n",
      "33  [links, broken, linked, link, directly, articl...   \n",
      "\n",
      "                                  Representative_Docs  \n",
      "0   [Escalation process lacks clear timeline, Empl...  \n",
      "1   [FMLA eligibility criteria unclear, FMLA eligi...  \n",
      "2   [Manager unable to access employee timecard in...  \n",
      "3   [Pay period deductions vary causing paycheck d...  \n",
      "4   [Leave form submission timing unclear, Leave r...  \n",
      "5   [Employee unaware of eligibility criteria for ...  \n",
      "6   [delays., System maintenance causing delays, E...  \n",
      "7   [Manager guidance on leave documentation lacki...  \n",
      "8   [Inconsistent leave policies across different ...  \n",
      "9   [lacks specific steps for document upload, Doc...  \n",
      "10  [Benefit coverage status not addressed, Benefi...  \n",
      "11  [causing confusion, causing confusion, causing...  \n",
      "12  [KB articles not provided in transcripts, KB a...  \n",
      "13  [Retiree needs clarification on medicare part ...  \n",
      "14  [Dependent enrollment process complex, Benefit...  \n",
      "15  [California region lacks clear PTO integration...  \n",
      "16  [Employee eligibility criteria unclear, Bondin...  \n",
      "17  [Need for support documents not clearly commun...  \n",
      "18  [Disability insurance impact on pay unclear, D...  \n",
      "19  [Anniversary review timing and procedures uncl...  \n",
      "20  [KB articles not directly addressing issues, K...  \n",
      "21  [KB article not provided in transcript, KB art...  \n",
      "22  [KB articles not directly addressing specific ...  \n",
      "23  [Employees need better guidance on leave integ...  \n",
      "24  [KB article not provided in first summary, KB ...  \n",
      "25                     [Employee, Employee, Employee]  \n",
      "26  [Confusion over plan types and coverage detail...  \n",
      "27  [Guidance missing for updating absence request...  \n",
      "28  [Confusing KB article references, Inconsistent...  \n",
      "29  [FMLA leave donation pay time, FMLA leave dona...  \n",
      "30  [KB articles not directly addressing specific ...  \n",
      "31  [Lack of clear instructions on form submission...  \n",
      "32  [Overpayment impact on paycheck not explained,...  \n",
      "33  [KB article not directly linked, KB links brok...  \n"
     ]
    }
   ],
   "source": [
    "import pandas as pd\n",
    "\n",
    "# Remove row display limits\n",
    "pd.set_option(\"display.max_rows\", None)\n",
    "\n",
    "# Get the full topic summary DataFrame\n",
    "topic_info = topic_model.get_topic_info()\n",
    "\n",
    "# Print it (no truncation)\n",
    "print(topic_info)"
   ]
  },
  {
   "cell_type": "code",
   "execution_count": 47,
   "id": "d4557098",
   "metadata": {},
   "outputs": [],
   "source": [
    "rep_docs = topic_model.get_representative_docs()"
   ]
  },
  {
   "cell_type": "code",
   "execution_count": 48,
   "id": "00b098f6",
   "metadata": {},
   "outputs": [
    {
     "name": "stdout",
     "output_type": "stream",
     "text": [
      "   Topic                             Representative Example\n",
      "0     -1            Escalation process lacks clear timeline\n",
      "1     -1  Employee lacks clear guidance on leave applica...\n",
      "2     -1   Employee unclear on regional HR escalation steps\n",
      "3      0                  FMLA eligibility criteria unclear\n",
      "4      0                  FMLA eligibility criteria unclear\n",
      "5      0                           FMLA eligibility unclear\n",
      "6      1  Manager unable to access employee timecard in ...\n",
      "7      1   Employee unable to locate specific leave details\n",
      "8      1  Employee unable to find specific regional HR c...\n",
      "9      2  Pay period deductions vary causing paycheck di...\n"
     ]
    }
   ],
   "source": [
    "import pandas as pd\n",
    "\n",
    "# Create a list of rows\n",
    "rows = []\n",
    "for topic_id, docs in rep_docs.items():\n",
    "    for doc in docs:\n",
    "        rows.append({\"Topic\": topic_id, \"Representative Example\": doc})\n",
    "\n",
    "# Convert to DataFrame\n",
    "df_representative = pd.DataFrame(rows)\n",
    "\n",
    "# Optional: sort by Topic\n",
    "df_representative = df_representative.sort_values(by=\"Topic\").reset_index(drop=True)\n",
    "\n",
    "# Preview\n",
    "print(df_representative.head(10))\n"
   ]
  },
  {
   "cell_type": "markdown",
   "id": "2566dd57",
   "metadata": {},
   "source": [
    "Process the uncategorized ones"
   ]
  },
  {
   "cell_type": "code",
   "execution_count": 46,
   "id": "4b3e350b",
   "metadata": {},
   "outputs": [
    {
     "ename": "KeyError",
     "evalue": "'topic'",
     "output_type": "error",
     "traceback": [
      "\u001b[1;31m---------------------------------------------------------------------------\u001b[0m",
      "\u001b[1;31mKeyError\u001b[0m                                  Traceback (most recent call last)",
      "File \u001b[1;32mc:\\Users\\A128842\\AppData\\Local\\Programs\\Python\\Python310\\lib\\site-packages\\pandas\\core\\indexes\\base.py:3812\u001b[0m, in \u001b[0;36mIndex.get_loc\u001b[1;34m(self, key)\u001b[0m\n\u001b[0;32m   3811\u001b[0m \u001b[38;5;28;01mtry\u001b[39;00m:\n\u001b[1;32m-> 3812\u001b[0m     \u001b[38;5;28;01mreturn\u001b[39;00m \u001b[38;5;28;43mself\u001b[39;49m\u001b[38;5;241;43m.\u001b[39;49m\u001b[43m_engine\u001b[49m\u001b[38;5;241;43m.\u001b[39;49m\u001b[43mget_loc\u001b[49m\u001b[43m(\u001b[49m\u001b[43mcasted_key\u001b[49m\u001b[43m)\u001b[49m\n\u001b[0;32m   3813\u001b[0m \u001b[38;5;28;01mexcept\u001b[39;00m \u001b[38;5;167;01mKeyError\u001b[39;00m \u001b[38;5;28;01mas\u001b[39;00m err:\n",
      "File \u001b[1;32mpandas/_libs/index.pyx:167\u001b[0m, in \u001b[0;36mpandas._libs.index.IndexEngine.get_loc\u001b[1;34m()\u001b[0m\n",
      "File \u001b[1;32mpandas/_libs/index.pyx:196\u001b[0m, in \u001b[0;36mpandas._libs.index.IndexEngine.get_loc\u001b[1;34m()\u001b[0m\n",
      "File \u001b[1;32mpandas/_libs/hashtable_class_helper.pxi:7088\u001b[0m, in \u001b[0;36mpandas._libs.hashtable.PyObjectHashTable.get_item\u001b[1;34m()\u001b[0m\n",
      "File \u001b[1;32mpandas/_libs/hashtable_class_helper.pxi:7096\u001b[0m, in \u001b[0;36mpandas._libs.hashtable.PyObjectHashTable.get_item\u001b[1;34m()\u001b[0m\n",
      "\u001b[1;31mKeyError\u001b[0m: 'topic'",
      "\nThe above exception was the direct cause of the following exception:\n",
      "\u001b[1;31mKeyError\u001b[0m                                  Traceback (most recent call last)",
      "Cell \u001b[1;32mIn[46], line 2\u001b[0m\n\u001b[0;32m      1\u001b[0m \u001b[38;5;66;03m# Assuming you have your dataframe\u001b[39;00m\n\u001b[1;32m----> 2\u001b[0m df_noise \u001b[38;5;241m=\u001b[39m df[\u001b[43mdf\u001b[49m\u001b[43m[\u001b[49m\u001b[38;5;124;43m\"\u001b[39;49m\u001b[38;5;124;43mtopic\u001b[39;49m\u001b[38;5;124;43m\"\u001b[39;49m\u001b[43m]\u001b[49m \u001b[38;5;241m==\u001b[39m \u001b[38;5;241m-\u001b[39m\u001b[38;5;241m1\u001b[39m]\n\u001b[0;32m      3\u001b[0m docs_noise \u001b[38;5;241m=\u001b[39m df_noise[\u001b[38;5;124m\"\u001b[39m\u001b[38;5;124mError\u001b[39m\u001b[38;5;124m\"\u001b[39m]\u001b[38;5;241m.\u001b[39mtolist()\n",
      "File \u001b[1;32mc:\\Users\\A128842\\AppData\\Local\\Programs\\Python\\Python310\\lib\\site-packages\\pandas\\core\\frame.py:4107\u001b[0m, in \u001b[0;36mDataFrame.__getitem__\u001b[1;34m(self, key)\u001b[0m\n\u001b[0;32m   4105\u001b[0m \u001b[38;5;28;01mif\u001b[39;00m \u001b[38;5;28mself\u001b[39m\u001b[38;5;241m.\u001b[39mcolumns\u001b[38;5;241m.\u001b[39mnlevels \u001b[38;5;241m>\u001b[39m \u001b[38;5;241m1\u001b[39m:\n\u001b[0;32m   4106\u001b[0m     \u001b[38;5;28;01mreturn\u001b[39;00m \u001b[38;5;28mself\u001b[39m\u001b[38;5;241m.\u001b[39m_getitem_multilevel(key)\n\u001b[1;32m-> 4107\u001b[0m indexer \u001b[38;5;241m=\u001b[39m \u001b[38;5;28;43mself\u001b[39;49m\u001b[38;5;241;43m.\u001b[39;49m\u001b[43mcolumns\u001b[49m\u001b[38;5;241;43m.\u001b[39;49m\u001b[43mget_loc\u001b[49m\u001b[43m(\u001b[49m\u001b[43mkey\u001b[49m\u001b[43m)\u001b[49m\n\u001b[0;32m   4108\u001b[0m \u001b[38;5;28;01mif\u001b[39;00m is_integer(indexer):\n\u001b[0;32m   4109\u001b[0m     indexer \u001b[38;5;241m=\u001b[39m [indexer]\n",
      "File \u001b[1;32mc:\\Users\\A128842\\AppData\\Local\\Programs\\Python\\Python310\\lib\\site-packages\\pandas\\core\\indexes\\base.py:3819\u001b[0m, in \u001b[0;36mIndex.get_loc\u001b[1;34m(self, key)\u001b[0m\n\u001b[0;32m   3814\u001b[0m     \u001b[38;5;28;01mif\u001b[39;00m \u001b[38;5;28misinstance\u001b[39m(casted_key, \u001b[38;5;28mslice\u001b[39m) \u001b[38;5;129;01mor\u001b[39;00m (\n\u001b[0;32m   3815\u001b[0m         \u001b[38;5;28misinstance\u001b[39m(casted_key, abc\u001b[38;5;241m.\u001b[39mIterable)\n\u001b[0;32m   3816\u001b[0m         \u001b[38;5;129;01mand\u001b[39;00m \u001b[38;5;28many\u001b[39m(\u001b[38;5;28misinstance\u001b[39m(x, \u001b[38;5;28mslice\u001b[39m) \u001b[38;5;28;01mfor\u001b[39;00m x \u001b[38;5;129;01min\u001b[39;00m casted_key)\n\u001b[0;32m   3817\u001b[0m     ):\n\u001b[0;32m   3818\u001b[0m         \u001b[38;5;28;01mraise\u001b[39;00m InvalidIndexError(key)\n\u001b[1;32m-> 3819\u001b[0m     \u001b[38;5;28;01mraise\u001b[39;00m \u001b[38;5;167;01mKeyError\u001b[39;00m(key) \u001b[38;5;28;01mfrom\u001b[39;00m\u001b[38;5;250m \u001b[39m\u001b[38;5;21;01merr\u001b[39;00m\n\u001b[0;32m   3820\u001b[0m \u001b[38;5;28;01mexcept\u001b[39;00m \u001b[38;5;167;01mTypeError\u001b[39;00m:\n\u001b[0;32m   3821\u001b[0m     \u001b[38;5;66;03m# If we have a listlike key, _check_indexing_error will raise\u001b[39;00m\n\u001b[0;32m   3822\u001b[0m     \u001b[38;5;66;03m#  InvalidIndexError. Otherwise we fall through and re-raise\u001b[39;00m\n\u001b[0;32m   3823\u001b[0m     \u001b[38;5;66;03m#  the TypeError.\u001b[39;00m\n\u001b[0;32m   3824\u001b[0m     \u001b[38;5;28mself\u001b[39m\u001b[38;5;241m.\u001b[39m_check_indexing_error(key)\n",
      "\u001b[1;31mKeyError\u001b[0m: 'topic'"
     ]
    }
   ],
   "source": [
    "# Assuming you have your dataframe\n",
    "df_noise = df[df[\"topic\"] == -1]\n",
    "docs_noise = df_noise[\"Error\"].tolist()"
   ]
  },
  {
   "cell_type": "markdown",
   "id": "8483f71a",
   "metadata": {},
   "source": [
    "Populate our Main Dictionary (Filtered_df) with our found topics"
   ]
  },
  {
   "cell_type": "code",
   "execution_count": 15,
   "id": "baaab61e",
   "metadata": {},
   "outputs": [
    {
     "ename": "NameError",
     "evalue": "name 'filtered_df' is not defined",
     "output_type": "error",
     "traceback": [
      "\u001b[1;31m---------------------------------------------------------------------------\u001b[0m",
      "\u001b[1;31mNameError\u001b[0m                                 Traceback (most recent call last)",
      "Cell \u001b[1;32mIn[15], line 1\u001b[0m\n\u001b[1;32m----> 1\u001b[0m \u001b[43mfiltered_df\u001b[49m[\u001b[38;5;124m\"\u001b[39m\u001b[38;5;124mtopic\u001b[39m\u001b[38;5;124m\"\u001b[39m] \u001b[38;5;241m=\u001b[39m topics\n\u001b[0;32m      2\u001b[0m filtered_df[\u001b[38;5;124m\"\u001b[39m\u001b[38;5;124mtopic_probability\u001b[39m\u001b[38;5;124m\"\u001b[39m] \u001b[38;5;241m=\u001b[39m probs\n",
      "\u001b[1;31mNameError\u001b[0m: name 'filtered_df' is not defined"
     ]
    }
   ],
   "source": [
    "filtered_df[\"topic\"] = topics\n",
    "filtered_df[\"topic_probability\"] = probs"
   ]
  },
  {
   "cell_type": "markdown",
   "id": "acd51ecc",
   "metadata": {},
   "source": [
    "Build Our Dictionary Mapping For Our Database"
   ]
  },
  {
   "cell_type": "code",
   "execution_count": 16,
   "id": "6f2976a5",
   "metadata": {},
   "outputs": [
    {
     "ename": "NameError",
     "evalue": "name 'filtered_df' is not defined",
     "output_type": "error",
     "traceback": [
      "\u001b[1;31m---------------------------------------------------------------------------\u001b[0m",
      "\u001b[1;31mNameError\u001b[0m                                 Traceback (most recent call last)",
      "Cell \u001b[1;32mIn[16], line 11\u001b[0m\n\u001b[0;32m      5\u001b[0m topic_to_label \u001b[38;5;241m=\u001b[39m \u001b[38;5;28mdict\u001b[39m(\u001b[38;5;28mzip\u001b[39m(topic_info[\u001b[38;5;124m\"\u001b[39m\u001b[38;5;124mTopic\u001b[39m\u001b[38;5;124m\"\u001b[39m], topic_info[\u001b[38;5;124m\"\u001b[39m\u001b[38;5;124mName\u001b[39m\u001b[38;5;124m\"\u001b[39m])) \n\u001b[0;32m      7\u001b[0m \u001b[38;5;66;03m# print(topic_to_label)\u001b[39;00m\n\u001b[0;32m      8\u001b[0m \u001b[38;5;66;03m# print(filtered_df[\"topic\"])\u001b[39;00m\n\u001b[0;32m      9\u001b[0m \n\u001b[0;32m     10\u001b[0m \u001b[38;5;66;03m# Check the dtype of the topic column\u001b[39;00m\n\u001b[1;32m---> 11\u001b[0m \u001b[38;5;28mprint\u001b[39m(\u001b[38;5;124m\"\u001b[39m\u001b[38;5;124mTopic column dtype:\u001b[39m\u001b[38;5;124m\"\u001b[39m, \u001b[43mfiltered_df\u001b[49m[\u001b[38;5;124m\"\u001b[39m\u001b[38;5;124mtopic\u001b[39m\u001b[38;5;124m\"\u001b[39m]\u001b[38;5;241m.\u001b[39mdtype)\n\u001b[0;32m     13\u001b[0m \u001b[38;5;66;03m# Show example unique topics\u001b[39;00m\n\u001b[0;32m     14\u001b[0m \u001b[38;5;28mprint\u001b[39m(\u001b[38;5;124m\"\u001b[39m\u001b[38;5;124mExample topic values:\u001b[39m\u001b[38;5;124m\"\u001b[39m, filtered_df[\u001b[38;5;124m\"\u001b[39m\u001b[38;5;124mtopic\u001b[39m\u001b[38;5;124m\"\u001b[39m]\u001b[38;5;241m.\u001b[39munique()[:\u001b[38;5;241m10\u001b[39m])\n",
      "\u001b[1;31mNameError\u001b[0m: name 'filtered_df' is not defined"
     ]
    }
   ],
   "source": [
    "# Get topic info\n",
    "topic_info = topic_model.get_topic_info()\n",
    "\n",
    "# Build mapping {topic_id: topic_name}\n",
    "topic_to_label = dict(zip(topic_info[\"Topic\"], topic_info[\"Name\"])) \n",
    "\n",
    "# print(topic_to_label)\n",
    "# print(filtered_df[\"topic\"])\n",
    "\n",
    "# Check the dtype of the topic column\n",
    "print(\"Topic column dtype:\", filtered_df[\"topic\"].dtype)\n",
    "\n",
    "# Show example unique topics\n",
    "print(\"Example topic values:\", filtered_df[\"topic\"].unique()[:10])\n",
    "\n",
    "# Check one mapping key type\n",
    "sample_key = list(topic_to_label.keys())[0]\n",
    "print(\"Sample key type:\", type(sample_key))\n",
    "\n",
    "unmapped = (\n",
    "    filtered_df.loc[~filtered_df[\"topic\"].isin(topic_to_label.keys()), \"topic\"]\n",
    "    .unique()\n",
    ")\n",
    "print(\"Topic IDs in your data without a mapping:\", unmapped)\n",
    "\n",
    "print(filtered_df[\"topic_label\"].isna().sum())\n",
    "\n",
    "filtered_df[\"topic_label\"] = filtered_df[\"topic\"].map(topic_to_label)"
   ]
  },
  {
   "cell_type": "code",
   "execution_count": 78,
   "id": "0cfe7833",
   "metadata": {},
   "outputs": [
    {
     "name": "stdout",
     "output_type": "stream",
     "text": [
      "                                       Query_Type  Feedback  \\\n",
      "0                                            <NA>  positive   \n",
      "1                                            <NA>  positive   \n",
      "2                                            <NA>  positive   \n",
      "3                                            <NA>  positive   \n",
      "4                                            <NA>  positive   \n",
      "5                                            <NA>  positive   \n",
      "6                                            <NA>  positive   \n",
      "7           certification validity period inquiry  positive   \n",
      "8      medical condition and FMLA extension usage  positive   \n",
      "9                                            <NA>  positive   \n",
      "10                                           <NA>  positive   \n",
      "11                                           <NA>  negative   \n",
      "12                                           <NA>  positive   \n",
      "13                                           <NA>  positive   \n",
      "14                                           <NA>  positive   \n",
      "15                                           <NA>  negative   \n",
      "16                                           <NA>  positive   \n",
      "17       revised leave of absence request process  positive   \n",
      "18  absences coverage and impact on leave balance  positive   \n",
      "19                  SMLA eligibility confirmation  positive   \n",
      "\n",
      "               Conversation_Topic  Conversation_Subtopic  \\\n",
      "0          Accurate Summarization                    NaN   \n",
      "1          Accurate Summarization                    NaN   \n",
      "2          Accurate Summarization                    NaN   \n",
      "3          Accurate Summarization                    NaN   \n",
      "4          Accurate Summarization                    NaN   \n",
      "5          Accurate Summarization                    NaN   \n",
      "6          Accurate Summarization                    NaN   \n",
      "7   Credentialing & Certification                    NaN   \n",
      "8                            FMLA                    NaN   \n",
      "9          Accurate Summarization                    NaN   \n",
      "10         Accurate Summarization                    NaN   \n",
      "11       Inaccurate Summarization                    NaN   \n",
      "12         Accurate Summarization                    NaN   \n",
      "13         Accurate Summarization                    NaN   \n",
      "14         Accurate Summarization                    NaN   \n",
      "15       Inaccurate Summarization                    NaN   \n",
      "16         Accurate Summarization                    NaN   \n",
      "17               Leave of Absence                    NaN   \n",
      "18               Leave of Absence                    NaN   \n",
      "19               Leave of Absence                    NaN   \n",
      "\n",
      "                                     Knowledge_Answer  \\\n",
      "0   status salary advance payment ment hour approv...   \n",
      "1   status salary advance payment ment hour approv...   \n",
      "2   status modify payment arrangement document sen...   \n",
      "3   status modify payment arrangement document sen...   \n",
      "4   add guardian benefit emergency basis health ca...   \n",
      "5   salary step increase retirement health benefit...   \n",
      "6   take leave absence care child disability seek ...   \n",
      "7   employee * california region documentation lic...   \n",
      "8   southern california region employee utilize fa...   \n",
      "9   report thir contribution charles schwab stop d...   \n",
      "10  seek information fmla leave condition step inc...   \n",
      "11  hour condition fmla leave option usage cesla h...   \n",
      "12  update termination date member termination dat...   \n",
      "13  update termination date member termination dat...   \n",
      "14  addition health insurance plan document find a...   \n",
      "15  edd fmla application take leave condition need...   \n",
      "16  edd fmla application take leave condition need...   \n",
      "17  employee southern california region revise lea...   \n",
      "18  * california region leave consider leave emplo...   \n",
      "19  * * fmla eligibility * employee * * southern c...   \n",
      "\n",
      "                                            Knowledge Agent_ID  \\\n",
      "0                                                <NA>  S522948   \n",
      "1                                                <NA>  S522948   \n",
      "2                                                <NA>  S522948   \n",
      "3                                                <NA>  S522948   \n",
      "4                                                <NA>  S160879   \n",
      "5                                                <NA>  S522948   \n",
      "6                                                <NA>  S187441   \n",
      "7   License Certification and Registration LCR 000...  H555395   \n",
      "8   Medical Leave Initiate GA HI MHS NBU NCAL NW S...  H555395   \n",
      "9                                                <NA>  I571881   \n",
      "10                                               <NA>  F413251   \n",
      "11                                               <NA>  A455645   \n",
      "12                                               <NA>  M485482   \n",
      "13                                               <NA>  M485482   \n",
      "14                                               <NA>  T797917   \n",
      "15                                               <NA>  S969040   \n",
      "16                                               <NA>  S969040   \n",
      "17  Personal Leave Initiate GA HI MHS NBU NCAL NW ...  H555395   \n",
      "18  Personal Leave Initiate GA HI MHS NBU NCAL NW ...  H555395   \n",
      "19  FMLA Processing for All Regions 000009974, FML...  H555395   \n",
      "\n",
      "              Timestamp Summary_Reason  \\\n",
      "0   2025-05-17 00:58:20                  \n",
      "1   2025-05-17 00:58:07                  \n",
      "2   2025-05-17 00:52:40                  \n",
      "3   2025-05-17 00:52:02                  \n",
      "4   2025-05-17 00:50:10                  \n",
      "5   2025-05-17 00:43:11                  \n",
      "6   2025-05-17 00:31:33                  \n",
      "7   2025-05-17 00:27:45                  \n",
      "8   2025-05-17 00:27:40                  \n",
      "9   2025-05-17 00:24:06                  \n",
      "10  2025-05-17 00:23:20                  \n",
      "11  2025-05-17 00:20:15                  \n",
      "12  2025-05-17 00:10:09                  \n",
      "13  2025-05-17 00:08:08                  \n",
      "14  2025-05-17 00:06:01                  \n",
      "15  2025-05-17 00:05:47                  \n",
      "16  2025-05-17 00:04:28                  \n",
      "17  2025-05-17 00:04:19                  \n",
      "18  2025-05-17 00:04:17                  \n",
      "19  2025-05-17 00:04:13                  \n",
      "\n",
      "                                          Source_File day_of_week  \\\n",
      "0   Kaiser Permanente - Agent Assist HR Feedback (...    Saturday   \n",
      "1   Kaiser Permanente - Agent Assist HR Feedback (...    Saturday   \n",
      "2   Kaiser Permanente - Agent Assist HR Feedback (...    Saturday   \n",
      "3   Kaiser Permanente - Agent Assist HR Feedback (...    Saturday   \n",
      "4   Kaiser Permanente - Agent Assist HR Feedback (...    Saturday   \n",
      "5   Kaiser Permanente - Agent Assist HR Feedback (...    Saturday   \n",
      "6   Kaiser Permanente - Agent Assist HR Feedback (...    Saturday   \n",
      "7   Kaiser Permanente - Agent Assist HR Feedback (...    Saturday   \n",
      "8   Kaiser Permanente - Agent Assist HR Feedback (...    Saturday   \n",
      "9   Kaiser Permanente - Agent Assist HR Feedback (...    Saturday   \n",
      "10  Kaiser Permanente - Agent Assist HR Feedback (...    Saturday   \n",
      "11  Kaiser Permanente - Agent Assist HR Feedback (...    Saturday   \n",
      "12  Kaiser Permanente - Agent Assist HR Feedback (...    Saturday   \n",
      "13  Kaiser Permanente - Agent Assist HR Feedback (...    Saturday   \n",
      "14  Kaiser Permanente - Agent Assist HR Feedback (...    Saturday   \n",
      "15  Kaiser Permanente - Agent Assist HR Feedback (...    Saturday   \n",
      "16  Kaiser Permanente - Agent Assist HR Feedback (...    Saturday   \n",
      "17  Kaiser Permanente - Agent Assist HR Feedback (...    Saturday   \n",
      "18  Kaiser Permanente - Agent Assist HR Feedback (...    Saturday   \n",
      "19  Kaiser Permanente - Agent Assist HR Feedback (...    Saturday   \n",
      "\n",
      "    hour_of_day  conversation_length  \\\n",
      "0             0                   28   \n",
      "1             0                   28   \n",
      "2             0                   45   \n",
      "3             0                   45   \n",
      "4             0                   51   \n",
      "5             0                   44   \n",
      "6             0                   73   \n",
      "7             0                   92   \n",
      "8             0                  211   \n",
      "9             0                   53   \n",
      "10            0                   52   \n",
      "11            0                   67   \n",
      "12            0                   33   \n",
      "13            0                   33   \n",
      "14            0                   40   \n",
      "15            0                   85   \n",
      "16            0                   85   \n",
      "17            0                  181   \n",
      "18            0                  102   \n",
      "19            0                  101   \n",
      "\n",
      "                                           text_input  Topic  \\\n",
      "0    status salary advance payment ment hour appro...    178   \n",
      "1    status salary advance payment ment hour appro...    178   \n",
      "2    status modify payment arrangement document se...     -1   \n",
      "3    status modify payment arrangement document se...     -1   \n",
      "4    add guardian benefit emergency basis health c...      4   \n",
      "5    salary step increase retirement health benefi...     45   \n",
      "6    take leave absence care child disability seek...     17   \n",
      "7    employee * california region documentation li...    160   \n",
      "8    southern california region employee utilize f...    171   \n",
      "9    report thir contribution charles schwab stop ...     -1   \n",
      "10   seek information fmla leave condition step in...     18   \n",
      "11   hour condition fmla leave option usage cesla ...     -1   \n",
      "12   update termination date member termination da...     12   \n",
      "13   update termination date member termination da...     12   \n",
      "14   addition health insurance plan document find ...    122   \n",
      "15   edd fmla application take leave condition nee...     17   \n",
      "16   edd fmla application take leave condition nee...     17   \n",
      "17   employee southern california region revise le...     14   \n",
      "18   * california region leave consider leave empl...     -1   \n",
      "19   * * fmla eligibility * employee * * southern ...     33   \n",
      "\n",
      "    Topic_Probability  topic  topic_probability  \\\n",
      "0            1.000000    178           1.000000   \n",
      "1            1.000000    178           1.000000   \n",
      "2            0.000000     -1           0.000000   \n",
      "3            0.000000     -1           0.000000   \n",
      "4            0.479597      4           0.479597   \n",
      "5            0.333765     45           0.333765   \n",
      "6            0.908049     17           0.908049   \n",
      "7            1.000000    160           1.000000   \n",
      "8            1.000000    171           1.000000   \n",
      "9            0.000000     -1           0.000000   \n",
      "10           0.590093     18           0.590093   \n",
      "11           0.000000     -1           0.000000   \n",
      "12           0.561698     12           0.561698   \n",
      "13           0.561698     12           0.561698   \n",
      "14           1.000000    122           1.000000   \n",
      "15           0.908049     17           0.908049   \n",
      "16           0.908049     17           0.908049   \n",
      "17           1.000000     14           1.000000   \n",
      "18           0.000000     -1           0.000000   \n",
      "19           0.856750     33           0.856750   \n",
      "\n",
      "                                topic_label  \n",
      "0          178_advance_specialist_ed_salary  \n",
      "1          178_advance_specialist_ed_salary  \n",
      "2                 -1_leave_fmla_case_status  \n",
      "3                 -1_leave_fmla_case_status  \n",
      "4       4_enrollment_dependent_enroll_enrol  \n",
      "5   45_specialist_increase_raise_coordinate  \n",
      "6                17_mother_care_take_family  \n",
      "7     160_lcr_license_registration_calendar  \n",
      "8                   171_act_fmla_cfra_right  \n",
      "9                 -1_leave_fmla_case_status  \n",
      "10           18_upload_document_doctor_fmla  \n",
      "11                -1_leave_fmla_case_status  \n",
      "12      12_retirement_center_kaiser_pension  \n",
      "13      12_retirement_center_kaiser_pension  \n",
      "14               122_bear_birth_newborn_add  \n",
      "15               17_mother_care_take_family  \n",
      "16               17_mother_care_take_family  \n",
      "17               14_cancel_rtw_proxy_future  \n",
      "18                -1_leave_fmla_case_status  \n",
      "19       33_fmla_eligibility_explore_matrix  \n"
     ]
    }
   ],
   "source": [
    "print(filtered_df.head(20))"
   ]
  },
  {
   "cell_type": "code",
   "execution_count": 68,
   "id": "d7e1dd7b",
   "metadata": {},
   "outputs": [
    {
     "name": "stdout",
     "output_type": "stream",
     "text": [
      "0:  status salary advance payment ment hour approve expect may 19th bank account\n",
      "\n",
      "1:  status salary advance payment ment hour approve expect may 19th bank account\n",
      "\n",
      "2:  status modify payment arrangement document send address wage garnishment issue verify profile document status th document reflect system monday update document\n",
      "\n",
      "3:  status modify payment arrangement document send address wage garnishment issue verify profile document status th document reflect system monday update document\n",
      "\n",
      "9:  report thir contribution charles schwab stop deduct paycheck march set contribution percentage profile paycheck history create ticket processing team investigate processing team communicate charles schwab update email week\n",
      "\n",
      "20:  request * salary advance * employee northern california region step access salary advance request form go work@kp reference employee form salary advance * * employee request salary advance calendar year ensure appear customer employee approver dashboard option * * employee salary advance disbursement option include deposit printer location lookup](https://sp cloud.kp.org/:x:/r site nationalpayrollservices/_layouts/15 doc.aspx?sourcedoc=%7b1dc75ea8 - bottomline_location.xls&amp;action = default&amp;mobileredirect = availability * salary advance pay include hour earn approve day pay period day receipt amount deduct employee paycheck deposit * * t issue employee need cancel nps report update regard salary advance information salary advance documentation\n",
      "\n",
      "21:  advance y request approve 19th may deposit\n",
      "\n",
      "22:  advance y request approve 19th may deposit\n",
      "\n",
      "23:  employee * northern california region * * termination date resignation set finalize consultation hr employee relation leadership council elrc termination hrconnect * business day termination date * a.m. pacific standard time employee termination date day employee consider kaiser permanente coincide day work employee leave absence request time benefit instruction manager * manager tool * * section hrconnect termination handle resignation inquiry\n",
      "\n",
      "34:  status case regard eligibility california pay leave alternative compensation program express frustration conflict information management lack callback verify profile case determine th leave department handle leave query promise connect leave specialist\n",
      "\n",
      "58:  status application visit education benefit wps myportal hr kpme career employeeselfservice page hrconnect email update tra regard application status status option encounter * * application approve * application * application deny * application deny pende grade wait pass grade document pende receipt * wait proof payment document * document * * proof payment grade hold * application wait payment * * payment processing payment complete * * reimbursement payment * * receipt * withdraw * * request withdraw application benefit cap reach * * benefit year utilize * * support document month course end date question tra national-tra@kp.org](mailto:national-tra@kp.org\n",
      "\n",
      "66:  trace i d status payment verify account detail ment th fund deposit day trace i d moment\n",
      "\n",
      "67:  trace i d status payment verify account detail ment th fund deposit day trace i d moment\n",
      "\n",
      "87:  colorado leave involve step submission form * employee manager leave form return block leave reduce work schedule form require leave * form require leave submission timing * * day work date revision return date * * date change form update return date termination * employee terminate leave transition pay leave leave status form require error form error leave absence resume leave detail guidance leave documentation](https://kphr.my.salesforce.com lightning r knowledge__kav ka03j000000emhycac view#t1\n",
      "\n",
      "90: Summary not added to CRM bank leave balance need leave leave absence leave balance require hour leave\n",
      "\n",
      "110:  payment week family leave take child procedure fmla request deny miss documentation obtain sign doctor fax fax number edd information instruct hour receipt request case reopen\n",
      "\n",
      "131:  retirement resignation pension detail employee region md employee point # retirement resignation submission resignation * employee encourage resignation hrconnect submission complete form resignation notify manager email write notice manager approval * termination request approve employee manager -level manager manager termination hrconnect behalf employee reason pay processing * ensure pay termination show employee record be time code termination date # pension detail * * * employee qualify term bargaining agreement kpwa union employee retirement cash award y year employ position year payment timing * * retirement award pay retirement date retirement termination notice come # resource information employee retirement service award](https://kphr.my.salesforce.com lightning r knowledge__kav ka06e0000011ht1cae view#topic4 https://kphr.my.salesforce.com/lightning/r/knowledge__kav/ka06e0000011ht1cae/view#topic1 guidance resignation termination understand ensure compliance company policy requirement help processing employee termination benefit\n",
      "\n",
      "142:  seek assistance time code employee family leave employee ids transfer leave tier department code block leave employee leave absence\n",
      "\n",
      "171: Unable to provide relevant knowledge article based reference. \n",
      "\n",
      "178:  context * * kaiser permanente agent assist * * impact age eligibility vary benefit guideline employee california region point eligibility * grandchild dependent dependent enrollment parent grandchild age age limit vary group parent parent live employee claim dependent employee income tax return dependent * dependent child employee grandchild remain benefit turn year depend group region guideline * employee age limit apply benefit verify eligibility * * authoria * age relate criterion information employee article guideline kaiser permanente agent assist\n",
      "\n",
      "185:  inquiry regard * tuition reimbursement status payment issue * * step application status * view status application documentation visit education benefit wps myportal hr kpme career employeeselfservice page hrconnect confirmation * * confirmation submission follow email work home email address information * have question reach phone * * leave voicemail detail * email * * reimbursement detail * reimbursement paycheck list pay hour earning section information visit tuition reimbursement page](https://hrconnect.kp.org wps myportal hr career p z1 lvfbbomwehxnjta6gaicadsu0ezijttgs psshhgxwi3svhbaocwxpbhxhagz0p9578pc4ui_izusse2w58aouamdlabnghhi2p0cf9wiybucg9u4wilil75xm8yhgrzzxutm15m1u9zmsunkqwszwexdwc3fcfp_8hiengxw0u1ycvv4jq69hyy3evai372a7sngavlv9y7plbowwyoh-1_xxofmh_njvawbqajuwxxqym3swr6x vvhxxh7tnzkqbch7n9s1aeorcexrejjirvogm8wxya!!/dz d5 l2dbisevz0fbis9nqseh/\n",
      "\n",
      "186:  status tuition reimbursement application visit education benefit wps myportal hr kpme career employeeselfservice page hrconnect view status application documentation confirmation submission follow email work home email address inquiry tuition reimbursement team email\n",
      "\n",
      "201:  terminate employee region maryland step set termination date notice letter * consult hr elrc finalize termination date employee termination notice letter accuracy termination hrconnect * * guide hrconnect manager tool manage organization termination approve termination business day termination date a.m. pacific time a.m. time approve timecard * employee clock day approve timecard hour work pay remove exist absence termination date handle exception * termination business day notice termination obtain copy termination form hr hrconnect ensure pay processing * payroll service notify pay delivery method instruct employee view print payslip termination date be time code termination date timekeeping need communicate employee * * ensure communication affect employee regard paycheck benefit need address detail guidance termination process](https://kphr.my.salesforce.com lightning r knowledge__kav ka06e0000011ht1cae view#topic3 document\n",
      "\n",
      "202:  employee california region submission leave absence pay election form require change pay option include vacation hour step access * * employee form * pathway work@kp reference employee form * authorization * authorization accept employee request manager behalf confirmation * ensure employee leave absence status pay period submission timing * * exhaustion leave authorization employee guideline apply guideline information detail escalation process](https://kphr.my.salesforce.com article en_us knowledge escalation variances](https://kphr.my.salesforce.com lightning r knowledge__kav ka03j000000emclcas view#t4\n",
      "\n",
      "225:  employee belong california region set donation document follow pathway work@kp volunteering donate kp give * * question ncal-community-involvement@kp.org](mailto:ncal-community-involvement@kp.org submission employee send document email kp email account include employee name ee i d nuid line email\n",
      "\n",
      "229:  employee northern california region submission doctor require leave request step support documentation * employee form employee certification healthcare provider * * health condition block leave day submission employee have doctor form language translate english notarize * employee status submission department update leave request information employee https://kphr.my.salesforce.com/lightning/r/knowledge__kav/ka06e0000011i5vcae/view#t3 guidance leave type submission\n",
      "\n",
      "231:  need assistance correct employee pay return document require correct may may verify employee status attempt connect department\n",
      "\n",
      "237: Cannot add summary to CRM. family bonding leave maternity leave issue document submission identify leave type family care leave bond have manager revise form offer assistance need\n",
      "\n",
      "247:  leave code employee aisa balajos bravo code detail aisa fmla leave approve june clarify time card coding marissa go code loa ing day employee documentation\n",
      "\n",
      "250:  leave absence employee adjust time card may 12th take business day reflect leave time card delete work entry time card code loa clarify leave bond code pto leave promise quality\n",
      "\n",
      "258:  hr service center regard issue relate leave hour workman compensation overpayment occur manager error code leave hour detail amount correspond hour payment option resolve promise clarify detail place hold\n",
      "\n",
      "268:  follow cash advance request approve manager verify profile record roll processing timeline progress keep update thy need manager\n",
      "\n",
      "269:  assist form employee step type leave * * determine employee return block leave reduce work schedule require leave leave submission * employee manager leave form ’ go * * hrconnect * * time time take leave absence continuous leave request manage end leave * upload option appear click button day date form employee return exception schedule vacation diem employee employee disability leave ensure release treat provider kp - region * employee belong kp - region california guideline apply ensure guideline resource * information link leave form](https://kphr.my.salesforce.com lightning r knowledge__kav ka06e0000011ht1cae view#topic7 https://kp.org/hrconnect have question need assistance feel\n",
      "\n",
      "270:  approval status salary advance request employee northern california region employee step access hrconnect * * employee receipt status salary advance request case case dashboard * case dashboard hrconnect view status update nps payroll service * * need employee manager verify eligibility status salary advance request * approve request nps 12:00pm friday period allow business hour processing\n",
      "\n",
      "271:  cash advance request employee northern california region step status * employee status salary advance request case dashboard hrconnect timeline * * approve request nps pm friday period allow business hour nps processing deposit disbursement * * nps am post employee account evening day am post pm banking day * * need employee manager information detail salary advance request](https://kphr.my.salesforce.com article en_us knowledge salary advance guideline\n",
      "\n",
      "277: unable to add to CRM due to transferred call; transcribing got ended each time the call put on hold apply reduce work schedule treatment m reach manager initiate request request copy employee certification position form clarification fmla denial mailing address send mail reference fmla deny pende miss documentation instruction doctor fax number convenience\n",
      "\n",
      "279:  need assistance code employee time card information connect leave tier department guidance\n",
      "\n",
      "290:  request * termination coverage letter employee belong program office region california employee step create case * * open case route use code h&amp;w enrollment inquiry use term coverage letter request notepad confirmation letter term coverage case detail probe detail employee need termination letter determine letter * employee letter email m. escalate * * escalate case employee express need letter verify eligibility letter * ensure employee benefit terminate request letter * termination letter request terminate evidence coverage termination coverage letter issue member service week benefit terminate system information resource benefit termination](https://kphr.my.salesforce.com lightning r knowledge__kav ka03j000000emnrca0 view#topic3 termination letter request](https://kphr.my.salesforce.com lightning r knowledge__kav ka06e0000011ht1cae view#topic8\n",
      "\n",
      "292: Unable to provide relevant knowledge based article. \n",
      "\n",
      "295:  renew fmla hour exceed limit need partner manager leave absence request update physician processing time request business day\n",
      "\n",
      "296:  reach absence code share absence time off handle withir department have policy manager get information time policy department\n",
      "\n",
      "318: Call summary cannot be added to CRM. criterion donate hour colleague employee form donate increment hour maximum hour calendar year donation pto eto vacation float pay day time retain week accrue pay time donate realize donate accrue time\n",
      "\n",
      "320:  paycheck detail leave organization regard inclusion pay remain pto leave payout paycheck cycle breakdown paycheck request payslip fax website access document connect team information\n",
      "\n",
      "321:  paycheck detail leave organization regard inclusion pay remain pto leave payout paycheck cycle breakdown paycheck request payslip fax website access document connect team information\n",
      "\n",
      "322:  status salary advance request approve manager day verify th processing begin yesterday take hour payroll specialist proceed\n",
      "\n",
      "323:  employee southern california region criterion donate bank hour follow eligibility donate * * employee donation hour donor form donation hour policy donation increment hour maximum hour vacation pay time pto earn time eto float pay day fpd calendar year balance * donor keep week accrue pay time use * donation information share donor recipient criterion * * recipient donate hour have accumulate pay time cover leave recipient affidavit form day enter leave status timeframe form * donor form year date hr service center nhrsc expire day recipient affidavit information employee donation leave hour policy](https://kphr.my.salesforce.com lightning r knowledge__kav ka03j000000emhpca0 view#t3\n",
      "\n",
      "345:  valerie barajas explanation reach email valerie.barajas@kp.org](mailto:valerie.barajas@kp.org employee colorado region employee\n",
      "\n",
      "346:  leave status inquiry employee colorado region step employee complete leave absence pay election form elect pay choice employee have salary continuance participation benefit program include credit payroll deduction continue salary continuance period employee supplement salary continuance pto y elect pto exhaust salary continuance begin inquiry regard exist leave employee matrix exist leave file inquiry regard leave status employee follow procedure outline region consult hr department guidance eligibility processing\n",
      "\n",
      "348: Cannot add summary to CRM. status leave absence document manager identify discrepancy ed start date date doctor obtain update certification provider fax hr service center fax number document need\n",
      "\n",
      "349:  status leave absence document manager identify discrepancy ed start date date doctor obtain update certification provider fax hr service center fax number document need\n",
      "\n",
      "350:  need assistance employee return form need help correct verify delegation case i d guide use form employee return date ensure be issue account\n",
      "\n",
      "357:  * * seniority track inquiry * employee southern california region employee reach * * seniority discrepancy track team seniority-discrepancy-fast-track-team@kp.org](mailto:seniority-discrepancy-fast-track-team@kp.org ensure * * form team\n",
      "\n",
      "361:  use extend leave hour care brother have surgery georgia senate bill use portion esl family care family member spouse parent child grandparent dependent list tax return sibling cover clarification\n",
      "\n",
      "369:  handle creation evaluation manager absence step manager assignment * * manager leave manager assign hrconnect impact employee( evaluation creation * performance evaluation create employee include leave absence loa october year manager responsibility employee work day period manager enter rating comment click share release employee return leave action require * * employee period action require manager communication * * t question issue regard evaluation manager reach performance management lead guidance guideline ensure evaluation handle absence manager\n",
      "\n",
      "374:  case manager absence employee northern california region step assign manager * * leave ensure manager assign hrconnect manager assign -level manager become hrconnect update performance management lead * * leave -level manager leave direct client performance management lead resolution handle document transfer assist transfer reopen document client list hrconnect client list identify -level manager reassignment * escalation step * case involve manager leave resignation performance management lead guideline ensure transition management employee responsibility manager absence\n",
      "\n",
      "380:  transfer pay pto apply pay period end xxxx period end take effect pay period submission retro understand document\n",
      "\n",
      "393:  employee kp - region california option leave absence loa timesheet form include request leave absence * employee initiate leave absence pathway manager action leave absence request manage leave * * type leave * employee request type leave include leave leave disability leave maternity leave leave * document specify frequency duration leave support document upload use document feature case absence request * * employee absence request pto vacation esl jury duty bereavement education leave pathway time time request time * approval * absence request route approval manager manager approve employee save absence hrconnect hour include payslip absence request save show timecard pay information employee knowledge article\n",
      "\n",
      "410:  status application leave case receipt support document hrxxxxxxxxx action date set guide info hrconnect\n",
      "\n",
      "412:  assist form employee kp - region md guideline understand form * leave](https://kphr.my.salesforce.com lightning r knowledge__kav ka06e0000011ht1cae view#topic7 form require employee return leave need termination employee pay leave submission timing * * day date ensure employee return case schedule vacation disability case * employee leave disability ensure release treat provider transfer documentation * t question support documentation transfer leave department kp - region md ensure employee follow procedure region variance information leave](https://kphr.my.salesforce.com lightning r knowledge__kav ka06e0000011ht1cae view#topic7 documentation\n",
      "\n",
      "414:  status application submission visit hrconnect education benefit summary page](https://hrconnect.kp.org wps myportal hr kpme career employeeselfservice email notification regard application status status option encounter * * application approve * application deny * application deny email send * pende * * application await information document * application close reason reach benefit cap question tra national-tra@kp.org](mailto:national-tra@kp.org\n",
      "\n",
      "425:  termination * southern california region * * relevant case outline procedure handle termination include processing paycheck documentation termination contain guideline employee detail termination process](https://kphr.my.salesforce.com lightning r knowledge__kav ka06e0000011ht1cae view#topic1 documentation\n",
      "\n",
      "442:  status tuition reimbursement application step visit education benefit summary page * * hrconnect education benefit wps myportal hr kpme career employeeselfservice email * * update application tra send email describe issue address # status option * * application approve * application staff have tr . deny * application deny email send pende grade * pass grade pende receipt * * proof payment * document miss * * document hold * application wait tr manager payment * * payment processing payment complete * * reimbursement email notification send question tra national-tra@kp.org](mailto:national-tra@kp.org\n",
      "\n",
      "446:  report paycheck period leave timecard code integrate disability insurance sdi benefit file claim edd get compensate hour clarify opt pay integration future leave absence pay election form\n",
      "\n",
      "464:  pay maternity leave week pay vacation family leave family leave cover week vacation hour use hour y hour june possibility use vacation hour week\n",
      "\n",
      "471:  employee northern california region * * leave absence pay election form require change pay option point regard form * * * employee sdi pay integration form option employee return leave submission * * employee form authorization accept * access * employee find form pathway work@kp reference employee form * information resource overview](https://kphr.my.salesforce.com lightning r knowledge__kav ka03j000000em2wcas view#t1 need know](https://kphr.my.salesforce.com lightning r knowledge__kav ka03j000000em2wcas view#t2 need do](https://kphr.my.salesforce.com lightning r knowledge__kav ka03j000000em2wcas view#t3 variances](https://kphr.my.salesforce.com lightning r knowledge__kav ka03j000000em2wcas view#t4\n",
      "\n",
      "477: Cannot add summary to CRM. fmla include eligibility use leave family care form donate pto hour ir retirement eligibility information fmla requirement integration leave pto donation pto eligibility conclude promise transfer retirement specialist\n",
      "\n",
      "490:  apply find application seek assistance need form manager form clarify leave create case send notification email form\n",
      "\n",
      "493:  employee program office region california employee take time fmla approval request * leave * manager discretion point consider * employee request leave documentation * * employee need form leave absence pay election form authorize accrual manager approval * have discretion approve deny leave follow up * * employee communicate manager regard leave documentation guidance employee hr representative\n",
      "\n",
      "500:  extend disability leave condition y need doctor letter manager extension form upload support document leave pay job security rule regard fmla cfra protection baby birth certificate assure\n",
      "\n",
      "504:  case termination employment unpaid leave point termination leave * employee terminate pay leave status mean employee leave terminate need leave](https://kphr.my.salesforce.com lightning r knowledge__kav ka06e0000011ht1cae view#topic7 form leave end employee return documentation employee leave disability release treat provider require t question support documentation transfer leave department california specific * * northern california employee ensure documentation order termination proceed understand policy * employee manager understse policy termination paperwork avoid confusion delay information leave](https://kphr.my.salesforce.com lightning r knowledge__kav ka06e0000011ht1cae view#topic7 form guideline\n",
      "\n",
      "516:  cancel life insurance employee southern california region step metlife * * employee reach metlife guidance cancellation termination form * employee manager termination form specify cancellation reason document case * create case use code h&amp;w survivor inquiry beneficiary information ensure beneficiary information handle accord guideline h&amp;w survivor team information manager hr business partner follow up * cancellation employee metlife regard action confirmation need information employee life insurance](https://kphr.my.salesforce.com lightning r knowledge__kav ka03j000000elx8cac view#topic1 guideline resource hrconnect\n",
      "\n",
      "537:  leave request hold documentation miss information suggest obtain form update documentation date escalation fax number document submission\n",
      "\n",
      "539:  obtain approval leave doctor employee support document * * employee certification healthcare provider form certification specify frequency duration leave step certification * employee need certification detail frequency duration leave need submission employee status request case department handle denial * leave request deny employee documentation reconsideration detail guidance leave initiate document](https://kphr.my.salesforce.com lightning r knowledge__kav ka06e0000011i5vcae view#t3\n",
      "\n",
      "543:  requirement status leave absence request receipt support document verify eligibility base hour approval take business day follow up\n",
      "\n",
      "548:  retirement status medicare part form leave verify information status leave hour calculate include paycheck document follow up\n",
      "\n",
      "554:  jamie report thir benefit terminate return february thir manager documentation status show leave verify employee status case history identify case relate perform transfer leave department expedite resolution\n",
      "\n",
      "555:  form * business day receipt date day date revision need form update return date\n",
      "\n",
      "559: Cannot add summary to CRM. take fmla leave include step form require need form need form family member condition clarify timeline document apply edd pfl benefit vacation hour use supplement pfl benefit promise case summary dashboard\n",
      "\n",
      "561:  employee northern california region seek tuition reimbursement step determine institution read tuition reimbursement tr policy verify accreditation ensure course program credit continue education unit deliver school society agency accreditation bureau * degree program school accredit accreditation bureau california association school college wasc approval * nursing ally health degree certification program school approve licensing certification authority accreditation * * find school accredit visit school website tuition reimbursement administration tra maintain list institution institution need tra approval * information sign tuition reimbursement](http://www.kpcareerplanning.org prd tuition_reimbursement.php web page go step get approval manager guideline help ensure institution qualify tuition reimbursement\n",
      "\n",
      "562:  employee northern california region tuition reimbursement department phone * * leave voicemail name nuid tr application number reason back number inquiry reach email * email * * tuition reimbursement](https://hrconnect.kp.org wps myportal hr career p z1 lvfbbomwehxnjta6gaicadsu0ezijttgs psshhgxwi3svhbaocwxpbhxhagz0p9578pc4ui_izusse2w58aouamdlabnghhi2p0cf9wiybucg9u4wilil75xm8yhgrzzxutm15m1u9zmsunkqwszwexdwc3fcfp_8hiengxw0u1ycvv4jq69hyy3evai372a7sngavlv9y7plbowwyoh-1_xxofmh_njvawbqajuwxxqym3swr6x vvhxxh7tnzkqbch7n9s1aeorcexrejjirvogm8wxya!!/dz d5 l2dbisevz0fbis9nqseh/ information\n",
      "\n",
      "565:  need assistance upload release form myhr connect procedure find document upload feature platform suggest send document email email restriction recommend fax document fax number leave absence pay include use vacation hour\n",
      "\n",
      "568:  kaiser permanente offer * education leave tuition reimbursement * * continue education class point tuition reimbursement tr * be limit number class reimbursement exceed benefit amount remain tr benefit education benefit wps myportal hr kpme career employeeselfservice page eligibility education leave * employee education leave complete year service leave use class require return cpr certification application apply tuition reimbursement plan manager complete tuition reimbursement application](https://epf.kp.org wps myportal hr kpme career employeeapplication application application education benefit tr application handle class recommend course complete school term application recordkeeping information tuition reimbursement](http://www.kpcareerplanning.org prd tuition_reimbursement.php web page\n",
      "\n",
      "582:  context * california * worker compensation pay integration involve employee apply california monetary benefit disability insurance sdi)](https://kphr.my.salesforce.com article en_us knowledge ca sdi pay family leave pfl)](https://kphr.my.salesforce.com articles en_us knowledge pay family leave pfl employee leave salary continuance entitle holiday pay period time consider status y continue accrue time benefit salary continuance employee exhaust leave salary continuance place leave information document regard pay integration guideline\n",
      "\n",
      "585:  disability payment discrepancy time card pay integrate portion come employer remainder california phone number edd file claim remain payment\n",
      "\n",
      "587:  status paperwork extension family leave procedure verify information status documentation email fax detail resubmission give hour\n",
      "\n",
      "588:  issue employee leave status northern california region step direct employee leave absence page assist locate content employee action leave absence explore leave type * question reason leave reduce work schedule rws block leave leave request * search exist case relate leave case title case case status update documentation ensure employee support document employee certification healthcare provider form require doctor form eligibility * * employee request leave lieu leave pto vac require information leave initiate document](https://kphr.my.salesforce.com lightning r knowledge__kav ka06e0000011i5vcae view#t3 pay leave oregon](https://kphr.my.salesforce.com articles en_us knowledge pay leave oregon guideline\n",
      "\n",
      "608:  san francisco pay leave form requirement week vacation email hr request update form submission m re form instruction promise notify approve\n",
      "\n",
      "625:  seek assistance add dependent plan experience issue save draft uploading support document file size limitation guide suggest log offer submission method support document submission document inquiry summary\n",
      "\n",
      "663:  report issue leave absence extension submission employee recognize have delegation status thy delegate assist employee manager add delegate hr connect\n",
      "\n",
      "668:  leave absence denial documentation document may submission accept document view document view instruction hr connect follow up time resubmission\n",
      "\n",
      "670:  leave absence denial documentation document may submission accept document view document view instruction hr connect follow up time resubmission\n",
      "\n",
      "682: Summary can't add to CRM fmla leave submission physician certification receipt document clarify th leave date need revise june 13th june 16th thir manager need revise form update leave date assure revision delay\n",
      "\n",
      "719:  leave case employee need correct email address notification verify delegation employee profile case d. place hold create escalation work absence management team tracking\n",
      "\n",
      "728:  follow enrollment verification document dependent enrollment birth certificate instruction resubmitte document submission method inquiry document case\n",
      "\n",
      "744:  status absence deny information document day fax document suggest upload give instruction upload document disconnect resolve\n",
      "\n",
      "749:  timekeepe information guidance difference timekeepe system region employee type * hrconnect * * use employee region co kpwa mas ga salary mhs po kpit kptime * use employee region nw ga hourly hourly mhs po kpit hourly niku * employee business unit program office po information overview](https://kphr.my.salesforce.com lightning r knowledge__kav ka03j000000217mcaa view#t1 relate resources](https://kphr.my.salesforce.com lightning r knowledge__kav ka03j000000217mcaa view#t4\n",
      "\n",
      "750:  seek assistance code employee leave regard exhaustion pto option leave employee exhaust pay family leave pto integration policy code instruction etf cfr track purpose transfer timekeepe time card\n",
      "\n",
      "776:  transfer deposit account paper want verify deposit deposit deposit detail pay distribution stub make change deposit monday reflect pay cycle\n",
      "\n",
      "777:  transfer deposit account paper want verify deposit deposit deposit detail pay distribution stub make change deposit monday reflect pay cycle\n",
      "\n",
      "781:  fmla denial miss physician certification fax document may 2nd resubmitte document fax email information receipt reopen case covid relate leave clarify fmla requirement leave absence documentation\n",
      "\n",
      "783:  employee request disability use hour leave employee request approve instruction code time card promise send email notification change\n",
      "\n",
      "792:  employee benefit issue employee southern california region take step employee manager ensure job change termination direct employee manager transfer pay queue * * employee manager require information job change termination transfer queue case status employee severance benefit severance agreement case status system hr consultant * * remain refer employee hr consultant * * encourage employee detail benefit document follow up * make document follow action take case reference inquiry article regard severance benefit article en_us knowledge severance benefit benefit termination cobra](https://kphr.my.salesforce.com article en_us knowledge benefit notepad template\n",
      "\n",
      "801:  seek clarification return date employee take week bonding leave start april leave include weekend date employee service center clarification need\n",
      "\n",
      "814:  express concern paycheck regard deduction hour leave esl bank worker compensation impression hour deduct supplement worker compensation pay integration understanding transfer libs2 department discrepancy\n",
      "\n",
      "835:  employee kp - region california * * leave absence pay election form pay election regard pto esl hour detail submission requirement * * employee form notify pay election authorization accept plan pay leave absence loa depend region leave type employee group employee choose hour plan require use loa pay employee choose hour vacation pto plan use loa pay * * election leave request form manager employee need fill form form correct update pay election restriction * request leave absence leave vacation usage employee status pay period request vacation hour information escalation process](https://kphr.my.salesforce.com article en_us knowledge escalation variances](https://kphr.my.salesforce.com lightning r knowledge__kav ka03j000000emclcas view#t4 section\n",
      "\n",
      "837:  eligibility take leave family member meet hour have hour leave backdate instruction document processing timeframe find summary discussion\n",
      "\n",
      "843:  status leave extension step document seek clarification pay integration option documentation return submission extension form opt pay integration update may\n",
      "\n",
      "846:  receipt document extend leave mother initiate father receipt document instruction form manager clarify meaning code paycheck stub\n",
      "\n",
      "849:  seek clarification health reimbursement account hra leave hour coding leave sesla usage leave difference bks bsl code suggest transfer leave team sesla code issue decide time constraint\n",
      "\n",
      "858:  conduct * leave audit * * resource leave balance conduct research](https://kphr.my.salesforce.com article en_us knowledge time balance how conduct audit article guidance leave balance conduct audits leave award matrix](https://kphr.my.salesforce.com article en_us knowledge awarding matrix matrix help understand leave accrual calculate award leave article page](https://kphr.my.salesforce.com article en_us knowledge time accrual list article offer research scenario guidance leave accrual resource assist understand ensure leave management\n",
      "\n",
      "879:  request update case relate employment status mark cause interruption benefit pay stipend case employment status number document information case\n",
      "\n",
      "902:  apply leave partner care northern california region employee step initiate leave request * employee manager initiate leave absence matrix * employee request leave leave donation hour reduce work schedule support document request support document verification birth adoption guardianship vot dmi doctor * employee leave request search exist case relate leave information resource leave information](https://kphr.my.salesforce.com lightning r knowledge__kav ka06e0000011i5lcae view#t3 https://hrconnect.kp.org/wps/myportal/hr/time/timeoff/regulatorytimeoffbenefits/regulatorytimeoffbenefits_default/!ut/p/z1/lvdbbomwdp2whjhgdoeoohztn9pn2qfjllluisq0ekkqtan4-9gt1zlnb0vp9ppfe8dgc5jlg264187ydskuprzc7a3z-b3zl-j5g-up7vox3echxhgupwd4p9yibj7_cqyysl7zr6bmppyby\n",
      "\n",
      "906:  employee northern california region guideline apply regard hour benefit termination # employee hour pay processing * termination case send payroll service nps hour work payout employee pay deposit termination date payslip issue payroll run period employee terminate # benefit termination coverage * coverage end day month employee job status change position employment end life insurance fsa * * benefit terminate employee day employment cobra coverage * employee continue benefit cobra cobra package mail week coverage end coverage day eligibility enrollment complete day notification # employee resign retire terminate employment ir dependent qualify cobra employee ir policy variance regard benefit information benefit termination](https://kphr.my.salesforce.com lightning r knowledge__kav ka03j000000emnrca0 view#topic3 guideline\n",
      "\n",
      "909:  report passing designate person relation leave benefit employee southern california region employee step verification * * verify person name ein address date birth ssn information * document date death caller name relationship phone number obtain email address document route case * use code h&w survivor inquiry * route case document case use notepad case case exist add close cc inquiry case close create relate case manager report * * instruct termination form specify death reason create case h&w survivor inquiry beneficiary h&w survivor team information hr business partner pay advice request * * family member beneficiary request w-2 pay advice employee transfer team document interaction route case h&w survivor inquiry summary line w-2 pay advice request ee guidance death employee](https://kphr.my.salesforce.com lightning r knowledge__kav ka03j000000ema8cak view#topic2 documentation\n",
      "\n",
      "925:  employee southern california region performance goal set manage system point consider * goal setting * * employee aim limit goal help maintain focus clarity total goal weight add % goal * goal edit year allow adjustment responsibility evolve employee manager goal in remain guide learning * utilize goal management playbook](https://hrconnect.kp.org wps poc?urile = wcm path:/myhr epfsite hr performance resource goalmanagementplaybook_pdf guidance set update performance goal performance evaluation * performance evaluation create october employee feedback rating goal behavior guidance employee southern california performance management page](https://kphr.my.salesforce.com article knowledge performance knowledge component aura actions.knowledgearticleversioncreatedraftfromonlineaction.createdraftfromonlinearticle=1 resource support\n",
      "\n",
      "932:  employee southern california region request leave absence step initiate leave * * employee leave absence request matrix system type leave * leave southern california consider leave employee request leave support document request support document verification birth adoption guardianship doctor approval * * leave request approve employee manager * employee ir leave request leave absence request employee ir request type time include pto vacation leave information resource [ leave articles](https://kphr.my.salesforce.com article en_us knowledge leave article extend leave](https://kphr.my.salesforce.com article en_us knowledge extend leave ga hi - mhs nbu nw leave](https://kphr.my.salesforce.com article en_us knowledge return leave time wps myportal hr time timeoff regulatorytimeoffbenefit regulatorytimeoffbenefits_default/!ut p z1 lvdbbomwdp2whjhgdoeoohztn9pn2qfjllluisq0ekkqtan4 - j5g up7vox3echxhgupwd4p9yibj7_cqyysl7zr6bmppyby\n",
      "\n",
      "964:  status data change document submission submission form processing time step reissue address verify receipt document processing time promise send form business day\n",
      "\n",
      "965:  status case suppose response business day attempt look find system\n",
      "\n",
      "971:  leave status benefit continuation transition pay leave absence create escalation case resolve issue reschedule doctor appointment escalation case resolve reference instruct appointment status escalation\n",
      "\n",
      "976:  context * california leave consider leave employee apply california monetary benefit pay family leave pfl)](https://kphr.my.salesforce.com articles en_us knowledge pay family leave pfl employee require pto vac leave employee request leave pto vac require employee employee approve leave fmla cfra have pay integration option depend eligibility type leave take employee pay integration leave absence pay election form hr connect information resource california pay family leave pfl)](https://kphr.my.salesforce.com articles en_us knowledge pay family leave pfl time wps myportal hr time timeoff regulatorytimeoffbenefit regulatorytimeoffbenefits_default/!ut p z1 lvdbbomwdp2whjhgdoeoohztn9pn2qfjllluisq0ekkqtan4 - j5g up7vox3echxhgupwd4p9yibj7_cqyysl7zr6bmppyby\n",
      "\n",
      "983:  employee belong california region information compensation follow * northern california compensation mailbox * inquiry relate compensation reach colorado compensation mailbox * co-comp-mailbox@kp.org](mailto:co-comp-mailbox@kp.org georgia compensation mailbox * kpga-total-rewards@kp.org](mailto:kpga-total-rewards@kp.org hawaii compensation mailbox * hawaii-compensation@kp.org](mailto:hawaii-compensation@kp.org * kpwa compensation mailbox * compensation mailbox * mascomp@kp.org](mailto:mascomp@kp.org northwest compensation mailbox * total-rewards-nw@kp.org](mailto:total-rewards-nw@kp.org * southern california compensation mailbox * scal-compensation@kp.org](mailto:scal-compensation@kp.org support salary planning helpdesk *\n",
      "\n",
      "990:  status cycle approve manager payment want complete deposit account profile find information determine scope transfer timekeepe department\n",
      "\n",
      "995:  termination employee encounter issue system verify have delegation status set require proceed employee profile step termination suggest respond email regard rehire eligibility recommend manager set delegation status reference employee hr status termination request\n",
      "\n",
      "997:  status termination request employee southern california region pay queue * * direct employee manager job change termination y manager need information transfer queue date send * * employee record document determine termination letter packet mail verify mailing address * employee mailing address hcm system match address document handle mailing * document mail business day employee allow delivery time document mail business day letter mail business day address create route relate case term team action inquiry ensure handle accord guideline employee information maintain confidentiality detail guidance termination process](https://kphr.my.salesforce.com lightning r knowledge__kav ka06e0000011ht1cae view#topic3 benefit termination](https://kphr.my.salesforce.com lightning r knowledge__kav ka03j000000emnrca0 view#topic3 document\n",
      "\n",
      "1006:  pay rate adjustment follow submission certificate change take while reflect appear pay cycle consult specialist promise\n",
      "\n",
      "1007:  compensation employee belong program office region california use email address * kpwa compensation mailbox * employee compensation follow colorado * co-comp-mailbox@kp.org](mailto:co-comp-mailbox@kp.org georgia * kpga-total-rewards@kp.org](mailto:kpga-total-rewards@kp.org hawaii * hawaii-compensation@kp.org](mailto:hawaii-compensation@kp.org - * * mascomp@kp.org](mailto:mascomp@kp.org * california * ncalcomp@kp.org](mailto:ncalcomp@kp.org northwest * * total-rewards-nw@kp.org](mailto:total-rewards-nw@kp.org * california * scal-compensation@kp.org](mailto:scal-compensation@kp.org make detail name eeid mean communication reach\n",
      "\n",
      "1012:  employee california region submission absence management documentation follow initiate * employee manager initiate absence request form require start manager role * * work time coordinator absence request time system schedule vacation * employee have schedule vacation participate vacation advance cash out absence type * employee absence request type time include pto vacation esl jury duty bereavement education leave approval * absence request approve absence section hrconnect employee timecard submission hrconnect * * employee save absence hrconnect hour absence include payslip approve absence request absence management timecard detail guidance employee absence request employee hrconnect](https://kphr.my.salesforce.com articles knowledge absence request employee hrconnect?r=880&ui knowledge component aura actions.knowledgearticleversioncreatedraftfromonlineaction.createdraftfromonlinearticle=1 article\n",
      "\n",
      "1013:  upload support document leave employee northern california region step initiate leave request * employee manager leave absence loa request pathway manager action leave absence request manage leave * attach support document * submission manager proxy employee upload attach support document use document feature case support document include employee certification healthcare provider * * vot dmi doctor submission ensure case status update detail guidance https://kphr.my.salesforce.com/lightning/r/knowledge__kav/ka06e0000011i5vcae/view#t3 leave absence procedure have question need assistance feel reach\n",
      "\n",
      "1014:  return status worker comp form take business day guidance status hr connect give reference\n",
      "\n",
      "1055: Unable to provide relevant knowledge based article for reference. \n",
      "\n",
      "1059:  benefit billing statement leave return charge sign benefit status mark leave require pay pocket have manager form update status reference\n",
      "\n"
     ]
    }
   ],
   "source": [
    "# Subset has the topic assignments for the first 1000 rows\n",
    "noise_subset = subset[subset[\"Topic\"] == -1]\n",
    "\n",
    "# Print them\n",
    "for idx, row in noise_subset.iterrows():\n",
    "    print(f\"{idx}: {row['text_input']}\\n\")"
   ]
  },
  {
   "cell_type": "markdown",
   "id": "82190897",
   "metadata": {},
   "source": [
    "Visualize the Topics"
   ]
  },
  {
   "cell_type": "code",
   "execution_count": 29,
   "id": "ff05f066",
   "metadata": {},
   "outputs": [
    {
     "ename": "ValueError",
     "evalue": "Mime type rendering requires nbformat>=4.2.0 but it is not installed",
     "output_type": "error",
     "traceback": [
      "\u001b[1;31m---------------------------------------------------------------------------\u001b[0m",
      "\u001b[1;31mValueError\u001b[0m                                Traceback (most recent call last)",
      "File \u001b[1;32m~\\AppData\\Roaming\\Python\\Python310\\site-packages\\IPython\\core\\formatters.py:984\u001b[0m, in \u001b[0;36mIPythonDisplayFormatter.__call__\u001b[1;34m(self, obj)\u001b[0m\n\u001b[0;32m    982\u001b[0m method \u001b[38;5;241m=\u001b[39m get_real_method(obj, \u001b[38;5;28mself\u001b[39m\u001b[38;5;241m.\u001b[39mprint_method)\n\u001b[0;32m    983\u001b[0m \u001b[38;5;28;01mif\u001b[39;00m method \u001b[38;5;129;01mis\u001b[39;00m \u001b[38;5;129;01mnot\u001b[39;00m \u001b[38;5;28;01mNone\u001b[39;00m:\n\u001b[1;32m--> 984\u001b[0m     \u001b[43mmethod\u001b[49m\u001b[43m(\u001b[49m\u001b[43m)\u001b[49m\n\u001b[0;32m    985\u001b[0m     \u001b[38;5;28;01mreturn\u001b[39;00m \u001b[38;5;28;01mTrue\u001b[39;00m\n",
      "File \u001b[1;32mc:\\Users\\A128842\\AppData\\Local\\Programs\\Python\\Python310\\lib\\site-packages\\plotly\\basedatatypes.py:846\u001b[0m, in \u001b[0;36mBaseFigure._ipython_display_\u001b[1;34m(self)\u001b[0m\n\u001b[0;32m    843\u001b[0m \u001b[38;5;28;01mimport\u001b[39;00m\u001b[38;5;250m \u001b[39m\u001b[38;5;21;01mplotly\u001b[39;00m\u001b[38;5;21;01m.\u001b[39;00m\u001b[38;5;21;01mio\u001b[39;00m\u001b[38;5;250m \u001b[39m\u001b[38;5;28;01mas\u001b[39;00m\u001b[38;5;250m \u001b[39m\u001b[38;5;21;01mpio\u001b[39;00m\n\u001b[0;32m    845\u001b[0m \u001b[38;5;28;01mif\u001b[39;00m pio\u001b[38;5;241m.\u001b[39mrenderers\u001b[38;5;241m.\u001b[39mrender_on_display \u001b[38;5;129;01mand\u001b[39;00m pio\u001b[38;5;241m.\u001b[39mrenderers\u001b[38;5;241m.\u001b[39mdefault:\n\u001b[1;32m--> 846\u001b[0m     \u001b[43mpio\u001b[49m\u001b[38;5;241;43m.\u001b[39;49m\u001b[43mshow\u001b[49m\u001b[43m(\u001b[49m\u001b[38;5;28;43mself\u001b[39;49m\u001b[43m)\u001b[49m\n\u001b[0;32m    847\u001b[0m \u001b[38;5;28;01melse\u001b[39;00m:\n\u001b[0;32m    848\u001b[0m     \u001b[38;5;28mprint\u001b[39m(\u001b[38;5;28mrepr\u001b[39m(\u001b[38;5;28mself\u001b[39m))\n",
      "File \u001b[1;32mc:\\Users\\A128842\\AppData\\Local\\Programs\\Python\\Python310\\lib\\site-packages\\plotly\\io\\_renderers.py:425\u001b[0m, in \u001b[0;36mshow\u001b[1;34m(fig, renderer, validate, **kwargs)\u001b[0m\n\u001b[0;32m    420\u001b[0m     \u001b[38;5;28;01mraise\u001b[39;00m \u001b[38;5;167;01mValueError\u001b[39;00m(\n\u001b[0;32m    421\u001b[0m         \u001b[38;5;124m\"\u001b[39m\u001b[38;5;124mMime type rendering requires ipython but it is not installed\u001b[39m\u001b[38;5;124m\"\u001b[39m\n\u001b[0;32m    422\u001b[0m     )\n\u001b[0;32m    424\u001b[0m \u001b[38;5;28;01mif\u001b[39;00m \u001b[38;5;129;01mnot\u001b[39;00m nbformat \u001b[38;5;129;01mor\u001b[39;00m Version(nbformat\u001b[38;5;241m.\u001b[39m__version__) \u001b[38;5;241m<\u001b[39m Version(\u001b[38;5;124m\"\u001b[39m\u001b[38;5;124m4.2.0\u001b[39m\u001b[38;5;124m\"\u001b[39m):\n\u001b[1;32m--> 425\u001b[0m     \u001b[38;5;28;01mraise\u001b[39;00m \u001b[38;5;167;01mValueError\u001b[39;00m(\n\u001b[0;32m    426\u001b[0m         \u001b[38;5;124m\"\u001b[39m\u001b[38;5;124mMime type rendering requires nbformat>=4.2.0 but it is not installed\u001b[39m\u001b[38;5;124m\"\u001b[39m\n\u001b[0;32m    427\u001b[0m     )\n\u001b[0;32m    429\u001b[0m display_jupyter_version_warnings()\n\u001b[0;32m    431\u001b[0m ipython_display\u001b[38;5;241m.\u001b[39mdisplay(bundle, raw\u001b[38;5;241m=\u001b[39m\u001b[38;5;28;01mTrue\u001b[39;00m)\n",
      "\u001b[1;31mValueError\u001b[0m: Mime type rendering requires nbformat>=4.2.0 but it is not installed"
     ]
    },
    {
     "data": {
      "application/vnd.plotly.v1+json": {
       "config": {
        "plotlyServerURL": "https://plot.ly"
       },
       "data": [
        {
         "hoverinfo": "text",
         "marker": {
          "color": "rgb(61,153,112)"
         },
         "mode": "lines",
         "type": "scatter",
         "x": {
          "bdata": "AAAAAAAAAAASFNFjaFjkPxIU0WNoWOQ/AAAAAAAAAAA=",
          "dtype": "f8"
         },
         "xaxis": "x",
         "y": {
          "bdata": "AAAAAAAAFMAAAAAAAAAUwAAAAAAAAC7AAAAAAAAALsA=",
          "dtype": "f8"
         },
         "yaxis": "y"
        },
        {
         "hoverinfo": "text",
         "marker": {
          "color": "rgb(61,153,112)"
         },
         "mode": "lines",
         "type": "scatter",
         "x": {
          "bdata": "AAAAAAAAAAC4HyJZelrXP7gfIll6Wtc/AAAAAAAAAAA=",
          "dtype": "f8"
         },
         "xaxis": "x",
         "y": {
          "bdata": "AAAAAAAAOcAAAAAAAAA5wAAAAAAAgEHAAAAAAACAQcA=",
          "dtype": "f8"
         },
         "yaxis": "y"
        },
        {
         "hoverinfo": "text",
         "marker": {
          "color": "rgb(61,153,112)"
         },
         "mode": "lines",
         "type": "scatter",
         "x": {
          "bdata": "EhTRY2hY5D/CeqeyLjbsP8J6p7IuNuw/uB8iWXpa1z8=",
          "dtype": "f8"
         },
         "xaxis": "x",
         "y": {
          "bdata": "AAAAAAAAJMAAAAAAAAAkwAAAAAAAAD7AAAAAAAAAPsA=",
          "dtype": "f8"
         },
         "yaxis": "y"
        },
        {
         "hoverinfo": "text",
         "marker": {
          "color": "rgb(255,65,54)"
         },
         "mode": "lines",
         "type": "scatter",
         "x": {
          "bdata": "AAAAAAAAAABOuOR4OSTVP0645Hg5JNU/AAAAAAAAAAA=",
          "dtype": "f8"
         },
         "xaxis": "x",
         "y": {
          "bdata": "AAAAAACAS8AAAAAAAIBLwAAAAAAAQFDAAAAAAABAUMA=",
          "dtype": "f8"
         },
         "yaxis": "y"
        },
        {
         "hoverinfo": "text",
         "marker": {
          "color": "rgb(255,65,54)"
         },
         "mode": "lines",
         "type": "scatter",
         "x": {
          "bdata": "AAAAAAAAAABrkT34teXgP2uRPfi15eA/TrjkeDkk1T8=",
          "dtype": "f8"
         },
         "xaxis": "x",
         "y": {
          "bdata": "AAAAAACARsAAAAAAAIBGwAAAAAAAAE7AAAAAAAAATsA=",
          "dtype": "f8"
         },
         "yaxis": "y"
        },
        {
         "hoverinfo": "text",
         "marker": {
          "color": "rgb(255,65,54)"
         },
         "mode": "lines",
         "type": "scatter",
         "x": {
          "bdata": "a5E9+LXl4D+nGyQoRpDjP6cbJChGkOM/AAAAAAAAAAA=",
          "dtype": "f8"
         },
         "xaxis": "x",
         "y": {
          "bdata": "AAAAAABASsAAAAAAAEBKwAAAAAAAwFLAAAAAAADAUsA=",
          "dtype": "f8"
         },
         "yaxis": "y"
        },
        {
         "hoverinfo": "text",
         "marker": {
          "color": "rgb(255,65,54)"
         },
         "mode": "lines",
         "type": "scatter",
         "x": {
          "bdata": "AAAAAAAAAAAELUhMAHvgPwQtSEwAe+A/AAAAAAAAAAA=",
          "dtype": "f8"
         },
         "xaxis": "x",
         "y": {
          "bdata": "AAAAAABAVcAAAAAAAEBVwAAAAAAAwFfAAAAAAADAV8A=",
          "dtype": "f8"
         },
         "yaxis": "y"
        },
        {
         "hoverinfo": "text",
         "marker": {
          "color": "rgb(255,65,54)"
         },
         "mode": "lines",
         "type": "scatter",
         "x": {
          "bdata": "pxskKEaQ4z/b55teF0fqP9vnm14XR+o/BC1ITAB74D8=",
          "dtype": "f8"
         },
         "xaxis": "x",
         "y": {
          "bdata": "AAAAAADgT8AAAAAAAOBPwAAAAAAAgFbAAAAAAACAVsA=",
          "dtype": "f8"
         },
         "yaxis": "y"
        },
        {
         "hoverinfo": "text",
         "marker": {
          "color": "rgb(35,205,205)"
         },
         "mode": "lines",
         "type": "scatter",
         "x": {
          "bdata": "AAAAAAAAAAB8t9rwzpbXP3y32vDOltc/AAAAAAAAAAA=",
          "dtype": "f8"
         },
         "xaxis": "x",
         "y": {
          "bdata": "AAAAAABAWsAAAAAAAEBawAAAAAAAwFzAAAAAAADAXMA=",
          "dtype": "f8"
         },
         "yaxis": "y"
        },
        {
         "hoverinfo": "text",
         "marker": {
          "color": "rgb(35,205,205)"
         },
         "mode": "lines",
         "type": "scatter",
         "x": {
          "bdata": "AAAAAAAAAAAAClynsuvWPwAKXKey69Y/AAAAAAAAAAA=",
          "dtype": "f8"
         },
         "xaxis": "x",
         "y": {
          "bdata": "AAAAAABAX8AAAAAAAEBfwAAAAAAA4GDAAAAAAADgYMA=",
          "dtype": "f8"
         },
         "yaxis": "y"
        },
        {
         "hoverinfo": "text",
         "marker": {
          "color": "rgb(35,205,205)"
         },
         "mode": "lines",
         "type": "scatter",
         "x": {
          "bdata": "fLfa8M6W1z9Y9K0/FfLjP1j0rT8V8uM/AApcp7Lr1j8=",
          "dtype": "f8"
         },
         "xaxis": "x",
         "y": {
          "bdata": "AAAAAACAW8AAAAAAAIBbwAAAAAAAQGDAAAAAAABAYMA=",
          "dtype": "f8"
         },
         "yaxis": "y"
        },
        {
         "hoverinfo": "text",
         "marker": {
          "color": "rgb(35,205,205)"
         },
         "mode": "lines",
         "type": "scatter",
         "x": {
          "bdata": "AAAAAAAAAAA0tly/YSvnPzS2XL9hK+c/AAAAAAAAAAA=",
          "dtype": "f8"
         },
         "xaxis": "x",
         "y": {
          "bdata": "AAAAAAAgYsAAAAAAACBiwAAAAAAAYGPAAAAAAABgY8A=",
          "dtype": "f8"
         },
         "yaxis": "y"
        },
        {
         "hoverinfo": "text",
         "marker": {
          "color": "rgb(35,205,205)"
         },
         "mode": "lines",
         "type": "scatter",
         "x": {
          "bdata": "WPStPxXy4z8SHhRDrDfuPxIeFEOsN+4/NLZcv2Er5z8=",
          "dtype": "f8"
         },
         "xaxis": "x",
         "y": {
          "bdata": "AAAAAAAAXsAAAAAAAABewAAAAAAAwGLAAAAAAADAYsA=",
          "dtype": "f8"
         },
         "yaxis": "y"
        },
        {
         "hoverinfo": "text",
         "marker": {
          "color": "rgb(0,116,217)"
         },
         "mode": "lines",
         "type": "scatter",
         "x": {
          "bdata": "2+ebXhdH6j9Hdb3YMWvwP0d1vdgxa/A/Eh4UQ6w37j8=",
          "dtype": "f8"
         },
         "xaxis": "x",
         "y": {
          "bdata": "AAAAAAA4U8AAAAAAADhTwAAAAAAA4GDAAAAAAADgYMA=",
          "dtype": "f8"
         },
         "yaxis": "y"
        },
        {
         "hoverinfo": "text",
         "marker": {
          "color": "rgb(0,116,217)"
         },
         "mode": "lines",
         "type": "scatter",
         "x": {
          "bdata": "wnqnsi427D9ZjOjTgrrzP1mM6NOCuvM/R3W92DFr8D8=",
          "dtype": "f8"
         },
         "xaxis": "x",
         "y": {
          "bdata": "AAAAAAAANMAAAAAAAAA0wAAAAAAAfFrAAAAAAAB8WsA=",
          "dtype": "f8"
         },
         "yaxis": "y"
        }
       ],
       "layout": {
        "autosize": false,
        "height": 440,
        "hoverlabel": {
         "bgcolor": "white",
         "font": {
          "family": "Rockwell",
          "size": 16
         }
        },
        "hovermode": "closest",
        "plot_bgcolor": "#ECEFF1",
        "showlegend": false,
        "template": {
         "data": {
          "bar": [
           {
            "error_x": {
             "color": "#2a3f5f"
            },
            "error_y": {
             "color": "#2a3f5f"
            },
            "marker": {
             "line": {
              "color": "white",
              "width": 0.5
             },
             "pattern": {
              "fillmode": "overlay",
              "size": 10,
              "solidity": 0.2
             }
            },
            "type": "bar"
           }
          ],
          "barpolar": [
           {
            "marker": {
             "line": {
              "color": "white",
              "width": 0.5
             },
             "pattern": {
              "fillmode": "overlay",
              "size": 10,
              "solidity": 0.2
             }
            },
            "type": "barpolar"
           }
          ],
          "carpet": [
           {
            "aaxis": {
             "endlinecolor": "#2a3f5f",
             "gridcolor": "#C8D4E3",
             "linecolor": "#C8D4E3",
             "minorgridcolor": "#C8D4E3",
             "startlinecolor": "#2a3f5f"
            },
            "baxis": {
             "endlinecolor": "#2a3f5f",
             "gridcolor": "#C8D4E3",
             "linecolor": "#C8D4E3",
             "minorgridcolor": "#C8D4E3",
             "startlinecolor": "#2a3f5f"
            },
            "type": "carpet"
           }
          ],
          "choropleth": [
           {
            "colorbar": {
             "outlinewidth": 0,
             "ticks": ""
            },
            "type": "choropleth"
           }
          ],
          "contour": [
           {
            "colorbar": {
             "outlinewidth": 0,
             "ticks": ""
            },
            "colorscale": [
             [
              0,
              "#0d0887"
             ],
             [
              0.1111111111111111,
              "#46039f"
             ],
             [
              0.2222222222222222,
              "#7201a8"
             ],
             [
              0.3333333333333333,
              "#9c179e"
             ],
             [
              0.4444444444444444,
              "#bd3786"
             ],
             [
              0.5555555555555556,
              "#d8576b"
             ],
             [
              0.6666666666666666,
              "#ed7953"
             ],
             [
              0.7777777777777778,
              "#fb9f3a"
             ],
             [
              0.8888888888888888,
              "#fdca26"
             ],
             [
              1,
              "#f0f921"
             ]
            ],
            "type": "contour"
           }
          ],
          "contourcarpet": [
           {
            "colorbar": {
             "outlinewidth": 0,
             "ticks": ""
            },
            "type": "contourcarpet"
           }
          ],
          "heatmap": [
           {
            "colorbar": {
             "outlinewidth": 0,
             "ticks": ""
            },
            "colorscale": [
             [
              0,
              "#0d0887"
             ],
             [
              0.1111111111111111,
              "#46039f"
             ],
             [
              0.2222222222222222,
              "#7201a8"
             ],
             [
              0.3333333333333333,
              "#9c179e"
             ],
             [
              0.4444444444444444,
              "#bd3786"
             ],
             [
              0.5555555555555556,
              "#d8576b"
             ],
             [
              0.6666666666666666,
              "#ed7953"
             ],
             [
              0.7777777777777778,
              "#fb9f3a"
             ],
             [
              0.8888888888888888,
              "#fdca26"
             ],
             [
              1,
              "#f0f921"
             ]
            ],
            "type": "heatmap"
           }
          ],
          "histogram": [
           {
            "marker": {
             "pattern": {
              "fillmode": "overlay",
              "size": 10,
              "solidity": 0.2
             }
            },
            "type": "histogram"
           }
          ],
          "histogram2d": [
           {
            "colorbar": {
             "outlinewidth": 0,
             "ticks": ""
            },
            "colorscale": [
             [
              0,
              "#0d0887"
             ],
             [
              0.1111111111111111,
              "#46039f"
             ],
             [
              0.2222222222222222,
              "#7201a8"
             ],
             [
              0.3333333333333333,
              "#9c179e"
             ],
             [
              0.4444444444444444,
              "#bd3786"
             ],
             [
              0.5555555555555556,
              "#d8576b"
             ],
             [
              0.6666666666666666,
              "#ed7953"
             ],
             [
              0.7777777777777778,
              "#fb9f3a"
             ],
             [
              0.8888888888888888,
              "#fdca26"
             ],
             [
              1,
              "#f0f921"
             ]
            ],
            "type": "histogram2d"
           }
          ],
          "histogram2dcontour": [
           {
            "colorbar": {
             "outlinewidth": 0,
             "ticks": ""
            },
            "colorscale": [
             [
              0,
              "#0d0887"
             ],
             [
              0.1111111111111111,
              "#46039f"
             ],
             [
              0.2222222222222222,
              "#7201a8"
             ],
             [
              0.3333333333333333,
              "#9c179e"
             ],
             [
              0.4444444444444444,
              "#bd3786"
             ],
             [
              0.5555555555555556,
              "#d8576b"
             ],
             [
              0.6666666666666666,
              "#ed7953"
             ],
             [
              0.7777777777777778,
              "#fb9f3a"
             ],
             [
              0.8888888888888888,
              "#fdca26"
             ],
             [
              1,
              "#f0f921"
             ]
            ],
            "type": "histogram2dcontour"
           }
          ],
          "mesh3d": [
           {
            "colorbar": {
             "outlinewidth": 0,
             "ticks": ""
            },
            "type": "mesh3d"
           }
          ],
          "parcoords": [
           {
            "line": {
             "colorbar": {
              "outlinewidth": 0,
              "ticks": ""
             }
            },
            "type": "parcoords"
           }
          ],
          "pie": [
           {
            "automargin": true,
            "type": "pie"
           }
          ],
          "scatter": [
           {
            "fillpattern": {
             "fillmode": "overlay",
             "size": 10,
             "solidity": 0.2
            },
            "type": "scatter"
           }
          ],
          "scatter3d": [
           {
            "line": {
             "colorbar": {
              "outlinewidth": 0,
              "ticks": ""
             }
            },
            "marker": {
             "colorbar": {
              "outlinewidth": 0,
              "ticks": ""
             }
            },
            "type": "scatter3d"
           }
          ],
          "scattercarpet": [
           {
            "marker": {
             "colorbar": {
              "outlinewidth": 0,
              "ticks": ""
             }
            },
            "type": "scattercarpet"
           }
          ],
          "scattergeo": [
           {
            "marker": {
             "colorbar": {
              "outlinewidth": 0,
              "ticks": ""
             }
            },
            "type": "scattergeo"
           }
          ],
          "scattergl": [
           {
            "marker": {
             "colorbar": {
              "outlinewidth": 0,
              "ticks": ""
             }
            },
            "type": "scattergl"
           }
          ],
          "scattermap": [
           {
            "marker": {
             "colorbar": {
              "outlinewidth": 0,
              "ticks": ""
             }
            },
            "type": "scattermap"
           }
          ],
          "scattermapbox": [
           {
            "marker": {
             "colorbar": {
              "outlinewidth": 0,
              "ticks": ""
             }
            },
            "type": "scattermapbox"
           }
          ],
          "scatterpolar": [
           {
            "marker": {
             "colorbar": {
              "outlinewidth": 0,
              "ticks": ""
             }
            },
            "type": "scatterpolar"
           }
          ],
          "scatterpolargl": [
           {
            "marker": {
             "colorbar": {
              "outlinewidth": 0,
              "ticks": ""
             }
            },
            "type": "scatterpolargl"
           }
          ],
          "scatterternary": [
           {
            "marker": {
             "colorbar": {
              "outlinewidth": 0,
              "ticks": ""
             }
            },
            "type": "scatterternary"
           }
          ],
          "surface": [
           {
            "colorbar": {
             "outlinewidth": 0,
             "ticks": ""
            },
            "colorscale": [
             [
              0,
              "#0d0887"
             ],
             [
              0.1111111111111111,
              "#46039f"
             ],
             [
              0.2222222222222222,
              "#7201a8"
             ],
             [
              0.3333333333333333,
              "#9c179e"
             ],
             [
              0.4444444444444444,
              "#bd3786"
             ],
             [
              0.5555555555555556,
              "#d8576b"
             ],
             [
              0.6666666666666666,
              "#ed7953"
             ],
             [
              0.7777777777777778,
              "#fb9f3a"
             ],
             [
              0.8888888888888888,
              "#fdca26"
             ],
             [
              1,
              "#f0f921"
             ]
            ],
            "type": "surface"
           }
          ],
          "table": [
           {
            "cells": {
             "fill": {
              "color": "#EBF0F8"
             },
             "line": {
              "color": "white"
             }
            },
            "header": {
             "fill": {
              "color": "#C8D4E3"
             },
             "line": {
              "color": "white"
             }
            },
            "type": "table"
           }
          ]
         },
         "layout": {
          "annotationdefaults": {
           "arrowcolor": "#2a3f5f",
           "arrowhead": 0,
           "arrowwidth": 1
          },
          "autotypenumbers": "strict",
          "coloraxis": {
           "colorbar": {
            "outlinewidth": 0,
            "ticks": ""
           }
          },
          "colorscale": {
           "diverging": [
            [
             0,
             "#8e0152"
            ],
            [
             0.1,
             "#c51b7d"
            ],
            [
             0.2,
             "#de77ae"
            ],
            [
             0.3,
             "#f1b6da"
            ],
            [
             0.4,
             "#fde0ef"
            ],
            [
             0.5,
             "#f7f7f7"
            ],
            [
             0.6,
             "#e6f5d0"
            ],
            [
             0.7,
             "#b8e186"
            ],
            [
             0.8,
             "#7fbc41"
            ],
            [
             0.9,
             "#4d9221"
            ],
            [
             1,
             "#276419"
            ]
           ],
           "sequential": [
            [
             0,
             "#0d0887"
            ],
            [
             0.1111111111111111,
             "#46039f"
            ],
            [
             0.2222222222222222,
             "#7201a8"
            ],
            [
             0.3333333333333333,
             "#9c179e"
            ],
            [
             0.4444444444444444,
             "#bd3786"
            ],
            [
             0.5555555555555556,
             "#d8576b"
            ],
            [
             0.6666666666666666,
             "#ed7953"
            ],
            [
             0.7777777777777778,
             "#fb9f3a"
            ],
            [
             0.8888888888888888,
             "#fdca26"
            ],
            [
             1,
             "#f0f921"
            ]
           ],
           "sequentialminus": [
            [
             0,
             "#0d0887"
            ],
            [
             0.1111111111111111,
             "#46039f"
            ],
            [
             0.2222222222222222,
             "#7201a8"
            ],
            [
             0.3333333333333333,
             "#9c179e"
            ],
            [
             0.4444444444444444,
             "#bd3786"
            ],
            [
             0.5555555555555556,
             "#d8576b"
            ],
            [
             0.6666666666666666,
             "#ed7953"
            ],
            [
             0.7777777777777778,
             "#fb9f3a"
            ],
            [
             0.8888888888888888,
             "#fdca26"
            ],
            [
             1,
             "#f0f921"
            ]
           ]
          },
          "colorway": [
           "#636efa",
           "#EF553B",
           "#00cc96",
           "#ab63fa",
           "#FFA15A",
           "#19d3f3",
           "#FF6692",
           "#B6E880",
           "#FF97FF",
           "#FECB52"
          ],
          "font": {
           "color": "#2a3f5f"
          },
          "geo": {
           "bgcolor": "white",
           "lakecolor": "white",
           "landcolor": "white",
           "showlakes": true,
           "showland": true,
           "subunitcolor": "#C8D4E3"
          },
          "hoverlabel": {
           "align": "left"
          },
          "hovermode": "closest",
          "mapbox": {
           "style": "light"
          },
          "paper_bgcolor": "white",
          "plot_bgcolor": "white",
          "polar": {
           "angularaxis": {
            "gridcolor": "#EBF0F8",
            "linecolor": "#EBF0F8",
            "ticks": ""
           },
           "bgcolor": "white",
           "radialaxis": {
            "gridcolor": "#EBF0F8",
            "linecolor": "#EBF0F8",
            "ticks": ""
           }
          },
          "scene": {
           "xaxis": {
            "backgroundcolor": "white",
            "gridcolor": "#DFE8F3",
            "gridwidth": 2,
            "linecolor": "#EBF0F8",
            "showbackground": true,
            "ticks": "",
            "zerolinecolor": "#EBF0F8"
           },
           "yaxis": {
            "backgroundcolor": "white",
            "gridcolor": "#DFE8F3",
            "gridwidth": 2,
            "linecolor": "#EBF0F8",
            "showbackground": true,
            "ticks": "",
            "zerolinecolor": "#EBF0F8"
           },
           "zaxis": {
            "backgroundcolor": "white",
            "gridcolor": "#DFE8F3",
            "gridwidth": 2,
            "linecolor": "#EBF0F8",
            "showbackground": true,
            "ticks": "",
            "zerolinecolor": "#EBF0F8"
           }
          },
          "shapedefaults": {
           "line": {
            "color": "#2a3f5f"
           }
          },
          "ternary": {
           "aaxis": {
            "gridcolor": "#DFE8F3",
            "linecolor": "#A2B1C6",
            "ticks": ""
           },
           "baxis": {
            "gridcolor": "#DFE8F3",
            "linecolor": "#A2B1C6",
            "ticks": ""
           },
           "bgcolor": "white",
           "caxis": {
            "gridcolor": "#DFE8F3",
            "linecolor": "#A2B1C6",
            "ticks": ""
           }
          },
          "title": {
           "x": 0.05
          },
          "xaxis": {
           "automargin": true,
           "gridcolor": "#EBF0F8",
           "linecolor": "#EBF0F8",
           "ticks": "",
           "title": {
            "standoff": 15
           },
           "zerolinecolor": "#EBF0F8",
           "zerolinewidth": 2
          },
          "yaxis": {
           "automargin": true,
           "gridcolor": "#EBF0F8",
           "linecolor": "#EBF0F8",
           "ticks": "",
           "title": {
            "standoff": 15
           },
           "zerolinecolor": "#EBF0F8",
           "zerolinewidth": 2
          }
         }
        },
        "title": {
         "font": {
          "color": "Black",
          "size": 22
         },
         "text": "<b>Hierarchical Clustering</b>",
         "x": 0.5,
         "xanchor": "center",
         "yanchor": "top"
        },
        "width": 1000,
        "xaxis": {
         "mirror": "allticks",
         "rangemode": "tozero",
         "showgrid": false,
         "showline": true,
         "showticklabels": true,
         "ticks": "outside",
         "type": "linear",
         "zeroline": false
        },
        "yaxis": {
         "mirror": "allticks",
         "range": [
          -160,
          0
         ],
         "rangemode": "tozero",
         "showgrid": false,
         "showline": true,
         "showticklabels": true,
         "tickmode": "array",
         "ticks": "outside",
         "ticktext": [
          "12_vanguard_retirement_the",
          "9_center_hr_number",
          "3_enrollment_add_plan",
          "4_enrollment_event_benefit",
          "14_fmla_hour_eligibility",
          "2_fmla_document_leave",
          "0_leave_form_absence",
          "11_vacation_hour_leave",
          "8_discrepancy_hour_paycheck",
          "5_payment_pay_employee",
          "13_pfl_bonding_pay",
          "1_disability_employee_pay",
          "6_fmla_leave_employee",
          "7_request_leave_absence",
          "15_org_kp_consultant",
          "10_position_change_transfer"
         ],
         "tickvals": [
          -5,
          -15,
          -25,
          -35,
          -45,
          -55,
          -65,
          -75,
          -85,
          -95,
          -105,
          -115,
          -125,
          -135,
          -145,
          -155
         ],
         "type": "linear",
         "zeroline": false
        }
       }
      },
      "text/html": [
       "<div>                        <script type=\"text/javascript\">window.PlotlyConfig = {MathJaxConfig: 'local'};</script>\n",
       "        <script charset=\"utf-8\" src=\"https://cdn.plot.ly/plotly-3.0.1.min.js\"></script>                <div id=\"5500f8f8-26b6-471c-bd07-28ddce9a334e\" class=\"plotly-graph-div\" style=\"height:440px; width:1000px;\"></div>            <script type=\"text/javascript\">                window.PLOTLYENV=window.PLOTLYENV || {};                                if (document.getElementById(\"5500f8f8-26b6-471c-bd07-28ddce9a334e\")) {                    Plotly.newPlot(                        \"5500f8f8-26b6-471c-bd07-28ddce9a334e\",                        [{\"hoverinfo\":\"text\",\"marker\":{\"color\":\"rgb(61,153,112)\"},\"mode\":\"lines\",\"x\":{\"dtype\":\"f8\",\"bdata\":\"AAAAAAAAAAASFNFjaFjkPxIU0WNoWOQ\\u002fAAAAAAAAAAA=\"},\"xaxis\":\"x\",\"y\":{\"dtype\":\"f8\",\"bdata\":\"AAAAAAAAFMAAAAAAAAAUwAAAAAAAAC7AAAAAAAAALsA=\"},\"yaxis\":\"y\",\"type\":\"scatter\"},{\"hoverinfo\":\"text\",\"marker\":{\"color\":\"rgb(61,153,112)\"},\"mode\":\"lines\",\"x\":{\"dtype\":\"f8\",\"bdata\":\"AAAAAAAAAAC4HyJZelrXP7gfIll6Wtc\\u002fAAAAAAAAAAA=\"},\"xaxis\":\"x\",\"y\":{\"dtype\":\"f8\",\"bdata\":\"AAAAAAAAOcAAAAAAAAA5wAAAAAAAgEHAAAAAAACAQcA=\"},\"yaxis\":\"y\",\"type\":\"scatter\"},{\"hoverinfo\":\"text\",\"marker\":{\"color\":\"rgb(61,153,112)\"},\"mode\":\"lines\",\"x\":{\"dtype\":\"f8\",\"bdata\":\"EhTRY2hY5D\\u002fCeqeyLjbsP8J6p7IuNuw\\u002fuB8iWXpa1z8=\"},\"xaxis\":\"x\",\"y\":{\"dtype\":\"f8\",\"bdata\":\"AAAAAAAAJMAAAAAAAAAkwAAAAAAAAD7AAAAAAAAAPsA=\"},\"yaxis\":\"y\",\"type\":\"scatter\"},{\"hoverinfo\":\"text\",\"marker\":{\"color\":\"rgb(255,65,54)\"},\"mode\":\"lines\",\"x\":{\"dtype\":\"f8\",\"bdata\":\"AAAAAAAAAABOuOR4OSTVP0645Hg5JNU\\u002fAAAAAAAAAAA=\"},\"xaxis\":\"x\",\"y\":{\"dtype\":\"f8\",\"bdata\":\"AAAAAACAS8AAAAAAAIBLwAAAAAAAQFDAAAAAAABAUMA=\"},\"yaxis\":\"y\",\"type\":\"scatter\"},{\"hoverinfo\":\"text\",\"marker\":{\"color\":\"rgb(255,65,54)\"},\"mode\":\"lines\",\"x\":{\"dtype\":\"f8\",\"bdata\":\"AAAAAAAAAABrkT34teXgP2uRPfi15eA\\u002fTrjkeDkk1T8=\"},\"xaxis\":\"x\",\"y\":{\"dtype\":\"f8\",\"bdata\":\"AAAAAACARsAAAAAAAIBGwAAAAAAAAE7AAAAAAAAATsA=\"},\"yaxis\":\"y\",\"type\":\"scatter\"},{\"hoverinfo\":\"text\",\"marker\":{\"color\":\"rgb(255,65,54)\"},\"mode\":\"lines\",\"x\":{\"dtype\":\"f8\",\"bdata\":\"a5E9+LXl4D+nGyQoRpDjP6cbJChGkOM\\u002fAAAAAAAAAAA=\"},\"xaxis\":\"x\",\"y\":{\"dtype\":\"f8\",\"bdata\":\"AAAAAABASsAAAAAAAEBKwAAAAAAAwFLAAAAAAADAUsA=\"},\"yaxis\":\"y\",\"type\":\"scatter\"},{\"hoverinfo\":\"text\",\"marker\":{\"color\":\"rgb(255,65,54)\"},\"mode\":\"lines\",\"x\":{\"dtype\":\"f8\",\"bdata\":\"AAAAAAAAAAAELUhMAHvgPwQtSEwAe+A\\u002fAAAAAAAAAAA=\"},\"xaxis\":\"x\",\"y\":{\"dtype\":\"f8\",\"bdata\":\"AAAAAABAVcAAAAAAAEBVwAAAAAAAwFfAAAAAAADAV8A=\"},\"yaxis\":\"y\",\"type\":\"scatter\"},{\"hoverinfo\":\"text\",\"marker\":{\"color\":\"rgb(255,65,54)\"},\"mode\":\"lines\",\"x\":{\"dtype\":\"f8\",\"bdata\":\"pxskKEaQ4z\\u002fb55teF0fqP9vnm14XR+o\\u002fBC1ITAB74D8=\"},\"xaxis\":\"x\",\"y\":{\"dtype\":\"f8\",\"bdata\":\"AAAAAADgT8AAAAAAAOBPwAAAAAAAgFbAAAAAAACAVsA=\"},\"yaxis\":\"y\",\"type\":\"scatter\"},{\"hoverinfo\":\"text\",\"marker\":{\"color\":\"rgb(35,205,205)\"},\"mode\":\"lines\",\"x\":{\"dtype\":\"f8\",\"bdata\":\"AAAAAAAAAAB8t9rwzpbXP3y32vDOltc\\u002fAAAAAAAAAAA=\"},\"xaxis\":\"x\",\"y\":{\"dtype\":\"f8\",\"bdata\":\"AAAAAABAWsAAAAAAAEBawAAAAAAAwFzAAAAAAADAXMA=\"},\"yaxis\":\"y\",\"type\":\"scatter\"},{\"hoverinfo\":\"text\",\"marker\":{\"color\":\"rgb(35,205,205)\"},\"mode\":\"lines\",\"x\":{\"dtype\":\"f8\",\"bdata\":\"AAAAAAAAAAAAClynsuvWPwAKXKey69Y\\u002fAAAAAAAAAAA=\"},\"xaxis\":\"x\",\"y\":{\"dtype\":\"f8\",\"bdata\":\"AAAAAABAX8AAAAAAAEBfwAAAAAAA4GDAAAAAAADgYMA=\"},\"yaxis\":\"y\",\"type\":\"scatter\"},{\"hoverinfo\":\"text\",\"marker\":{\"color\":\"rgb(35,205,205)\"},\"mode\":\"lines\",\"x\":{\"dtype\":\"f8\",\"bdata\":\"fLfa8M6W1z9Y9K0\\u002fFfLjP1j0rT8V8uM\\u002fAApcp7Lr1j8=\"},\"xaxis\":\"x\",\"y\":{\"dtype\":\"f8\",\"bdata\":\"AAAAAACAW8AAAAAAAIBbwAAAAAAAQGDAAAAAAABAYMA=\"},\"yaxis\":\"y\",\"type\":\"scatter\"},{\"hoverinfo\":\"text\",\"marker\":{\"color\":\"rgb(35,205,205)\"},\"mode\":\"lines\",\"x\":{\"dtype\":\"f8\",\"bdata\":\"AAAAAAAAAAA0tly\\u002fYSvnPzS2XL9hK+c\\u002fAAAAAAAAAAA=\"},\"xaxis\":\"x\",\"y\":{\"dtype\":\"f8\",\"bdata\":\"AAAAAAAgYsAAAAAAACBiwAAAAAAAYGPAAAAAAABgY8A=\"},\"yaxis\":\"y\",\"type\":\"scatter\"},{\"hoverinfo\":\"text\",\"marker\":{\"color\":\"rgb(35,205,205)\"},\"mode\":\"lines\",\"x\":{\"dtype\":\"f8\",\"bdata\":\"WPStPxXy4z8SHhRDrDfuPxIeFEOsN+4\\u002fNLZcv2Er5z8=\"},\"xaxis\":\"x\",\"y\":{\"dtype\":\"f8\",\"bdata\":\"AAAAAAAAXsAAAAAAAABewAAAAAAAwGLAAAAAAADAYsA=\"},\"yaxis\":\"y\",\"type\":\"scatter\"},{\"hoverinfo\":\"text\",\"marker\":{\"color\":\"rgb(0,116,217)\"},\"mode\":\"lines\",\"x\":{\"dtype\":\"f8\",\"bdata\":\"2+ebXhdH6j9Hdb3YMWvwP0d1vdgxa\\u002fA\\u002fEh4UQ6w37j8=\"},\"xaxis\":\"x\",\"y\":{\"dtype\":\"f8\",\"bdata\":\"AAAAAAA4U8AAAAAAADhTwAAAAAAA4GDAAAAAAADgYMA=\"},\"yaxis\":\"y\",\"type\":\"scatter\"},{\"hoverinfo\":\"text\",\"marker\":{\"color\":\"rgb(0,116,217)\"},\"mode\":\"lines\",\"x\":{\"dtype\":\"f8\",\"bdata\":\"wnqnsi427D9ZjOjTgrrzP1mM6NOCuvM\\u002fR3W92DFr8D8=\"},\"xaxis\":\"x\",\"y\":{\"dtype\":\"f8\",\"bdata\":\"AAAAAAAANMAAAAAAAAA0wAAAAAAAfFrAAAAAAAB8WsA=\"},\"yaxis\":\"y\",\"type\":\"scatter\"}],                        {\"autosize\":false,\"height\":440,\"hovermode\":\"closest\",\"showlegend\":false,\"width\":1000,\"xaxis\":{\"mirror\":\"allticks\",\"rangemode\":\"tozero\",\"showgrid\":false,\"showline\":true,\"showticklabels\":true,\"ticks\":\"outside\",\"type\":\"linear\",\"zeroline\":false},\"yaxis\":{\"mirror\":\"allticks\",\"rangemode\":\"tozero\",\"showgrid\":false,\"showline\":true,\"showticklabels\":true,\"tickmode\":\"array\",\"ticks\":\"outside\",\"ticktext\":[\"12_vanguard_retirement_the\",\"9_center_hr_number\",\"3_enrollment_add_plan\",\"4_enrollment_event_benefit\",\"14_fmla_hour_eligibility\",\"2_fmla_document_leave\",\"0_leave_form_absence\",\"11_vacation_hour_leave\",\"8_discrepancy_hour_paycheck\",\"5_payment_pay_employee\",\"13_pfl_bonding_pay\",\"1_disability_employee_pay\",\"6_fmla_leave_employee\",\"7_request_leave_absence\",\"15_org_kp_consultant\",\"10_position_change_transfer\"],\"tickvals\":[-5.0,-15.0,-25.0,-35.0,-45.0,-55.0,-65.0,-75.0,-85.0,-95.0,-105.0,-115.0,-125.0,-135.0,-145.0,-155.0],\"type\":\"linear\",\"zeroline\":false,\"range\":[-160.0,0.0]},\"template\":{\"data\":{\"barpolar\":[{\"marker\":{\"line\":{\"color\":\"white\",\"width\":0.5},\"pattern\":{\"fillmode\":\"overlay\",\"size\":10,\"solidity\":0.2}},\"type\":\"barpolar\"}],\"bar\":[{\"error_x\":{\"color\":\"#2a3f5f\"},\"error_y\":{\"color\":\"#2a3f5f\"},\"marker\":{\"line\":{\"color\":\"white\",\"width\":0.5},\"pattern\":{\"fillmode\":\"overlay\",\"size\":10,\"solidity\":0.2}},\"type\":\"bar\"}],\"carpet\":[{\"aaxis\":{\"endlinecolor\":\"#2a3f5f\",\"gridcolor\":\"#C8D4E3\",\"linecolor\":\"#C8D4E3\",\"minorgridcolor\":\"#C8D4E3\",\"startlinecolor\":\"#2a3f5f\"},\"baxis\":{\"endlinecolor\":\"#2a3f5f\",\"gridcolor\":\"#C8D4E3\",\"linecolor\":\"#C8D4E3\",\"minorgridcolor\":\"#C8D4E3\",\"startlinecolor\":\"#2a3f5f\"},\"type\":\"carpet\"}],\"choropleth\":[{\"colorbar\":{\"outlinewidth\":0,\"ticks\":\"\"},\"type\":\"choropleth\"}],\"contourcarpet\":[{\"colorbar\":{\"outlinewidth\":0,\"ticks\":\"\"},\"type\":\"contourcarpet\"}],\"contour\":[{\"colorbar\":{\"outlinewidth\":0,\"ticks\":\"\"},\"colorscale\":[[0.0,\"#0d0887\"],[0.1111111111111111,\"#46039f\"],[0.2222222222222222,\"#7201a8\"],[0.3333333333333333,\"#9c179e\"],[0.4444444444444444,\"#bd3786\"],[0.5555555555555556,\"#d8576b\"],[0.6666666666666666,\"#ed7953\"],[0.7777777777777778,\"#fb9f3a\"],[0.8888888888888888,\"#fdca26\"],[1.0,\"#f0f921\"]],\"type\":\"contour\"}],\"heatmap\":[{\"colorbar\":{\"outlinewidth\":0,\"ticks\":\"\"},\"colorscale\":[[0.0,\"#0d0887\"],[0.1111111111111111,\"#46039f\"],[0.2222222222222222,\"#7201a8\"],[0.3333333333333333,\"#9c179e\"],[0.4444444444444444,\"#bd3786\"],[0.5555555555555556,\"#d8576b\"],[0.6666666666666666,\"#ed7953\"],[0.7777777777777778,\"#fb9f3a\"],[0.8888888888888888,\"#fdca26\"],[1.0,\"#f0f921\"]],\"type\":\"heatmap\"}],\"histogram2dcontour\":[{\"colorbar\":{\"outlinewidth\":0,\"ticks\":\"\"},\"colorscale\":[[0.0,\"#0d0887\"],[0.1111111111111111,\"#46039f\"],[0.2222222222222222,\"#7201a8\"],[0.3333333333333333,\"#9c179e\"],[0.4444444444444444,\"#bd3786\"],[0.5555555555555556,\"#d8576b\"],[0.6666666666666666,\"#ed7953\"],[0.7777777777777778,\"#fb9f3a\"],[0.8888888888888888,\"#fdca26\"],[1.0,\"#f0f921\"]],\"type\":\"histogram2dcontour\"}],\"histogram2d\":[{\"colorbar\":{\"outlinewidth\":0,\"ticks\":\"\"},\"colorscale\":[[0.0,\"#0d0887\"],[0.1111111111111111,\"#46039f\"],[0.2222222222222222,\"#7201a8\"],[0.3333333333333333,\"#9c179e\"],[0.4444444444444444,\"#bd3786\"],[0.5555555555555556,\"#d8576b\"],[0.6666666666666666,\"#ed7953\"],[0.7777777777777778,\"#fb9f3a\"],[0.8888888888888888,\"#fdca26\"],[1.0,\"#f0f921\"]],\"type\":\"histogram2d\"}],\"histogram\":[{\"marker\":{\"pattern\":{\"fillmode\":\"overlay\",\"size\":10,\"solidity\":0.2}},\"type\":\"histogram\"}],\"mesh3d\":[{\"colorbar\":{\"outlinewidth\":0,\"ticks\":\"\"},\"type\":\"mesh3d\"}],\"parcoords\":[{\"line\":{\"colorbar\":{\"outlinewidth\":0,\"ticks\":\"\"}},\"type\":\"parcoords\"}],\"pie\":[{\"automargin\":true,\"type\":\"pie\"}],\"scatter3d\":[{\"line\":{\"colorbar\":{\"outlinewidth\":0,\"ticks\":\"\"}},\"marker\":{\"colorbar\":{\"outlinewidth\":0,\"ticks\":\"\"}},\"type\":\"scatter3d\"}],\"scattercarpet\":[{\"marker\":{\"colorbar\":{\"outlinewidth\":0,\"ticks\":\"\"}},\"type\":\"scattercarpet\"}],\"scattergeo\":[{\"marker\":{\"colorbar\":{\"outlinewidth\":0,\"ticks\":\"\"}},\"type\":\"scattergeo\"}],\"scattergl\":[{\"marker\":{\"colorbar\":{\"outlinewidth\":0,\"ticks\":\"\"}},\"type\":\"scattergl\"}],\"scattermapbox\":[{\"marker\":{\"colorbar\":{\"outlinewidth\":0,\"ticks\":\"\"}},\"type\":\"scattermapbox\"}],\"scattermap\":[{\"marker\":{\"colorbar\":{\"outlinewidth\":0,\"ticks\":\"\"}},\"type\":\"scattermap\"}],\"scatterpolargl\":[{\"marker\":{\"colorbar\":{\"outlinewidth\":0,\"ticks\":\"\"}},\"type\":\"scatterpolargl\"}],\"scatterpolar\":[{\"marker\":{\"colorbar\":{\"outlinewidth\":0,\"ticks\":\"\"}},\"type\":\"scatterpolar\"}],\"scatter\":[{\"fillpattern\":{\"fillmode\":\"overlay\",\"size\":10,\"solidity\":0.2},\"type\":\"scatter\"}],\"scatterternary\":[{\"marker\":{\"colorbar\":{\"outlinewidth\":0,\"ticks\":\"\"}},\"type\":\"scatterternary\"}],\"surface\":[{\"colorbar\":{\"outlinewidth\":0,\"ticks\":\"\"},\"colorscale\":[[0.0,\"#0d0887\"],[0.1111111111111111,\"#46039f\"],[0.2222222222222222,\"#7201a8\"],[0.3333333333333333,\"#9c179e\"],[0.4444444444444444,\"#bd3786\"],[0.5555555555555556,\"#d8576b\"],[0.6666666666666666,\"#ed7953\"],[0.7777777777777778,\"#fb9f3a\"],[0.8888888888888888,\"#fdca26\"],[1.0,\"#f0f921\"]],\"type\":\"surface\"}],\"table\":[{\"cells\":{\"fill\":{\"color\":\"#EBF0F8\"},\"line\":{\"color\":\"white\"}},\"header\":{\"fill\":{\"color\":\"#C8D4E3\"},\"line\":{\"color\":\"white\"}},\"type\":\"table\"}]},\"layout\":{\"annotationdefaults\":{\"arrowcolor\":\"#2a3f5f\",\"arrowhead\":0,\"arrowwidth\":1},\"autotypenumbers\":\"strict\",\"coloraxis\":{\"colorbar\":{\"outlinewidth\":0,\"ticks\":\"\"}},\"colorscale\":{\"diverging\":[[0,\"#8e0152\"],[0.1,\"#c51b7d\"],[0.2,\"#de77ae\"],[0.3,\"#f1b6da\"],[0.4,\"#fde0ef\"],[0.5,\"#f7f7f7\"],[0.6,\"#e6f5d0\"],[0.7,\"#b8e186\"],[0.8,\"#7fbc41\"],[0.9,\"#4d9221\"],[1,\"#276419\"]],\"sequential\":[[0.0,\"#0d0887\"],[0.1111111111111111,\"#46039f\"],[0.2222222222222222,\"#7201a8\"],[0.3333333333333333,\"#9c179e\"],[0.4444444444444444,\"#bd3786\"],[0.5555555555555556,\"#d8576b\"],[0.6666666666666666,\"#ed7953\"],[0.7777777777777778,\"#fb9f3a\"],[0.8888888888888888,\"#fdca26\"],[1.0,\"#f0f921\"]],\"sequentialminus\":[[0.0,\"#0d0887\"],[0.1111111111111111,\"#46039f\"],[0.2222222222222222,\"#7201a8\"],[0.3333333333333333,\"#9c179e\"],[0.4444444444444444,\"#bd3786\"],[0.5555555555555556,\"#d8576b\"],[0.6666666666666666,\"#ed7953\"],[0.7777777777777778,\"#fb9f3a\"],[0.8888888888888888,\"#fdca26\"],[1.0,\"#f0f921\"]]},\"colorway\":[\"#636efa\",\"#EF553B\",\"#00cc96\",\"#ab63fa\",\"#FFA15A\",\"#19d3f3\",\"#FF6692\",\"#B6E880\",\"#FF97FF\",\"#FECB52\"],\"font\":{\"color\":\"#2a3f5f\"},\"geo\":{\"bgcolor\":\"white\",\"lakecolor\":\"white\",\"landcolor\":\"white\",\"showlakes\":true,\"showland\":true,\"subunitcolor\":\"#C8D4E3\"},\"hoverlabel\":{\"align\":\"left\"},\"hovermode\":\"closest\",\"mapbox\":{\"style\":\"light\"},\"paper_bgcolor\":\"white\",\"plot_bgcolor\":\"white\",\"polar\":{\"angularaxis\":{\"gridcolor\":\"#EBF0F8\",\"linecolor\":\"#EBF0F8\",\"ticks\":\"\"},\"bgcolor\":\"white\",\"radialaxis\":{\"gridcolor\":\"#EBF0F8\",\"linecolor\":\"#EBF0F8\",\"ticks\":\"\"}},\"scene\":{\"xaxis\":{\"backgroundcolor\":\"white\",\"gridcolor\":\"#DFE8F3\",\"gridwidth\":2,\"linecolor\":\"#EBF0F8\",\"showbackground\":true,\"ticks\":\"\",\"zerolinecolor\":\"#EBF0F8\"},\"yaxis\":{\"backgroundcolor\":\"white\",\"gridcolor\":\"#DFE8F3\",\"gridwidth\":2,\"linecolor\":\"#EBF0F8\",\"showbackground\":true,\"ticks\":\"\",\"zerolinecolor\":\"#EBF0F8\"},\"zaxis\":{\"backgroundcolor\":\"white\",\"gridcolor\":\"#DFE8F3\",\"gridwidth\":2,\"linecolor\":\"#EBF0F8\",\"showbackground\":true,\"ticks\":\"\",\"zerolinecolor\":\"#EBF0F8\"}},\"shapedefaults\":{\"line\":{\"color\":\"#2a3f5f\"}},\"ternary\":{\"aaxis\":{\"gridcolor\":\"#DFE8F3\",\"linecolor\":\"#A2B1C6\",\"ticks\":\"\"},\"baxis\":{\"gridcolor\":\"#DFE8F3\",\"linecolor\":\"#A2B1C6\",\"ticks\":\"\"},\"bgcolor\":\"white\",\"caxis\":{\"gridcolor\":\"#DFE8F3\",\"linecolor\":\"#A2B1C6\",\"ticks\":\"\"}},\"title\":{\"x\":0.05},\"xaxis\":{\"automargin\":true,\"gridcolor\":\"#EBF0F8\",\"linecolor\":\"#EBF0F8\",\"ticks\":\"\",\"title\":{\"standoff\":15},\"zerolinecolor\":\"#EBF0F8\",\"zerolinewidth\":2},\"yaxis\":{\"automargin\":true,\"gridcolor\":\"#EBF0F8\",\"linecolor\":\"#EBF0F8\",\"ticks\":\"\",\"title\":{\"standoff\":15},\"zerolinecolor\":\"#EBF0F8\",\"zerolinewidth\":2}}},\"title\":{\"font\":{\"size\":22,\"color\":\"Black\"},\"text\":\"\\u003cb\\u003eHierarchical Clustering\\u003c\\u002fb\\u003e\",\"x\":0.5,\"xanchor\":\"center\",\"yanchor\":\"top\"},\"hoverlabel\":{\"font\":{\"size\":16,\"family\":\"Rockwell\"},\"bgcolor\":\"white\"},\"plot_bgcolor\":\"#ECEFF1\"},                        {\"responsive\": true}                    )                };            </script>        </div>"
      ],
      "text/plain": [
       "Figure({\n",
       "    'data': [{'hoverinfo': 'text',\n",
       "              'marker': {'color': 'rgb(61,153,112)'},\n",
       "              'mode': 'lines',\n",
       "              'type': 'scatter',\n",
       "              'x': {'bdata': 'AAAAAAAAAAASFNFjaFjkPxIU0WNoWOQ/AAAAAAAAAAA=', 'dtype': 'f8'},\n",
       "              'xaxis': 'x',\n",
       "              'y': {'bdata': 'AAAAAAAAFMAAAAAAAAAUwAAAAAAAAC7AAAAAAAAALsA=', 'dtype': 'f8'},\n",
       "              'yaxis': 'y'},\n",
       "             {'hoverinfo': 'text',\n",
       "              'marker': {'color': 'rgb(61,153,112)'},\n",
       "              'mode': 'lines',\n",
       "              'type': 'scatter',\n",
       "              'x': {'bdata': 'AAAAAAAAAAC4HyJZelrXP7gfIll6Wtc/AAAAAAAAAAA=', 'dtype': 'f8'},\n",
       "              'xaxis': 'x',\n",
       "              'y': {'bdata': 'AAAAAAAAOcAAAAAAAAA5wAAAAAAAgEHAAAAAAACAQcA=', 'dtype': 'f8'},\n",
       "              'yaxis': 'y'},\n",
       "             {'hoverinfo': 'text',\n",
       "              'marker': {'color': 'rgb(61,153,112)'},\n",
       "              'mode': 'lines',\n",
       "              'type': 'scatter',\n",
       "              'x': {'bdata': 'EhTRY2hY5D/CeqeyLjbsP8J6p7IuNuw/uB8iWXpa1z8=', 'dtype': 'f8'},\n",
       "              'xaxis': 'x',\n",
       "              'y': {'bdata': 'AAAAAAAAJMAAAAAAAAAkwAAAAAAAAD7AAAAAAAAAPsA=', 'dtype': 'f8'},\n",
       "              'yaxis': 'y'},\n",
       "             {'hoverinfo': 'text',\n",
       "              'marker': {'color': 'rgb(255,65,54)'},\n",
       "              'mode': 'lines',\n",
       "              'type': 'scatter',\n",
       "              'x': {'bdata': 'AAAAAAAAAABOuOR4OSTVP0645Hg5JNU/AAAAAAAAAAA=', 'dtype': 'f8'},\n",
       "              'xaxis': 'x',\n",
       "              'y': {'bdata': 'AAAAAACAS8AAAAAAAIBLwAAAAAAAQFDAAAAAAABAUMA=', 'dtype': 'f8'},\n",
       "              'yaxis': 'y'},\n",
       "             {'hoverinfo': 'text',\n",
       "              'marker': {'color': 'rgb(255,65,54)'},\n",
       "              'mode': 'lines',\n",
       "              'type': 'scatter',\n",
       "              'x': {'bdata': 'AAAAAAAAAABrkT34teXgP2uRPfi15eA/TrjkeDkk1T8=', 'dtype': 'f8'},\n",
       "              'xaxis': 'x',\n",
       "              'y': {'bdata': 'AAAAAACARsAAAAAAAIBGwAAAAAAAAE7AAAAAAAAATsA=', 'dtype': 'f8'},\n",
       "              'yaxis': 'y'},\n",
       "             {'hoverinfo': 'text',\n",
       "              'marker': {'color': 'rgb(255,65,54)'},\n",
       "              'mode': 'lines',\n",
       "              'type': 'scatter',\n",
       "              'x': {'bdata': 'a5E9+LXl4D+nGyQoRpDjP6cbJChGkOM/AAAAAAAAAAA=', 'dtype': 'f8'},\n",
       "              'xaxis': 'x',\n",
       "              'y': {'bdata': 'AAAAAABASsAAAAAAAEBKwAAAAAAAwFLAAAAAAADAUsA=', 'dtype': 'f8'},\n",
       "              'yaxis': 'y'},\n",
       "             {'hoverinfo': 'text',\n",
       "              'marker': {'color': 'rgb(255,65,54)'},\n",
       "              'mode': 'lines',\n",
       "              'type': 'scatter',\n",
       "              'x': {'bdata': 'AAAAAAAAAAAELUhMAHvgPwQtSEwAe+A/AAAAAAAAAAA=', 'dtype': 'f8'},\n",
       "              'xaxis': 'x',\n",
       "              'y': {'bdata': 'AAAAAABAVcAAAAAAAEBVwAAAAAAAwFfAAAAAAADAV8A=', 'dtype': 'f8'},\n",
       "              'yaxis': 'y'},\n",
       "             {'hoverinfo': 'text',\n",
       "              'marker': {'color': 'rgb(255,65,54)'},\n",
       "              'mode': 'lines',\n",
       "              'type': 'scatter',\n",
       "              'x': {'bdata': 'pxskKEaQ4z/b55teF0fqP9vnm14XR+o/BC1ITAB74D8=', 'dtype': 'f8'},\n",
       "              'xaxis': 'x',\n",
       "              'y': {'bdata': 'AAAAAADgT8AAAAAAAOBPwAAAAAAAgFbAAAAAAACAVsA=', 'dtype': 'f8'},\n",
       "              'yaxis': 'y'},\n",
       "             {'hoverinfo': 'text',\n",
       "              'marker': {'color': 'rgb(35,205,205)'},\n",
       "              'mode': 'lines',\n",
       "              'type': 'scatter',\n",
       "              'x': {'bdata': 'AAAAAAAAAAB8t9rwzpbXP3y32vDOltc/AAAAAAAAAAA=', 'dtype': 'f8'},\n",
       "              'xaxis': 'x',\n",
       "              'y': {'bdata': 'AAAAAABAWsAAAAAAAEBawAAAAAAAwFzAAAAAAADAXMA=', 'dtype': 'f8'},\n",
       "              'yaxis': 'y'},\n",
       "             {'hoverinfo': 'text',\n",
       "              'marker': {'color': 'rgb(35,205,205)'},\n",
       "              'mode': 'lines',\n",
       "              'type': 'scatter',\n",
       "              'x': {'bdata': 'AAAAAAAAAAAAClynsuvWPwAKXKey69Y/AAAAAAAAAAA=', 'dtype': 'f8'},\n",
       "              'xaxis': 'x',\n",
       "              'y': {'bdata': 'AAAAAABAX8AAAAAAAEBfwAAAAAAA4GDAAAAAAADgYMA=', 'dtype': 'f8'},\n",
       "              'yaxis': 'y'},\n",
       "             {'hoverinfo': 'text',\n",
       "              'marker': {'color': 'rgb(35,205,205)'},\n",
       "              'mode': 'lines',\n",
       "              'type': 'scatter',\n",
       "              'x': {'bdata': 'fLfa8M6W1z9Y9K0/FfLjP1j0rT8V8uM/AApcp7Lr1j8=', 'dtype': 'f8'},\n",
       "              'xaxis': 'x',\n",
       "              'y': {'bdata': 'AAAAAACAW8AAAAAAAIBbwAAAAAAAQGDAAAAAAABAYMA=', 'dtype': 'f8'},\n",
       "              'yaxis': 'y'},\n",
       "             {'hoverinfo': 'text',\n",
       "              'marker': {'color': 'rgb(35,205,205)'},\n",
       "              'mode': 'lines',\n",
       "              'type': 'scatter',\n",
       "              'x': {'bdata': 'AAAAAAAAAAA0tly/YSvnPzS2XL9hK+c/AAAAAAAAAAA=', 'dtype': 'f8'},\n",
       "              'xaxis': 'x',\n",
       "              'y': {'bdata': 'AAAAAAAgYsAAAAAAACBiwAAAAAAAYGPAAAAAAABgY8A=', 'dtype': 'f8'},\n",
       "              'yaxis': 'y'},\n",
       "             {'hoverinfo': 'text',\n",
       "              'marker': {'color': 'rgb(35,205,205)'},\n",
       "              'mode': 'lines',\n",
       "              'type': 'scatter',\n",
       "              'x': {'bdata': 'WPStPxXy4z8SHhRDrDfuPxIeFEOsN+4/NLZcv2Er5z8=', 'dtype': 'f8'},\n",
       "              'xaxis': 'x',\n",
       "              'y': {'bdata': 'AAAAAAAAXsAAAAAAAABewAAAAAAAwGLAAAAAAADAYsA=', 'dtype': 'f8'},\n",
       "              'yaxis': 'y'},\n",
       "             {'hoverinfo': 'text',\n",
       "              'marker': {'color': 'rgb(0,116,217)'},\n",
       "              'mode': 'lines',\n",
       "              'type': 'scatter',\n",
       "              'x': {'bdata': '2+ebXhdH6j9Hdb3YMWvwP0d1vdgxa/A/Eh4UQ6w37j8=', 'dtype': 'f8'},\n",
       "              'xaxis': 'x',\n",
       "              'y': {'bdata': 'AAAAAAA4U8AAAAAAADhTwAAAAAAA4GDAAAAAAADgYMA=', 'dtype': 'f8'},\n",
       "              'yaxis': 'y'},\n",
       "             {'hoverinfo': 'text',\n",
       "              'marker': {'color': 'rgb(0,116,217)'},\n",
       "              'mode': 'lines',\n",
       "              'type': 'scatter',\n",
       "              'x': {'bdata': 'wnqnsi427D9ZjOjTgrrzP1mM6NOCuvM/R3W92DFr8D8=', 'dtype': 'f8'},\n",
       "              'xaxis': 'x',\n",
       "              'y': {'bdata': 'AAAAAAAANMAAAAAAAAA0wAAAAAAAfFrAAAAAAAB8WsA=', 'dtype': 'f8'},\n",
       "              'yaxis': 'y'}],\n",
       "    'layout': {'autosize': False,\n",
       "               'height': 440,\n",
       "               'hoverlabel': {'bgcolor': 'white', 'font': {'family': 'Rockwell', 'size': 16}},\n",
       "               'hovermode': 'closest',\n",
       "               'plot_bgcolor': '#ECEFF1',\n",
       "               'showlegend': False,\n",
       "               'template': '...',\n",
       "               'title': {'font': {'color': 'Black', 'size': 22},\n",
       "                         'text': '<b>Hierarchical Clustering</b>',\n",
       "                         'x': 0.5,\n",
       "                         'xanchor': 'center',\n",
       "                         'yanchor': 'top'},\n",
       "               'width': 1000,\n",
       "               'xaxis': {'mirror': 'allticks',\n",
       "                         'rangemode': 'tozero',\n",
       "                         'showgrid': False,\n",
       "                         'showline': True,\n",
       "                         'showticklabels': True,\n",
       "                         'ticks': 'outside',\n",
       "                         'type': 'linear',\n",
       "                         'zeroline': False},\n",
       "               'yaxis': {'mirror': 'allticks',\n",
       "                         'range': [-160.0, 0.0],\n",
       "                         'rangemode': 'tozero',\n",
       "                         'showgrid': False,\n",
       "                         'showline': True,\n",
       "                         'showticklabels': True,\n",
       "                         'tickmode': 'array',\n",
       "                         'ticks': 'outside',\n",
       "                         'ticktext': [12_vanguard_retirement_the,\n",
       "                                      9_center_hr_number, 3_enrollment_add_plan,\n",
       "                                      4_enrollment_event_benefit,\n",
       "                                      14_fmla_hour_eligibility,\n",
       "                                      2_fmla_document_leave, 0_leave_form_absence,\n",
       "                                      11_vacation_hour_leave,\n",
       "                                      8_discrepancy_hour_paycheck,\n",
       "                                      5_payment_pay_employee, 13_pfl_bonding_pay,\n",
       "                                      1_disability_employee_pay,\n",
       "                                      6_fmla_leave_employee,\n",
       "                                      7_request_leave_absence,\n",
       "                                      15_org_kp_consultant,\n",
       "                                      10_position_change_transfer],\n",
       "                         'tickvals': [-5.0, -15.0, -25.0, -35.0, -45.0, -55.0,\n",
       "                                      -65.0, -75.0, -85.0, -95.0, -105.0, -115.0,\n",
       "                                      -125.0, -135.0, -145.0, -155.0],\n",
       "                         'type': 'linear',\n",
       "                         'zeroline': False}}\n",
       "})"
      ]
     },
     "execution_count": 29,
     "metadata": {},
     "output_type": "execute_result"
    }
   ],
   "source": [
    "# Interactive topic overview\n",
    "topic_model.visualize_topics()\n",
    "\n",
    "# Keyword bar chart for a given topic number (e.g., topic 3)\n",
    "topic_model.visualize_barchart(top_n_topics=10)\n",
    "\n",
    "# Topic similarity hierarchy\n",
    "topic_model.visualize_hierarchy()"
   ]
  },
  {
   "cell_type": "markdown",
   "id": "37bf242e",
   "metadata": {},
   "source": [
    "Save our DF"
   ]
  },
  {
   "cell_type": "code",
   "execution_count": 87,
   "id": "72d0b1d1",
   "metadata": {},
   "outputs": [],
   "source": [
    "\n",
    "\n",
    "filtered_df.to_csv(\"../data/processed/with_topics.csv\", index=False)"
   ]
  },
  {
   "cell_type": "markdown",
   "id": "120664ce",
   "metadata": {},
   "source": [
    "Save the Model"
   ]
  },
  {
   "cell_type": "code",
   "execution_count": null,
   "id": "f7101f0f",
   "metadata": {},
   "outputs": [],
   "source": [
    "# Save model for later reuse\n",
    "topic_model.save(\"../models/bertopic_base_model\")\n",
    "\n",
    "# Save DataFrame with topics\n",
    "df.to_csv(\"../data/processed/with_topics.csv\", index=False)\n"
   ]
  }
 ],
 "metadata": {
  "kernelspec": {
   "display_name": "Python 3",
   "language": "python",
   "name": "python3"
  },
  "language_info": {
   "codemirror_mode": {
    "name": "ipython",
    "version": 3
   },
   "file_extension": ".py",
   "mimetype": "text/x-python",
   "name": "python",
   "nbconvert_exporter": "python",
   "pygments_lexer": "ipython3",
   "version": "3.10.1"
  }
 },
 "nbformat": 4,
 "nbformat_minor": 5
}
